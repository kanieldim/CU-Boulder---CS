{
 "cells": [
  {
   "cell_type": "markdown",
   "metadata": {},
   "source": [
    "<a id='top'></a>\n",
    "\n",
    "# CSCI3022 F20\n",
    "# Homework 6: Confidence Intervals\n",
    "***\n",
    "\n",
    "**Name**: Daniel Kim\n",
    "\n",
    "***\n",
    "\n",
    "This assignment is due on Canvas by **MIDNIGHT on Monday November 2**. Your solutions to theoretical questions should be done in Markdown directly below the associated question.  Your solutions to computational questions should include any specified Python code and results as well as written commentary on your conclusions.  Remember that you are encouraged to discuss the problems with your classmates, but **you must write all code and solutions on your own**.\n",
    "\n",
    "**NOTES**: \n",
    "\n",
    "- Any relevant data sets should be available under the **Data** module on Canvas, as well as in the zipped folder in which you obtained this assignment. \n",
    "- Do **NOT** load or use any Python packages that are not available in Anaconda 3.6. \n",
    "- Because you can technically evaluate notebook cells in a non-linear order, it's a good idea to do Kernel $\\rightarrow$ Restart & Run All as a check before submitting your solutions.  That way if we need to run your code you will know that it will work as expected. \n",
    "- It is **bad form** to make your reader interpret numerical output from your code.  If a question asks you to compute some value from the data you should show your code output **AND** write a summary of the results in Markdown directly below your code. \n",
    "- You **MUST** leave all of your notebook cells **evaluated** so the graders do not need to re-evaluate them. For 100+ students, this extra time adds up, and makes the graders' lives unnecessarily more difficult.\n",
    "- This probably goes without saying, but... For any question that asks you to calculate something, you **must show all work and justify your answers to receive credit**. Sparse or nonexistent work will receive sparse or nonexistent credit. \n",
    "- Submit only this Jupyter notebook to Canvas.  Do not compress it using tar, rar, zip, etc. \n",
    "\n",
    "---\n",
    "**Shortcuts:**  [Problem 1](#p1) | [Problem 2](#p2) | [Problem 3](#p3) | \n",
    "---"
   ]
  },
  {
   "cell_type": "code",
   "execution_count": 84,
   "metadata": {
    "scrolled": true
   },
   "outputs": [],
   "source": [
    "import numpy as np\n",
    "import math\n",
    "import scipy.stats as stats\n",
    "import matplotlib.pyplot as plt\n",
    "import pandas as pd\n",
    "%matplotlib inline"
   ]
  },
  {
   "cell_type": "markdown",
   "metadata": {},
   "source": [
    "<br>\n",
    "\n",
    "---\n",
    "<a/ id='p2'></a>\n",
    "[Back to top](#top)\n",
    "## [20 points] Problem 1 - Random Samples from ANYWHERE\n",
    "\n",
    "\n",
    "In notebook 12, we looked at one method many pieces of statistical software use to turn pseudorandom numbers coming from the $U(0,1)$ distribution into those with a normal distribution.  In this problem we examine another such method.\n",
    "\n",
    "### a) Simulating an Exponential\n",
    "#### i ) The exponential distribution has pdf $f(x)= \\lambda e^{-\\lambda x}$ for $x\\ge 0$.  Use the following markdown cell to compute by hand the cdf of the exponential."
   ]
  },
  {
   "cell_type": "markdown",
   "metadata": {},
   "source": [
    "$f(x)= \\lambda e^{-\\lambda x}, x\\ge 0$     $ \\Big| F(x) = P(X \\leq x)$\n",
    "\n",
    "$\\int_0^ x \\! f(x) \\, \\mathrm{d}x$\n",
    "\n",
    "$= \\int_0^ x \\!  \\, \\lambda e^{-\\lambda x} \\mathrm{d}x$\n",
    "\n",
    "$= -e^{-\\lambda x} \\Big|_0^x \\$\n",
    "\n",
    "$= -e^{-\\lambda x} -  (-e^{-\\lambda(0)}) $\n",
    "\n",
    "$= -e^{-\\lambda x} - ( - 1)$\n",
    "\n",
    "$F(X) = -e^{-\\lambda x} + 1, x\\ge 0$\n",
    "\n"
   ]
  },
  {
   "cell_type": "markdown",
   "metadata": {},
   "source": [
    "#### ii) The cdf is a function that takes x-values (or times, in the case of the exponential) and returns probabilities as the y-values.  Specifically, it returns the probability $P(X \\leq x)$.  Find the *inverse* of this function, that takes as input probabilities and outputs times."
   ]
  },
  {
   "cell_type": "markdown",
   "metadata": {},
   "source": [
    "Since we have $ F(X) = -e^{-\\lambda x} + 1 $ and we are looking for the inverse, we just need to set $F(x)$ equal to y and solve for x:\n",
    "\n",
    "\n",
    "$ y = -e^{-\\lambda x} + 1 $\n",
    "\n",
    "$ e^{-\\lambda x} = -y + 1 $\n",
    "\n",
    "$ -\\lambda x = \\ln(-y + 1) $\n",
    "\n",
    "$ x = - \\frac{\\ln(-y + 1)}{\\lambda} $\n",
    "\n"
   ]
  },
  {
   "cell_type": "markdown",
   "metadata": {},
   "source": [
    "\n",
    "#### iii) Simulate 1000 random $U(0,1)$ variables.  Since these are numbers in $[0,1]$, we could think of them as random *probabilities*.  Plug them into the function you found in ii), then plot a histogram of the results.  Overlay the theoretical density of the exponential.  For each of these, use $\\lambda=1/4$."
   ]
  },
  {
   "cell_type": "code",
   "execution_count": 105,
   "metadata": {},
   "outputs": [
    {
     "data": {
      "image/png": "[encoded data removed]",
      "text/plain": [
       "<Figure size 432x288 with 1 Axes>"
      ]
     },
     "metadata": {
      "needs_background": "light"
     },
     "output_type": "display_data"
    }
   ],
   "source": [
    "import random\n",
    "\n",
    "result = []\n",
    "for i in range(1000):\n",
    "    x = random.uniform(0, 1)\n",
    "    y = - 4 * (math.log(-x + 1))\n",
    "    result.append(y)\n",
    "\n",
    "plt.hist(result, range=[0,20], density = True)\n",
    "plt.xlabel('Inverse Function')\n",
    "plt.ylabel('Density')\n",
    "plt.show()\n",
    "    \n"
   ]
  },
  {
   "cell_type": "markdown",
   "metadata": {},
   "source": [
    "### b) Simulating a new distribution\n",
    "#### i) Consider a continuous random variable given by $f(x)=cos(x)$ for $x \\in [0, \\pi/2]$.  Find the cdf and inverse cdf of X."
   ]
  },
  {
   "cell_type": "markdown",
   "metadata": {},
   "source": [
    "$\\int_0^ x \\! f(x) \\, \\mathrm{d}x$\n",
    "\n",
    "$= \\int_0^ x \\!  \\, cos(x) \\mathrm{d}x$\n",
    "\n",
    "$= sin(x) \\Big|_0^x \\$\n",
    "\n",
    "$= sin(x) - sin(0)  $\n",
    "\n",
    "$ F(x) = sin(x) $\n",
    "\n",
    "Now the inverse of F(x) would be:\n",
    "\n",
    "$y = \\arcsin(x) $ \n",
    "\n"
   ]
  },
  {
   "cell_type": "markdown",
   "metadata": {},
   "source": [
    "\n",
    "#### ii) Simulate draws from X by simulating 1000 $U[0,1]$ random variables and plugging them into the inverse cdf in i).  As in part a), plot a histogram of the random variables against their density function."
   ]
  },
  {
   "cell_type": "code",
   "execution_count": 102,
   "metadata": {},
   "outputs": [
    {
     "data": {
      "image/png": "[encoded data removed]",
      "text/plain": [
       "<Figure size 432x288 with 1 Axes>"
      ]
     },
     "metadata": {
      "needs_background": "light"
     },
     "output_type": "display_data"
    }
   ],
   "source": [
    "import random\n",
    "\n",
    "result = []\n",
    "density = np.array([])\n",
    "xValue = np.arange(0, math.pi / 2, 0.1)\n",
    "\n",
    "for i in range(len(xValue)):\n",
    "    cosValue = np.cos(xValue[i])\n",
    "    density = np.append(density, cosValue)\n",
    "\n",
    "\n",
    "for i in range(1000):\n",
    "    x = random.uniform(0,1)\n",
    "    y = math.asin(x)\n",
    "    result.append(y)\n",
    "\n",
    "plt.hist(result, range=[0, math.pi / 2], density = True)\n",
    "plt.xlabel('Inverse Function')\n",
    "plt.ylabel('Density')\n",
    "plt.plot(xValue, density)\n",
    "plt.show()\n",
    "\n"
   ]
  },
  {
   "cell_type": "markdown",
   "metadata": {},
   "source": [
    "### c) Backwards Normals\n",
    "\n",
    "The process we're following could be summarized as follows, referencing functions we know for many distributions:\n",
    "\n",
    "- Sample from U(0,1)\n",
    "- Plug those samples each into the .ppf (\"Percentile Point Function,\" or inverse of the CDF) for the random variable.\n",
    "- Save the output\n",
    "\n",
    "Now, follow this process for normal random variables.  Sample 1000 random normal variables using `norm.rvs` and then generate 100 random normal variable by transforming 1000 random variables from their `norm.ppfs`.  Plot both samples in an overlapping histogram."
   ]
  },
  {
   "cell_type": "code",
   "execution_count": 101,
   "metadata": {},
   "outputs": [
    {
     "data": {
      "image/png": "[encoded data removed]",
      "text/plain": [
       "<Figure size 432x288 with 1 Axes>"
      ]
     },
     "metadata": {
      "needs_background": "light"
     },
     "output_type": "display_data"
    }
   ],
   "source": [
    "xValue = np.random.uniform(0,1,1000)    \n",
    "normalVariable = stats.norm.rvs(0,1,1000)\n",
    "\n",
    "normalXSample = stats.norm.ppf(xValue)\n",
    "normalVariableSample =stats.norm.ppf(normalVariable)\n",
    "\n",
    "plt.hist(normalXSample, alpha = 0.8, color = \"grey\", density = True)\n",
    "plt.hist(normalVariableSample, alpha = 0.3, color = \"red\", density = True)\n",
    "\n",
    "plt.xlabel('Percentile Point Function')\n",
    "plt.ylabel('Frequency')\n",
    "plt.show()\n",
    "    \n"
   ]
  },
  {
   "cell_type": "markdown",
   "metadata": {},
   "source": [
    "### d) Generalizing\n",
    "\n",
    "Describe in words how this process might work on a discrete random variable.  It is optional but may be useful to use the Bernoulli as an example or implement this process in code."
   ]
  },
  {
   "cell_type": "markdown",
   "metadata": {},
   "source": [
    "I believe that the discrete random variable might work since discrete random variable probability is between 0 and 1. In other words, the sum of all probabilities will equal to 1. Because we use norm.ppf to generate a number between 0 to 1, it might return a standard deviation multiplier adding up to the total probability of 1."
   ]
  },
  {
   "cell_type": "markdown",
   "metadata": {},
   "source": [
    "<br>\n",
    "\n",
    "---\n",
    "<a/ id='p2'></a>\n",
    "[Back to top](#top)\n",
    "## [20 points] Problem 2 - Exploring Confidence Intervals \n",
    "\n",
    "The [Gamma](https://en.wikipedia.org/wiki/Gamma_distribution) distribution is one of several distributions frequently used to model event times, as it's the sum of exponentials.  It can also be fairly asymmetric, and thus interesting for investigating confidence intervals.  It is implemented in scipy.stats as [gamma](https://docs.scipy.org/doc/scipy/reference/generated/scipy.stats.gamma.html).  (NB: check the links!)"
   ]
  },
  {
   "cell_type": "markdown",
   "metadata": {},
   "source": [
    "**Part A**: Complete the following code cell to plot a histogram of 100 realizations from the Gamma distribution with parameters $k=4$ (a) and $\\theta=10$ (scale).  Be sure to leave this cell executed before turning in your assignment! Make your histogram faces gray with blue edges."
   ]
  },
  {
   "cell_type": "code",
   "execution_count": 126,
   "metadata": {},
   "outputs": [
    {
     "data": {
      "image/png": "[encoded data removed]",
      "text/plain": [
       "<Figure size 576x288 with 1 Axes>"
      ]
     },
     "metadata": {
      "needs_background": "light"
     },
     "output_type": "display_data"
    },
    {
     "name": "stdout",
     "output_type": "stream",
     "text": [
      "40\n"
     ]
    }
   ],
   "source": [
    "#GIVEN CODE (updated):\n",
    "k = 4\n",
    "theta = 10\n",
    "n_sample = 100\n",
    "x = stats.gamma.rvs(k, scale = theta, size = n_sample, loc = 0)\n",
    "\n",
    "fig, ax = plt.subplots(nrows=1, ncols=1, figsize=(8,4))\n",
    "# Your code goes here!\n",
    "\n",
    "plt.title('Gamma Distibution')\n",
    "plt.xlabel('Values')\n",
    "plt.ylabel('Frequency')\n",
    "plt.hist(x, color = 'gray', edgecolor = 'blue')\n",
    "plt.show()\n",
    "\n",
    "print(mean)"
   ]
  },
  {
   "cell_type": "markdown",
   "metadata": {},
   "source": [
    "**Part B:** Look up the analytical mean and variance (from the documentation or wiki) of the Gamma distribution with parameters $k=4$ and $\\theta=10$ and calculate them here by hand.\n",
    "\n",
    "Use the empirical mean from your sample in **Part A**, and the true variance of the Gamma distribution to compute by hand a 95% confidence interval for the mean."
   ]
  },
  {
   "cell_type": "markdown",
   "metadata": {},
   "source": [
    "**Analytical Results in this cell.**\n",
    "\n"
   ]
  },
  {
   "cell_type": "code",
   "execution_count": 127,
   "metadata": {},
   "outputs": [
    {
     "name": "stdout",
     "output_type": "stream",
     "text": [
      "40\n",
      "400\n",
      "\n",
      "42.66790990519523 464.30572342140056\n"
     ]
    }
   ],
   "source": [
    "#Your CI\n",
    "\n",
    "mean = k * theta\n",
    "print(mean)\n",
    "\n",
    "variance = k * (theta ** 2)\n",
    "print(variance)\n",
    "print()\n",
    "\n",
    "empiricalMean = np.mean(x)\n",
    "trueVariance = np.var(x)\n",
    "print(empiricalMean, trueVariance)"
   ]
  },
  {
   "cell_type": "markdown",
   "metadata": {},
   "source": [
    "Formula to get CI\n",
    "\n",
    "$\\displaystyle CI = \\bar{X} \\pm z_{\\alpha/2}\\left(\\frac{\\sigma}{\\sqrt{n}}\\right)$\n",
    "\n",
    "$ \\bar{X} = $ Sample mean\n",
    "\n",
    "$ \\sigma = $ Gamma\n",
    "\n",
    "$z_{\\alpha/2} = stats.norm.ppf(1-(0.05/2)) = 1.96$\n",
    "\n",
    "$ n = 100$\n",
    "\n",
    "$ \\therefore \\displaystyle CI = 400 \\pm 1.96 \\left(\\frac{400}{\\sqrt{100}}\\right)$  "
   ]
  },
  {
   "cell_type": "markdown",
   "metadata": {},
   "source": [
    "**Part C:  A theoretical interlude.** When Lola, the famous Beagle data scientist, ran her solution code for **Part B**, she obtained a 95% confidence interval of $[38.5, 40.5]$ for the mean of the $Gamma(k=4, \\theta=10)$ distribution. For each of the following, explain why or why not the situation described is correct, given the technical definition of a 95% confidence interval we went over in class.\n",
    "\n",
    "**(i)** If you had no other evidence regarding true mean of the $Gamma(k=4, \\theta=10)$ distribution, you could say there is a 95% chance that its true mean falls between 38.5 and 40.5.\n",
    "\n",
    "**(ii)** If a class of 100 students all construct 95% confidence intervals for the mean of the $Gamma(k=4, \\theta=10)$ distribution, then we expect about 95 of their CIs to contain the true mean, and about 5 of them to miss the true mean.\n",
    "\n",
    "**(iii)** If we sample 100 random variables from the $Gamma(k=4, \\theta=10)$ distribution, then roughly 95% of them will be between 38.5 and 40.5."
   ]
  },
  {
   "cell_type": "markdown",
   "metadata": {
    "collapsed": true
   },
   "source": [
    "**Answer in this cell.**\n",
    "\n",
    "i) Correct. Because Lola obtained a 95% confidence interval of 38.5 and 40.5, this implies that 95% of the means are found in the range.\n",
    "\n",
    "ii) Incorrect. Even though a class of 100 students all construct 95% confidence intervals, this does not mean that 95% of the studnets will get an interval with the true mean.\n",
    "\n",
    "iii) Incorrect. The CI the problem provided does not tell you about the distribution of variables."
   ]
  },
  {
   "cell_type": "markdown",
   "metadata": {},
   "source": [
    "**Part D:** In this part you'll write a function to investigate the _coverage properties_ of a confidence interval for the mean of the Gamma distribution. Complete the following function to randomly sample $m=500$ sample means with sample size $n=100$ for the Gamma distribution with parameters $k=4$ and $\\theta=10$.  For each random sample, compute the 66% confidence interval for the mean. Note that you actually know the variance for the true population distribution, $\\sigma^2$ from Part B.  Your function should do two things: \n",
    "\n",
    "1. Report the proportion of confidence intervals that successfully cover the true mean of the distribution \n",
    "2. Make a plot of 50 randomly selected confidence intervals. Overlay the intervals on the line $y=\\textrm{True mean}$ (from **Part B**). Color confidence intervals steelblue if they cover the true mean, and coral if they don't.  \n",
    "\n",
    "Be sure to leave this cell executed before turning in your assignment!"
   ]
  },
  {
   "cell_type": "code",
   "execution_count": 137,
   "metadata": {},
   "outputs": [],
   "source": [
    "# GIVEN CODE:\n",
    "\n",
    "def confidence_intervals(m=500, n=100):\n",
    "    k = 4\n",
    "    theta = 2\n",
    "    \n",
    "    # Your code goes here!\n",
    "    #Proportion covering\n",
    "    #Plot of 50 such CIs\n",
    "    \n",
    "    \n",
    "confidence_intervals()"
   ]
  },
  {
   "cell_type": "markdown",
   "metadata": {},
   "source": [
    "**Part E:** Does the proportion of confidence intervals that cover the true mean of the distribution agree with the theory described in class?  Justify your conclusion. "
   ]
  },
  {
   "cell_type": "markdown",
   "metadata": {},
   "source": [
    "**Answer in this cell.**\n"
   ]
  },
  {
   "cell_type": "markdown",
   "metadata": {},
   "source": [
    "---\n",
    "\n",
    "<a id='p3'></a>\n",
    "[Back to top](#top)\n",
    "\n",
    "### [20 points] Problem 3 - Lies, damned lies, and statistics\n",
    "\n",
    "![frazz](http://3.bp.blogspot.com/-SbQUWRfHFXk/VdN8YWAy0WI/AAAAAAAAJLw/Ij5E0CbYk6g/s1600/lies3.gif)\n",
    "\n",
    "Legend of your Data Science prowess has spread o'er the land. You have been contacted by a shadowy organization to assess whether there is statistical evidence for sea-level rise in the area of Honolulu, Hawaii. You obtain from the University of Hawaii Sea Level Center's [gigantic repository of sea-level data](https://uhslc.soest.hawaii.edu/data/?rq) the daily mean sea levels file included in the zip folder for this assignment. The columns are, in order, the year, month, day-of-month and measured sea level (in millimeters)."
   ]
  },
  {
   "cell_type": "markdown",
   "metadata": {},
   "source": [
    "**Part A:** Load the data `sealevel_honolulu.csv` into a Pandas DataFrame. Rename the columns as something meaningful in the context of this problem. Print to the screen the first 7 rows from your updated DataFrame."
   ]
  },
  {
   "cell_type": "code",
   "execution_count": 42,
   "metadata": {},
   "outputs": [
    {
     "data": {
      "text/html": [
       "<div>\n",
       "<style scoped>\n",
       "    .dataframe tbody tr th:only-of-type {\n",
       "        vertical-align: middle;\n",
       "    }\n",
       "\n",
       "    .dataframe tbody tr th {\n",
       "        vertical-align: top;\n",
       "    }\n",
       "\n",
       "    .dataframe thead th {\n",
       "        text-align: right;\n",
       "    }\n",
       "</style>\n",
       "<table border=\"1\" class=\"dataframe\">\n",
       "  <thead>\n",
       "    <tr style=\"text-align: right;\">\n",
       "      <th></th>\n",
       "      <th>Year</th>\n",
       "      <th>Month</th>\n",
       "      <th>Day</th>\n",
       "      <th>Measured Sea Level (MSL)</th>\n",
       "    </tr>\n",
       "  </thead>\n",
       "  <tbody>\n",
       "    <tr>\n",
       "      <th>0</th>\n",
       "      <td>1905</td>\n",
       "      <td>1</td>\n",
       "      <td>2</td>\n",
       "      <td>1263</td>\n",
       "    </tr>\n",
       "    <tr>\n",
       "      <th>1</th>\n",
       "      <td>1905</td>\n",
       "      <td>1</td>\n",
       "      <td>3</td>\n",
       "      <td>1264</td>\n",
       "    </tr>\n",
       "    <tr>\n",
       "      <th>2</th>\n",
       "      <td>1905</td>\n",
       "      <td>1</td>\n",
       "      <td>4</td>\n",
       "      <td>1269</td>\n",
       "    </tr>\n",
       "    <tr>\n",
       "      <th>3</th>\n",
       "      <td>1905</td>\n",
       "      <td>1</td>\n",
       "      <td>5</td>\n",
       "      <td>1294</td>\n",
       "    </tr>\n",
       "    <tr>\n",
       "      <th>4</th>\n",
       "      <td>1905</td>\n",
       "      <td>1</td>\n",
       "      <td>6</td>\n",
       "      <td>1311</td>\n",
       "    </tr>\n",
       "    <tr>\n",
       "      <th>5</th>\n",
       "      <td>1905</td>\n",
       "      <td>1</td>\n",
       "      <td>7</td>\n",
       "      <td>1330</td>\n",
       "    </tr>\n",
       "    <tr>\n",
       "      <th>6</th>\n",
       "      <td>1905</td>\n",
       "      <td>1</td>\n",
       "      <td>8</td>\n",
       "      <td>1351</td>\n",
       "    </tr>\n",
       "  </tbody>\n",
       "</table>\n",
       "</div>"
      ],
      "text/plain": [
       "   Year  Month  Day  Measured Sea Level (MSL)\n",
       "0  1905      1    2                      1263\n",
       "1  1905      1    3                      1264\n",
       "2  1905      1    4                      1269\n",
       "3  1905      1    5                      1294\n",
       "4  1905      1    6                      1311\n",
       "5  1905      1    7                      1330\n",
       "6  1905      1    8                      1351"
      ]
     },
     "execution_count": 42,
     "metadata": {},
     "output_type": "execute_result"
    }
   ],
   "source": [
    "df = pd.read_csv(\"sealevel_honolulu.csv\", header = None)\n",
    "\n",
    "df.rename(columns = {0: \"Year\", 1: \"Month\", 2: \"Day\", 3: \"Measured Sea Level (MSL)\"}, inplace = True)\n",
    "df.head(7)"
   ]
  },
  {
   "cell_type": "markdown",
   "metadata": {},
   "source": [
    "**Part B:**  Plot the raw time series of sea levels. Be sure to label your axes, including units. For the $x$-axis, place the $x$ tick marks on January 2 of each year that is divisible by 10 (i.e., 1920, 1930, ...), and label with that year. You may need to do additional processing in order to grab these indices. "
   ]
  },
  {
   "cell_type": "code",
   "execution_count": 29,
   "metadata": {
    "scrolled": false
   },
   "outputs": [
    {
     "data": {
      "image/png": "[encoded data removed]",
      "text/plain": [
       "<Figure size 1152x576 with 1 Axes>"
      ]
     },
     "metadata": {
      "needs_background": "light"
     },
     "output_type": "display_data"
    }
   ],
   "source": [
    "index_label = df.index[(df[\"Month\"] == 1) & (df[\"Day\"] == 2) & (df[\"Year\"]%10 == 0)]\n",
    "\n",
    "fig, ax = plt.subplots(nrows = 1, ncols = 1, figsize = (16, 8))\n",
    "df[\"Measured Sea Level (MSL)\"].plot()\n",
    "\n",
    "ax.set_xticks(index_label)\n",
    "ax.set_xticklabels(df.loc[index_label, \"Year\"])\n",
    "ax.set_xlabel(\"Year\")\n",
    "ax.set_ylabel(\"Sea level (mm)\")\n",
    "ax.set_title(\"Sea Level in Honolulu, Hawaii\");"
   ]
  },
  {
   "cell_type": "markdown",
   "metadata": {},
   "source": [
    "**Part C:** Your time series plot from Part B should look pretty funky. Namely, there are a bunch of spikes in it! What do you think these spikes represent?\n",
    "\n",
    "Now, clean your data set by doing the following:\n",
    "* Remove any data points associated with these spikes. You may need to look back to some of the earlier in-class notebooks and Pandas tutorials for how to drop data points from a Pandas DataFrame. \n",
    "* Include only the data point from the second day of each month.\n",
    "* Convert the sea-level data from millimeters to feet.\n",
    "\n",
    "Then, make a similar plot to Part B, but of your cleaned data set. Be sure to label axes (including units) and only label January 2 of each year that is divisible by 10."
   ]
  },
  {
   "cell_type": "code",
   "execution_count": 33,
   "metadata": {},
   "outputs": [
    {
     "data": {
      "image/png": "[encoded data removed]",
      "text/plain": [
       "<Figure size 576x288 with 1 Axes>"
      ]
     },
     "metadata": {
      "needs_background": "light"
     },
     "output_type": "display_data"
    }
   ],
   "source": [
    "dfClean = df.copy()\n",
    "dfClean['Measured Sea Level (MSL)'] = dfClean['Measured Sea Level (MSL)'] * 0.00328084\n",
    "\n",
    "removeLow = dfClean.loc[dfClean[\"Measured Sea Level (MSL)\"] < -20, \"Measured Sea Level (MSL)\"].median()\n",
    "dfClean.loc[dfClean[\"Measured Sea Level (MSL)\"] == removeLow, \"Measured Sea Level (MSL)\"] = np.nan\n",
    "\n",
    "dfClean.dropna(subset=[\"Measured Sea Level (MSL)\"], inplace=True)\n",
    "ind_monthly = dfClean.index[dfClean[\"Day\"] == 2]\n",
    "\n",
    "dfClean = dfClean.loc[ind_monthly, :]\n",
    "index_label = df.index[(df[\"Month\"] == 1) & (df[\"Day\"] == 2) & (df[\"Year\"]%10 == 0)]\n",
    "\n",
    "\n",
    "fig, ax = plt.subplots(nrows=1, ncols=1, figsize=(8,4))\n",
    "dfClean[\"Measured Sea Level (MSL)\"].plot()\n",
    "ax.set_xticks(index_label)\n",
    "ax.set_xticklabels(df.loc[index_label, \"Year\"])\n",
    "ax.set_xlabel(\"Year\")\n",
    "ax.set_ylabel(\"Sea level (ft)\")\n",
    "ax.set_title(\"Sea Level in Honolulu, Hawaii\");"
   ]
  },
  {
   "cell_type": "markdown",
   "metadata": {},
   "source": [
    "**Part D:** Your mysterious employer owns a lot of beachfront property in Hawaii and does not want to see people shy away from buying real estate and spending time near the sea. So, they really want to convince others to that the mean sea level in Honolulu in not increasing. Toward this end, your employer wants to find a decade of data (11 years, including both end points) that has a mean sea level which is not statistically significantly different from the mean sea level in the decade 2000-2010 (including data from both 2000 and 2010). Your employer wants you to use the 99% confidence/1% significance level because it sounds catchy in a press release, and wants the *earliest* decade possible.\n",
    "\n",
    "Use your cleaned monthly data set from Part C to find the earliest decade for which you cannot conclude the mean sea level at Key West was statistically significantly different from the mean sea level in the 2000-2010 decade. You may want to write a helper function to compute the confidence intervals/perform the hypothesis test for you, because there are a LOT of possible 11-year periods to try. (*NOTE: The decade start / end years don't have to end with a 0. For example, 2008 - 2018 is the latest \"decade\" that exists in our dataset.*)\n",
    "\n",
    "You may use either hypothesis tests or confidence intervals, but clearly state which method you will use, your results and show all work that leads to your conclusion. "
   ]
  },
  {
   "cell_type": "code",
   "execution_count": 40,
   "metadata": {
    "scrolled": true
   },
   "outputs": [
    {
     "name": "stdout",
     "output_type": "stream",
     "text": [
      "Confidence Interval for 1900 ~ 1910: [4.08, 4.22]\n",
      "Confidence Interval for 1901 ~ 1911: [4.07, 4.20]\n",
      "Confidence Interval for 1902 ~ 1912: [4.08, 4.19]\n",
      "Confidence Interval for 1903 ~ 1913: [4.09, 4.19]\n",
      "Confidence Interval for 1904 ~ 1914: [4.12, 4.22]\n",
      "Confidence Interval for 1905 ~ 1915: [4.15, 4.25]\n",
      "Confidence Interval for 1906 ~ 1916: [4.17, 4.28]\n",
      "Confidence Interval for 1907 ~ 1917: [4.17, 4.28]\n",
      "Confidence Interval for 1908 ~ 1918: [4.16, 4.26]\n",
      "Confidence Interval for 1909 ~ 1919: [4.17, 4.28]\n",
      "Confidence Interval for 1910 ~ 1920: [4.23, 4.34]\n",
      "Confidence Interval for 1911 ~ 1921: [4.26, 4.37]\n",
      "Confidence Interval for 1912 ~ 1922: [4.29, 4.39]\n",
      "Confidence Interval for 1913 ~ 1923: [4.31, 4.41]\n",
      "Confidence Interval for 1914 ~ 1924: [4.32, 4.41]\n",
      "Confidence Interval for 1915 ~ 1925: [4.32, 4.41]\n",
      "Confidence Interval for 1916 ~ 1926: [4.31, 4.39]\n",
      "Confidence Interval for 1917 ~ 1927: [4.30, 4.39]\n",
      "Confidence Interval for 1918 ~ 1928: [4.29, 4.38]\n",
      "Confidence Interval for 1919 ~ 1929: [4.30, 4.39]\n",
      "Confidence Interval for 1920 ~ 1930: [4.30, 4.39]\n",
      "Confidence Interval for 1921 ~ 1931: [4.28, 4.36]\n",
      "Confidence Interval for 1922 ~ 1932: [4.28, 4.36]\n",
      "Confidence Interval for 1923 ~ 1933: [4.28, 4.36]\n",
      "Confidence Interval for 1924 ~ 1934: [4.27, 4.35]\n",
      "Confidence Interval for 1925 ~ 1935: [4.29, 4.37]\n",
      "Confidence Interval for 1926 ~ 1936: [4.29, 4.37]\n",
      "Confidence Interval for 1927 ~ 1937: [4.29, 4.37]\n",
      "Confidence Interval for 1928 ~ 1938: [4.30, 4.38]\n",
      "Confidence Interval for 1929 ~ 1939: [4.31, 4.39]\n",
      "Confidence Interval for 1930 ~ 1940: [4.35, 4.43]\n",
      "Confidence Interval for 1931 ~ 1941: [4.36, 4.44]\n",
      "Confidence Interval for 1932 ~ 1942: [4.36, 4.44]\n",
      "Confidence Interval for 1933 ~ 1943: [4.38, 4.47]\n",
      "Confidence Interval for 1934 ~ 1944: [4.40, 4.49]\n",
      "Confidence Interval for 1935 ~ 1945: [4.41, 4.50]\n",
      "Confidence Interval for 1936 ~ 1946: [4.43, 4.51]\n",
      "Confidence Interval for 1937 ~ 1947: [4.43, 4.52]\n",
      "Confidence Interval for 1938 ~ 1948: [4.44, 4.52]\n",
      "Confidence Interval for 1939 ~ 1949: [4.44, 4.53]\n",
      "Confidence Interval for 1940 ~ 1950: [4.45, 4.54]\n",
      "Confidence Interval for 1941 ~ 1951: [4.44, 4.53]\n",
      "Confidence Interval for 1942 ~ 1952: [4.44, 4.53]\n",
      "Confidence Interval for 1943 ~ 1953: [4.44, 4.52]\n",
      "Confidence Interval for 1944 ~ 1954: [4.43, 4.50]\n",
      "Confidence Interval for 1945 ~ 1955: [4.40, 4.48]\n",
      "Confidence Interval for 1946 ~ 1956: [4.39, 4.48]\n",
      "Confidence Interval for 1947 ~ 1957: [4.39, 4.47]\n",
      "Confidence Interval for 1948 ~ 1958: [4.39, 4.48]\n",
      "Confidence Interval for 1949 ~ 1959: [4.42, 4.52]\n",
      "Confidence Interval for 1950 ~ 1960: [4.42, 4.51]\n",
      "Confidence Interval for 1951 ~ 1961: [4.43, 4.53]\n",
      "Confidence Interval for 1952 ~ 1962: [4.44, 4.54]\n",
      "Confidence Interval for 1953 ~ 1963: [4.45, 4.55]\n",
      "Confidence Interval for 1954 ~ 1964: [4.46, 4.56]\n",
      "Confidence Interval for 1955 ~ 1965: [4.46, 4.56]\n",
      "Confidence Interval for 1956 ~ 1966: [4.49, 4.58]\n",
      "Confidence Interval for 1957 ~ 1967: [4.49, 4.58]\n",
      "Confidence Interval for 1958 ~ 1968: [4.49, 4.59]\n",
      "Confidence Interval for 1959 ~ 1969: [4.50, 4.60]\n",
      "Confidence Interval for 1960 ~ 1970: [4.48, 4.57]\n",
      "Confidence Interval for 1961 ~ 1971: [4.48, 4.58]\n",
      "Confidence Interval for 1962 ~ 1972: [4.47, 4.56]\n",
      "Confidence Interval for 1963 ~ 1973: [4.46, 4.56]\n",
      "Confidence Interval for 1964 ~ 1974: [4.47, 4.57]\n",
      "Confidence Interval for 1965 ~ 1975: [4.46, 4.56]\n",
      "Confidence Interval for 1966 ~ 1976: [4.47, 4.57]\n",
      "Confidence Interval for 1967 ~ 1977: [4.47, 4.57]\n",
      "Confidence Interval for 1968 ~ 1978: [4.50, 4.60]\n",
      "Confidence Interval for 1969 ~ 1979: [4.51, 4.60]\n",
      "Confidence Interval for 1970 ~ 1980: [4.51, 4.60]\n",
      "Confidence Interval for 1971 ~ 1981: [4.54, 4.64]\n",
      "Confidence Interval for 1972 ~ 1982: [4.55, 4.65]\n",
      "Confidence Interval for 1973 ~ 1983: [4.56, 4.66]\n",
      "Confidence Interval for 1974 ~ 1984: [4.57, 4.67]\n",
      "Confidence Interval for 1975 ~ 1985: [4.57, 4.66]\n",
      "Confidence Interval for 1976 ~ 1986: [4.56, 4.66]\n",
      "Confidence Interval for 1977 ~ 1987: [4.56, 4.66]\n",
      "Confidence Interval for 1978 ~ 1988: [4.59, 4.68]\n",
      "Confidence Interval for 1979 ~ 1989: [4.59, 4.68]\n",
      "Confidence Interval for 1980 ~ 1990: [4.57, 4.67]\n",
      "Confidence Interval for 1981 ~ 1991: [4.55, 4.65]\n",
      "Confidence Interval for 1982 ~ 1992: [4.54, 4.64]\n",
      "Confidence Interval for 1983 ~ 1993: [4.56, 4.66]\n",
      "Confidence Interval for 1984 ~ 1994: [4.55, 4.66]\n",
      "Confidence Interval for 1985 ~ 1995: [4.56, 4.67]\n",
      "Confidence Interval for 1986 ~ 1996: [4.58, 4.68]\n",
      "Confidence Interval for 1987 ~ 1997: [4.61, 4.71]\n",
      "Confidence Interval for 1988 ~ 1998: [4.61, 4.71]\n",
      "Confidence Interval for 1989 ~ 1999: [4.60, 4.69]\n",
      "Confidence Interval for 1990 ~ 2000: [4.59, 4.69]\n",
      "Confidence Interval for 1991 ~ 2001: [4.61, 4.70]\n",
      "Confidence Interval for 1992 ~ 2002: [4.62, 4.71]\n",
      "Confidence Interval for 1993 ~ 2003: [4.63, 4.72]\n",
      "Confidence Interval for 1994 ~ 2004: [4.65, 4.74]\n",
      "Confidence Interval for 1995 ~ 2005: [4.66, 4.75]\n",
      "Confidence Interval for 1996 ~ 2006: [4.66, 4.75]\n",
      "Confidence Interval for 1997 ~ 2007: [4.65, 4.74]\n",
      "Confidence Interval for 1998 ~ 2008: [4.65, 4.74]\n",
      "Confidence Interval for 1999 ~ 2009: [4.66, 4.75]\n",
      "Confidence Interval for 2000 ~ 2010: [4.66, 4.75]\n",
      "Confidence Interval for 2001 ~ 2011: [4.67, 4.75]\n",
      "Confidence Interval for 2002 ~ 2012: [4.67, 4.75]\n",
      "Confidence Interval for 2003 ~ 2013: [4.67, 4.76]\n",
      "Confidence Interval for 2004 ~ 2014: [4.67, 4.75]\n",
      "Confidence Interval for 2005 ~ 2015: [4.67, 4.75]\n",
      "Confidence Interval for 2006 ~ 2016: [4.68, 4.77]\n",
      "Confidence Interval for 2007 ~ 2017: [4.70, 4.79]\n",
      "Confidence Interval for 2008 ~ 2018: [4.71, 4.80]\n",
      "Confidence Interval for 2009 ~ 2019: [4.71, 4.81]\n",
      "Confidence Interval for 2010 ~ 2020: [4.73, 4.83]\n"
     ]
    }
   ],
   "source": [
    "def calculateDecade(start, end):\n",
    "   \n",
    "    df_decade = dfClean.copy()\n",
    "    df_decade = df_decade.loc[(df_decade['Year'] >= start) & (df_decade['Year'] <= end), 'Measured Sea Level (MSL)']\n",
    "    # print(df_decade)\n",
    "    \n",
    "    SL = 1 - 0.99\n",
    "    result = stats.norm.ppf(1 - SL / 2)\n",
    "    \n",
    "    #calculating mean\n",
    "    decadeMean = df_decade.mean()\n",
    "    # print(decadeMean)\n",
    "    \n",
    "    counter = df_decade.count()\n",
    "    \n",
    "    #calculating SD\n",
    "    SD = df_decade.std(ddof = 1)\n",
    "    \n",
    "    # calculating standard error\n",
    "    SE = SD / np.sqrt(counter)\n",
    "    \n",
    "    # return bottom and top (start, end)\n",
    "    CI_Bottom = decadeMean - result * SE\n",
    "    CI_Top = decadeMean + result * SE\n",
    "    return CI_Bottom, CI_Top\n",
    "\n",
    "\n",
    "def confidenceInterval():\n",
    "    decades = range(1900, 2011, 1)\n",
    "    n = 10\n",
    "    \n",
    "    for x in decades:\n",
    "        bottom, top = calculateDecade(x, x + n)\n",
    "        \n",
    "        print(\"Confidence Interval for {} ~ {}: [{:.02f}, {:.02f}]\".format(x, x + n, bottom, top))\n",
    "        \n",
    "        \n",
    "confidenceInterval()"
   ]
  },
  {
   "cell_type": "markdown",
   "metadata": {},
   "source": [
    "After computing the $99\\%$ confidence interval in every decade starting from 1900 to 2010, we have found that in the earliest decade 1994 to 2004 is not statistically significantly different from the mean sea level in the decade 2000-2010.\n"
   ]
  },
  {
   "cell_type": "code",
   "execution_count": null,
   "metadata": {},
   "outputs": [],
   "source": []
  }
 ],
 "metadata": {
  "kernelspec": {
   "display_name": "Python 3",
   "language": "python",
   "name": "python3"
  },
  "language_info": {
   "codemirror_mode": {
    "name": "ipython",
    "version": 3
   },
   "file_extension": ".py",
   "mimetype": "text/x-python",
   "name": "python",
   "nbconvert_exporter": "python",
   "pygments_lexer": "ipython3",
   "version": "3.8.5"
  }
 },
 "nbformat": 4,
 "nbformat_minor": 2
}
