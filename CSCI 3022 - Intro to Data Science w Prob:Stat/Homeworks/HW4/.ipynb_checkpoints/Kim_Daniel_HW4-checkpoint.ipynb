{
 "cells": [
  {
   "cell_type": "markdown",
   "metadata": {},
   "source": [
    "#### <a id='top'></a>\n",
    "\n",
    "# Homework 4: Bayes' for Days\n",
    "***\n",
    "\n",
    "**Name**: Daniel Kim\n",
    "\n",
    "***\n",
    "\n",
    "This assignment is due on Canvas by **MIDNIGHT on Monday September 28**. Your solutions to theoretical questions should be done in Markdown directly below the associated question.  Your solutions to computational questions should include any specified Python code and results as well as written commentary on your conclusions.  Remember that you are encouraged to discuss the problems with your classmates, but **you must write all code and solutions on your own**.\n",
    "\n",
    "**NOTES**: \n",
    "\n",
    "- Any relevant data sets should be available under the **Data** module on Canvas. To make life easier on the graders if they need to run your code, do not change the relative path names here. Instead, move the files around on your computer.\n",
    "- If you're not familiar with typesetting math directly into Markdown then by all means, do your work on paper first and then typeset it later.  Remember that there is a [reference guide](https://math.meta.stackexchange.com/questions/5020/mathjax-basic-tutorial-and-quick-reference) linked on Canvas on writing math in Markdown. **All** of your written commentary, justifications and mathematical work should be in Markdown.\n",
    "- Because you can technically evaluate notebook cells is a non-linear order, it's a good idea to do Kernel $\\rightarrow$ Restart & Run All as a check before submitting your solutions.  That way if we need to run your code you will know that it will work as expected. \n",
    "- It is **bad form** to make your reader interpret numerical output from your code.  If a question asks you to compute some value from the data you should show your code output **AND** write a summary of the results in Markdown directly below your code. \n",
    "- 95 points of this assignment are in problems.  The remaining 5 are for neatness, style, and overall exposition of both code and text.\n",
    "- This probably goes without saying, but... For any question that asks you to calculate something, you **must show all work and justify your answers to receive credit**. Sparse or nonexistent work will receive sparse or nonexistent credit. \n",
    "\n",
    "---\n",
    "**Shortcuts:**  [Problem 1](#p1) | [Problem 2](#p2) | [Problem 3](#p3) |\n",
    "\n",
    "---"
   ]
  },
  {
   "cell_type": "code",
   "execution_count": 1,
   "metadata": {},
   "outputs": [],
   "source": [
    "import pandas as pd\n",
    "import numpy as np\n",
    "import matplotlib.pylab as plt\n",
    "%matplotlib inline"
   ]
  },
  {
   "cell_type": "markdown",
   "metadata": {},
   "source": [
    "***\n",
    "<a/ id='p1'></a>\n",
    "[Back to top](#top)\n",
    "\n",
    "## (15 pts) Problem 1: Theory (Bayes)\n",
    "***\n",
    "\n"
   ]
  },
  {
   "cell_type": "markdown",
   "metadata": {},
   "source": [
    "To get published in an academic journal, you have to prove something \"interesting.\"  As a result, most academics begin their research by investigating hypotheses that, all else equal, are unlikely to be true.  Suppose each research project begins with a research *hypothesis* that has a 12% chance of being correct.\n",
    "\n",
    "They then perform a study that satisfies the following two properties:\n",
    "\n",
    "    1) The probability that they correctly *find* an important result given that their *hypothesis* is true is 40%\n",
    "    2) The probability that they incorrectly *find* an important result given that their *hypothesis* is false is 5%\n",
    "\n",
    "If they *find* an important result they are published.  What is the probability that their *hypothesis* was true, given that they were published?"
   ]
  },
  {
   "cell_type": "markdown",
   "metadata": {},
   "source": [
    "**Typeset your solution for Problem 1 in this cell or cells.**\n",
    "\n",
    "From above, the problem given us that research hypothesis has a 12 percent of being correct. In other words,\n",
    "\n",
    "**P( *hypothesis* true ) = 0.12**\n",
    " \n",
    "Also they performed a study that satisfies the following two properties which are,\n",
    "\n",
    "**P( correctly *find* result | *hypothesis* true ) = 0.4**\n",
    "\n",
    "and\n",
    "\n",
    "**P( incorrectly *find* result | *hypothesis* false ) = 0.05**\n",
    "\n",
    "\n",
    "Now using Bayes theorem, we can find the probability that their hypothesis is true given that they find an important result they are published.\n",
    "\n",
    "**P( *hypothesis* true | correctly *find* result ) = P( correctly *find* result | *hypothesis* true ) P( *hypothesis* true ) / (P( correctly *find* result | *hypothesis* false ) P( *hypothesis* false ) +  P( correctly *find* result | *hypothesis* true ) P( *hypothesis* true ))**\n",
    "\n",
    "**P( correctly *find* result ) = (0.12 * 0.4) / (((1 - 0.12) * 0.05) + 0.12 * 0.4)**\n",
    "**= 0.5217**\n",
    "\n",
    "\n",
    "**Therefore, 0.5217 is the probability that their hypothesis is true.**\n"
   ]
  },
  {
   "cell_type": "markdown",
   "metadata": {},
   "source": [
    "[Back to top](#top)\n",
    "<a id='p2'></a>\n",
    "\n",
    "## (40 pts) Problem 2: Computation (Iterative Bayes)\n",
    "***\n",
    "\n",
    "You have decided you want to play a game with your roommate. Since you're both in Introduction to Data Science, you have your big bag of mixed dice, and you know you can do something interesting with dice!\n",
    "\n",
    "Unfortunately, you're trying to play while you bake (or maybe you've just come down with the chicken pox like Phoebe), so you're playing while wearing oven mitts that you simply cannot remove. Because of this fact, you can use your hands to pull dice from the bag, but cannot feel the dice.\n",
    "\n",
    "<img style=\"width: 200px; padding: 3mm;\" src=\"https://img.sharetv.com/shows/episodes/standard/204702.jpg\" alt=\"Phoebe with chicken pox in oven mitts\"/>\n",
    "\n",
    "Double unfortunately, you've been trapped in these oven mitts while wearing your ultra comfortable Ostrich Pillow because you were napping! Because of this fact, you also cannot see the dice you pull from the bag.\n",
    "\n",
    "<img style=\"width: 200px; padding: 3mm;\" src=\"https://i.pinimg.com/originals/d7/a3/6a/d7a36ab2216276c17c1b8b575fccad54.jpg\" alt=\"Phoebe with chicken pox in oven mitts\"/>\n",
    "\n",
    "Are you neither baking nor chicken poxed, and your roommate perhaps orchestrated this scenario to make this absurd situation arise? Who can say!\n",
    "\n",
    "In your collection, you own:\n",
    "* 20 fair six-sided dice (**S**), with faces `{1,2,3,4,5,6}`.\n",
    "* 15 fair eight-sided dice (**E**), with faces `{1,2,3,4,5,6,7,8}`.\n",
    "* 3 fair twenty-sided dice(**T**) (faces `{1,2,3,4,...,19,20}`).\n",
    "* 2 fair one-hundred-sided dice (**H**) (faces `{1,2,3,4,...,99,100}`).\n",
    "\n",
    "You and your roommate start to invent a game: you will blindly pull a die from the bag, roll the die, and your roommate will tell you what the result is. You will then guess how many sides - six, eight, twenty, or one hundred - the die you pulled has, and allocate points accordingly.\n",
    "\n",
    "But how many points are appropriate? _You'll need to figure out some probabilities here to determine what's fair!_\n",
    "\n",
    "Work the following problems by hand (or glove) for **Parts A through D and Part G** (but don't be afraid to simulate to check your result!). In **Parts E and F**, follow the instructions as written."
   ]
  },
  {
   "cell_type": "markdown",
   "metadata": {},
   "source": [
    "***\n",
    "**Part A**: You roll your die one time.  What is the probability of the event $R_7$, that you roll a 7?  Include at least 4 decimal places in your answer."
   ]
  },
  {
   "cell_type": "markdown",
   "metadata": {},
   "source": [
    "**Typeset your solution for Problem 2A in this cell or cells.**\n",
    "\n",
    "\n",
    "$P( R_7 )  =  P( R_7 | E ) P( E ) + P( R_7 | T ) P( T ) + P( R_7 | H ) P( H )$\n",
    "\n",
    "$P( R_7 ) = .0511$\n"
   ]
  },
  {
   "cell_type": "markdown",
   "metadata": {},
   "source": [
    "***\n",
    "**Part B**: Suppose you roll a 7.  What is the probability that the die you chose from the bag is an Eight-sided die (**E**)? "
   ]
  },
  {
   "cell_type": "markdown",
   "metadata": {},
   "source": [
    "**Typeset your solution for Problem 2B in this cell or cells.**\n",
    "\n",
    "Probability of rolling a 7: 0.0511\n",
    "\n",
    "Probability of 7 from eight-sided dice: 0.125\n",
    "\n",
    "Probability of picking eight-sided dice: 0.375\n",
    "\n",
    "Using Bayes Theorem\n",
    "\n",
    "(0.125 * 0.375) / (0.0511)\n",
    "\n",
    "= 0.9173\n"
   ]
  },
  {
   "cell_type": "markdown",
   "metadata": {},
   "source": [
    "**Part C:**  Are the events $R_7$ and $E$ independent?  Justify your answer **using math**."
   ]
  },
  {
   "cell_type": "markdown",
   "metadata": {},
   "source": [
    "**Typeset your solution for Problem 2C in this cell or cells.**\n",
    "\n",
    "<br /> P(E|$R_7$) = P($R_7$) <br />\n",
    "We need to prove this so that they're independent\n",
    "\n",
    "<br /> 0.0511 $\\neq$ 0.9173 <br />\n",
    "\n",
    "Since they're not equal, E is dependent"
   ]
  },
  {
   "cell_type": "markdown",
   "metadata": {},
   "source": [
    "**Part D:**  Suppose you roll your die $n$ times and record each outcome.  Obviously, if you roll 7 or higher you did *not* pick a Six-sided die,  if you roll a 9 or higher you did not pick a Six-sided or an Eight-sided, and if you roll a 21 or higher you must have picked a One-hundred-sided die.\n",
    "\n",
    "But, if you roll $n$ times in a row and get only 1, 2, 3, 4, 5, or 6 you would have a stronger belief that you in fact grabbed one of the Six-sided dice.  Let $L_n$ be the event that you roll $n$ rolls of 1, 2, 3, 4, 5, or 6 in a row.  For example, one possible outcome in $L_3$ is the sequence 2, 3, 1.\n",
    "\n",
    "Given that you roll a single value of 1, 2, 3, 4, 5, or 6, what is the probability that you have grabbed a Six-sided die?  That is, calculate **by hand** $P(S \\mid L_1)$."
   ]
  },
  {
   "cell_type": "markdown",
   "metadata": {},
   "source": [
    "**Typeset your solution for Problem 2D in this cell or cells.**\n",
    "\n",
    "$P(S|L_4)=(P(S)*1)  /  ((P(S)*1+P(E)*(6/8)+P(T)*(6/20)*P(H)*(6/100))$\n",
    "\n",
    "= 0.6197"
   ]
  },
  {
   "cell_type": "markdown",
   "metadata": {},
   "source": [
    "**Part E**:  \n",
    "\n",
    "First, work out **by hand** a formula for the probability in general that you are rolling a Six-sided die, given that you have rolled $n$ values in a row that are 1, 2, 3, 4, 5 or 6 (that is, $L_n$).  So you want a formula for $P(S \\mid L_n)$ in terms of $n$.\n",
    "\n",
    "Then, define a function `prob_six` to calculate $P(S \\mid L_n)$.  This function should only take one positive integer argument, $n$.\n",
    "\n",
    "Verify that your function is performing as expected by checking your answer to **Part D**."
   ]
  },
  {
   "cell_type": "markdown",
   "metadata": {},
   "source": [
    "**Typeset your solution for Problem 2E in this cell or cells.**\n",
    "\n",
    "$P(S|L_n)=(P(L_1|S)*P(S))/P(L_1)^n$"
   ]
  },
  {
   "cell_type": "code",
   "execution_count": 37,
   "metadata": {},
   "outputs": [
    {
     "data": {
      "text/plain": [
       "0.6197706848466068"
      ]
     },
     "execution_count": 37,
     "metadata": {},
     "output_type": "execute_result"
    }
   ],
   "source": [
    "def prob_six(n):\n",
    "\n",
    "    # Prob of getting 1 ~ 6 in each type of die\n",
    "    prob6 = 1\n",
    "    prob8 = 0.75\n",
    "    prob20 = 0.3\n",
    "    prob100 = 0.06\n",
    "    \n",
    "    # Chance of picking type of die\n",
    "    pick6 = 0.5\n",
    "    pick8 = 0.375\n",
    "    pick20 = 0.075\n",
    "    pick100 = 0.05\n",
    "    \n",
    "    # Ln\n",
    "    Ln = (prob6**n * pick6) + (prob8**n * pick8) + (prob20**n * pick20) + (prob100**n * pick100)\n",
    "    \n",
    "    result = 0.5 / Ln\n",
    "    \n",
    "    return result\n",
    "\n",
    "prob_six(1)\n"
   ]
  },
  {
   "cell_type": "markdown",
   "metadata": {},
   "source": [
    "**Part F:**  What is the smallest value of $n$ successive rolls of 1, 2, 3, 4, 5 or 6 that would make you believe that there's a better-than-95% chance that the die you grabbed is Six-sided?  Plugging larger and larger values for $n$ into your `prob_six` function is a very reasonable way to check this."
   ]
  },
  {
   "cell_type": "code",
   "execution_count": 39,
   "metadata": {},
   "outputs": [
    {
     "name": "stdout",
     "output_type": "stream",
     "text": [
      "For n = 1, the probabilty is 0.6197706848466068\n",
      "For n = 2, the probabilty is 0.696507363824104\n",
      "For n = 3, the probabilty is 0.7573016086562906\n",
      "For n = 4, the probabilty is 0.8074146609725164\n",
      "For n = 5, the probabilty is 0.848649264899005\n",
      "For n = 6, the probabilty is 0.8821506370122627\n",
      "For n = 7, the probabilty is 0.9089704950268221\n",
      "For n = 8, the probabilty is 0.9301507673469102\n",
      "For n = 9, the probabilty is 0.9466859895577822\n",
      "For n = 10, the probabilty is 0.9594755689833561\n",
      "For n = 11, the probabilty is 0.9692959817061354\n",
      "For n = 12, the probabilty is 0.9767939698995929\n",
      "The smallest value of n is 10\n"
     ]
    }
   ],
   "source": [
    "print(f\"For n = {1}, the probabilty is {prob_six(1)}\")\n",
    "\n",
    "print(f\"For n = {2}, the probabilty is {prob_six(2)}\")\n",
    "\n",
    "print(f\"For n = {3}, the probabilty is {prob_six(3)}\")\n",
    "\n",
    "print(f\"For n = {4}, the probabilty is {prob_six(4)}\")\n",
    "\n",
    "print(f\"For n = {5}, the probabilty is {prob_six(5)}\")\n",
    "\n",
    "print(f\"For n = {6}, the probabilty is {prob_six(6)}\")\n",
    "\n",
    "print(f\"For n = {7}, the probabilty is {prob_six(7)}\")\n",
    "\n",
    "print(f\"For n = {8}, the probabilty is {prob_six(8)}\")\n",
    "\n",
    "print(f\"For n = {9}, the probabilty is {prob_six(9)}\")\n",
    "\n",
    "print(f\"For n = {10}, the probabilty is {prob_six(10)}\")\n",
    "\n",
    "print(f\"For n = {11}, the probabilty is {prob_six(11)}\")\n",
    "\n",
    "print(f\"For n = {12}, the probabilty is {prob_six(12)}\")\n",
    "\n",
    "\n",
    "print(\"The smallest value of n is 10\")\n"
   ]
  },
  {
   "cell_type": "markdown",
   "metadata": {},
   "source": [
    "**Typeset your solution for Problem 2F in this cell or cells.**"
   ]
  },
  {
   "cell_type": "markdown",
   "metadata": {},
   "source": [
    "**Part G (BONUS 5 Points):** Now that you have looked at the probability space of your dice bag, outline the rules you would establish for this dice rolling game to make it _actually fun_, or at least somewhat fair. For example, would you allow or disallow rerolling the same die? Would you assign more points for correctly guessing a rarer die, or keep them equal? Would you create a turn-taking system where you pass the oven mitts and Ostrich Pillow back and forth, or give the roller points based on incorrect guesses? Would you implement other ideas? There's a limitless space for invention here - simply discuss how you would add a few rules (at least 3), and how those rules are based on the findings above (or run more probability calculations or simulations below to explore the space)."
   ]
  },
  {
   "cell_type": "markdown",
   "metadata": {},
   "source": [
    "**Typeset your solution for Problem 2G in this cell or cells.**"
   ]
  },
  {
   "cell_type": "markdown",
   "metadata": {},
   "source": [
    "[Back to top](#top)\n",
    "\n",
    "<a id='p3'></a>\n",
    "\n",
    "## (40 pts) Problem 3: Simulation (Stochastic Integration)\n",
    "***\n",
    "\n",
    "One really cool application of random variables is using them to approximate integrals/areas - an extension of the estimation of $\\pi$ done in nb04.  The random method of approximating integrals is used frequently in computational science to approximate really difficult integrals that we *never* want to do by hand.  In this exercise you'll figure out how we can do this in practice and test your method on an integral that we could do by hand. "
   ]
  },
  {
   "cell_type": "markdown",
   "metadata": {
    "collapsed": true
   },
   "source": [
    "**Part A.**  Let $L$ be a random variable representing how happy your new desk plant, Fernoulli Jr., is today.  It's measured by the **Lushness Index** (LI).  Suppose the probability density function for $L$ is on a scale from zero to one, and is described by an arcsine function:\n",
    "\n",
    "$$\n",
    "f_L(a) = \\begin{cases}\n",
    "         \\left(\\frac{1}{\\frac{\\pi}{2}-1}\\right)\\sin^{-1}(a) & 0 \\leq a \\leq 1 \\\\\n",
    "         0                           & \\text{otherwise}\n",
    "         \\end{cases}\n",
    "$$\n",
    "\n",
    "A Lushness Index of 1 means Fernoulli Jr. is feeling  well-watered, content, and ready to perform binary statistical experiments.  A Lushness Index of 0 means that your plant is really in need of some more sunlight.  \n",
    "\n",
    "\n",
    "\n",
    "Compute **by hand**, the integral of $f(a)$ for $0 \\leq a \\leq 1/2$.  Write a sentence or two to interpret your result physically, in the context of this problem set-up.\n",
    "\n",
    "*Hint*: this is classically an integral that makes use of the fact that $\\frac{d}{dx} \\sin^{-1}(x)=\\frac{1}{\\sqrt{1-x^2}}$.  That sounds like *\"part\"* of the solution.  You should also probably make sure you take a look at the plot of $f$, making mental note of it's minima, maxima, etc. over that interval."
   ]
  },
  {
   "cell_type": "markdown",
   "metadata": {},
   "source": [
    "**Typeset your solution for Problem 3ain this cell or cells.**\n",
    "\n",
    "Integration by parts:\n",
    "\n",
    "$\\frac{1}{\\frac{x}{2}-1} \\int{sin^-1(a)da}$ \n",
    "\n",
    "$ f = arcsin(a), g'=1$\n",
    "$f'=\\frac{1}{\\sqrt{1-a^2}}, g=a$\n",
    "    $\n",
    "    f'=\\frac{1}{\\sqrt{1-a^2}}, g=a \\\\\n",
    "    a*arcsin(a)-\\int{\\frac{a}{\\sqrt{1-a^2}}da}\\\\\n",
    "    \\int{\\frac{a}{{1-a^2}}da}\n",
    "    u = 1-a^2, \\frac{du}{da} = -2a, da= -\\frac{1}{2a}du\\\\\n",
    "   -\\frac{1}{2}\\int{\\frac{1}{\\sqrt{u}}du}\\\\\n",
    "   -\\sqrt{u}\\\\\n",
    "   -\\sqrt{1-a^2}\\\\\n",
    "   a*arcsin(a)+\\sqrt{1-a^2}\\\\\n",
    "   \\frac{1}{\\frac{x}{2}-1}(a*arcsin(a)+\\sqrt{1-a^2})\\\\\n",
    "   \\frac{a*arcsin(a)}{\\frac{x}{2}-1}+\\frac{\\sqrt{1-a^2}}{\\frac{x}{2}-1}\\\\\n",
    "   \\frac{2(a*arcsin(a)+\\sqrt{1-a^2})}{\\pi-2}, a = \\pi, 0 \\\\\n",
    "    $\n",
    "   \n",
    "Probability of the value in range 0 ~ 0.5:\n",
    "0.2239\n"
   ]
  },
  {
   "cell_type": "markdown",
   "metadata": {},
   "source": [
    "**Part B.** What is the maximum of $f_L(a)$ over the interval $[0,1]$?  For the rest of the problem, we will refer to this value by $m$."
   ]
  },
  {
   "cell_type": "markdown",
   "metadata": {},
   "source": [
    "**Typeset your solution for Problem 3b in this cell or cells.**\n",
    "\n",
    "$f_L(1)=2.7519=m$\n"
   ]
  },
  {
   "cell_type": "markdown",
   "metadata": {},
   "source": [
    "**Part C.** Suppose we sample a continuous uniform random variable $X\\sim U(0,1/2)$ and another  random variable $Y \\sim U(0,m)$ and think of them as $x$- and $y$-coordinates of a point in the box $[0,1/2] \\times [0,m]$, or inside the box composed of all points $\\{(x,y)\\,|\\, x \\in [0,1/2], y \\in [0,m]\\}.$  \n",
    "\n",
    "If we compute the ratio of points that fall under the curve $f(x)$ to the total points sampled, what does this value estimate? "
   ]
  },
  {
   "cell_type": "markdown",
   "metadata": {},
   "source": [
    "**Typeset your solution for Problem 3C in this cell or cells.**\n",
    "\n",
    "If we compute the raio of points that fall under the curve f(x) to the total points sampled, we can use the areas for the box to get an estimated value.\n"
   ]
  },
  {
   "cell_type": "markdown",
   "metadata": {},
   "source": [
    "**Part D.** How could we modify the process outlined in **Part B** so that our estimator estimates the value of the desired integral?  If you need inspiration, check out the in-class notebook on Stochastic Simulation (#4), specifically, the exercise where we estimated $\\pi$!"
   ]
  },
  {
   "cell_type": "markdown",
   "metadata": {},
   "source": [
    "**Typeset your solution for Problem 3D in this cell or cells.**\n",
    "\n",
    "We add the values under the curve after making random points within x and y values. Then, by using the area of the box, we can compute the ratio that can be multiplied which will provide us the valid estimate under the curve.\n"
   ]
  },
  {
   "cell_type": "markdown",
   "metadata": {},
   "source": [
    "**Part E.** Complete the function `integrate` below to compute an approximation to the definition integral $\\int_0^{\\text{ub}} f(x)dx$.  Your function should take as arguments:\n",
    "1. `num_samples` -- the number of points to sample,\n",
    "2. `ub` -- a number between $0$ and $1$ that is the upper bound of the integral, and\n",
    "3. `isPlot` -- a Boolean flag for whether or not to display a plot of the results.\n",
    "\n",
    "Your function should return an approximation of the definite integral by sampling $X$ from $U(0,\\text{ub})$ and $Y$ from $U(0,m)$. For each random draw $(X,Y)$, define the random variable $Z$ that represents whether or not the sampled $Y$ value is less than $f(X)$ for the corresponding $X$ value.\n",
    "\n",
    "Your function should perform three tasks: \n",
    "\n",
    "1. return the estimate of the value of the integral,\n",
    "2. return the sample variance of the random variable $Z$ being simulated, using the np.var function, and\n",
    "3. if `isPlot` is True, plot the curve $f(x)$ as well as the location of the points $(X,Y)$, colored according to whether they fall above or below the curve. "
   ]
  },
  {
   "cell_type": "code",
   "execution_count": 42,
   "metadata": {},
   "outputs": [
    {
     "data": {
      "text/plain": [
       "(1.0132864, 0.23067899999999994)"
      ]
     },
     "execution_count": 42,
     "metadata": {},
     "output_type": "execute_result"
    }
   ],
   "source": [
    "# GIVEN CODE - Do not change the inputs/outputs or your code will fail unit tests and auto-grading!\n",
    "\n",
    "import math\n",
    "\n",
    "#To find the curve\n",
    "def boundUnder(x, y):\n",
    "    if (-1 < x < 1):\n",
    "        yEquation = np.arcsin(x) * ( 1/ (( math.pi/2 ) - 1))\n",
    "    return y <= yEquation\n",
    "\n",
    "#Plotting random points\n",
    "def point(upperBound):\n",
    "    x = np.random.uniform(low = 0, high = upperBound)\n",
    "    y = np.random.uniform(low = 0, high = 2.752)\n",
    "    return x,y\n",
    "\n",
    "def helperEstimate(n, upperBound):\n",
    "    overCurveX = []\n",
    "    underCurveX = []\n",
    "    overCurveY = []\n",
    "    underCurveY = []\n",
    "    total = []\n",
    "    inside = 0\n",
    "    \n",
    "    for j in range(n):\n",
    "        \n",
    "        a = point(upperBound)\n",
    "        x = a[0]\n",
    "        y = a[1]\n",
    "        \n",
    "        if boundUnder(x, y):\n",
    "            overCurveX.append(x)\n",
    "            overCurveY.append(y)\n",
    "            total.append(1)\n",
    "            inside += 1\n",
    "            \n",
    "        else:\n",
    "            underCurveX.append(x)\n",
    "            underCurveY.append(y)\n",
    "            total.append(0)\n",
    "            \n",
    "    estimate = ((upperBound * 2.752) * (inside / n))\n",
    "    \n",
    "    return estimate, [overCurveX, overCurveY, underCurveX, underCurveY], total\n",
    " \n",
    "    \n",
    "def integrate(num_samples, ub, isPlot):\n",
    "    \n",
    "    #-----------------------------------------\n",
    "    # your code for 3E goes here!  replace this junk:\n",
    "    estimate = helperEstimate(num_samples, ub)[0]\n",
    "    value = helperEstimate(num_samples, ub)[1]\n",
    "    array = helperEstimate(num_samples, ub)[2]\n",
    "    \n",
    "    i = np.arange(0, 1.01, 0.01)\n",
    "    j = np.arcsin(i) * ( 1 / ((math.pi / 2) - 1) )\n",
    "\n",
    "    if isPlot:\n",
    "        plt.plot(i, j, color='red')\n",
    "        plt.scatter(value[0], value[1])\n",
    "        plt.scatter(value[2], value[3])\n",
    "        \n",
    "        plt.show()\n",
    "        \n",
    "    sample_var = np.var(array)\n",
    "    #-----------------------------------------\n",
    "    \n",
    "    return estimate, sample_var\n",
    "\n",
    "integrate(10000, 1, False)"
   ]
  },
  {
   "cell_type": "markdown",
   "metadata": {},
   "source": [
    "**Part F.** Write your own small unit tests!\n",
    "\n",
    "First, what should your `integrate` function output if you plug in `ub=0`? Set that as `int_0_to_0` below.\n",
    "\n",
    "Second, what should your `integrate` function output if you plug in `ub=`1?  (Is this actually a valid pdf?) Set that as `int_0_to_1` below.\n",
    "\n",
    "Then, you can execute the cell below to run two sanity checks. Write out **in math** (like, a definite integral) what each of these two tests is checking and **why** that is a reasonable sanity check.\n",
    "\n",
    "If these two assertions run without fail, then things seem to be working okay. Note that the upper endpoint test involves randomness, so if it fails, try running it a few times. If it fails a lot, then things are probably going wrong."
   ]
  },
  {
   "cell_type": "code",
   "execution_count": 43,
   "metadata": {},
   "outputs": [],
   "source": [
    "# Part 3F Code\n",
    "int_0_to_0  = 0  # fill this in!\n",
    "int_0_to_1 = 1  # this one too!\n",
    "\n",
    "\n",
    "#---------------------------------------\n",
    "# DO NOT EDIT THIS CELL BELOW HERE\n",
    "#---------------------------------------\n",
    "assert integrate(1000, 0, False)[0]==int_0_to_0, \"Error: lower endpoint test failing\"\n",
    "assert math.isclose(integrate(10000, 1, False)[0],int_0_to_1,abs_tol=0.03), \"Error: upper endpoint test failing\""
   ]
  },
  {
   "cell_type": "markdown",
   "metadata": {},
   "source": [
    "**Typeset your solution for Problem 3F in this cell or cells.**"
   ]
  },
  {
   "cell_type": "markdown",
   "metadata": {},
   "source": [
    "**Part G.** Run your simulation with `isPlot=True` and `ub=`$1$ for 1,000 samples so we can see your plot. Then, run your simulation (with `isPlot=False`) with at least 10,000 samples and estimate the value of the given integral. Be sure to leave your cells evaluated for the graders! Does your estimate agree with the exact value of the integral you computed in **Part A**?  As a whole, what advantage does this process offer over actually doing the integral by hand?"
   ]
  },
  {
   "cell_type": "code",
   "execution_count": 44,
   "metadata": {},
   "outputs": [
    {
     "data": {
      "image/png": "[encoded data removed]",
      "text/plain": [
       "<Figure size 432x288 with 1 Axes>"
      ]
     },
     "metadata": {
      "needs_background": "light"
     },
     "output_type": "display_data"
    },
    {
     "name": "stdout",
     "output_type": "stream",
     "text": [
      "The estimation is 0.9885184\n"
     ]
    }
   ],
   "source": [
    "#Integrate, plot, and estimate!\n",
    "integrate(1000, 1, True)\n",
    "estimate, values, = integrate(10000, 1, False)\n",
    "\n",
    "print(f\"The estimation is {estimate}\")"
   ]
  },
  {
   "cell_type": "markdown",
   "metadata": {},
   "source": [
    "**Typeset your solution for Problem 3G in this cell or cells.**"
   ]
  }
 ],
 "metadata": {
  "kernelspec": {
   "display_name": "Python 3",
   "language": "python",
   "name": "python3"
  },
  "language_info": {
   "codemirror_mode": {
    "name": "ipython",
    "version": 3
   },
   "file_extension": ".py",
   "mimetype": "text/x-python",
   "name": "python",
   "nbconvert_exporter": "python",
   "pygments_lexer": "ipython3",
   "version": "3.8.5"
  }
 },
 "nbformat": 4,
 "nbformat_minor": 2
}
