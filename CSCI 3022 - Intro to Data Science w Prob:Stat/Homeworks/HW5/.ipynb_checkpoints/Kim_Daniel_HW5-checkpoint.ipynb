{
 "cells": [
  {
   "cell_type": "markdown",
   "metadata": {},
   "source": [
    "#### <a id='top'></a>\n",
    "\n",
    "# Homework 5: Distributions\n",
    "***\n",
    "\n",
    "**Name**: Daniel Kim\n",
    "\n",
    "***\n",
    "\n",
    "This assignment is due on Canvas by **MIDNIGHT on Monday October 19**. Your solutions to theoretical questions should be done in Markdown directly below the associated question.  Your solutions to computational questions should include any specified Python code and results as well as written commentary on your conclusions.  Remember that you are encouraged to discuss the problems with your classmates, but **you must write all code and solutions on your own**.\n",
    "\n",
    "**NOTES**: \n",
    "\n",
    "- Any relevant data sets should be available under the **Data** module on Canvas. To make life easier on the graders if they need to run your code, do not change the relative path names here. Instead, move the files around on your computer.\n",
    "- If you're not familiar with typesetting math directly into Markdown then by all means, do your work on paper first and then typeset it later.  Remember that there is a [reference guide](https://math.meta.stackexchange.com/questions/5020/mathjax-basic-tutorial-and-quick-reference) linked on Canvas on writing math in Markdown. **All** of your written commentary, justifications and mathematical work should be in Markdown.\n",
    "- Because you can technically evaluate notebook cells is a non-linear order, it's a good idea to do Kernel $\\rightarrow$ Restart & Run All as a check before submitting your solutions.  That way if we need to run your code you will know that it will work as expected. \n",
    "- It is **bad form** to make your reader interpret numerical output from your code.  If a question asks you to compute some value from the data you should show your code output **AND** write a summary of the results in Markdown directly below your code. \n",
    "- 95 points of this assignment are in problems.  The remaining 5 are for neatness, style, and overall exposition of both code and text.\n",
    "- This probably goes without saying, but... For any question that asks you to calculate something, you **must show all work and justify your answers to receive credit**. Sparse or nonexistent work will receive sparse or nonexistent credit. \n",
    "\n",
    "---\n",
    "**Shortcuts:**  [Problem 1](#p1) | [Problem 2](#p2) | [Problem 3](#p3) |\n",
    "\n",
    "---"
   ]
  },
  {
   "cell_type": "code",
   "execution_count": 46,
   "metadata": {},
   "outputs": [],
   "source": [
    "import pandas as pd\n",
    "import numpy as np\n",
    "import matplotlib.pylab as plt\n",
    "%matplotlib inline"
   ]
  },
  {
   "cell_type": "markdown",
   "metadata": {},
   "source": [
    "***\n",
    "<a/ id='p1'></a>\n",
    "[Back to top](#top)\n",
    "\n",
    "## (30 pts) Problem 1: Theory (Continuous Distributions)\n",
    "***\n",
    "\n",
    "Suppose you are modeling the probability of observing various levels of cuteness in hedgehogs you encounter.  Let $X$ be a random variable representing the observed cuteness, which is *obviously* nonnegative and has units of deci*awws*. You decide to use the following pdf for $X$:\n",
    "\n",
    "$$\n",
    "f(x) = \\begin{cases}\n",
    "         c \\frac{1}{x^2} & =1 \\leq x < \\infty \\\\\n",
    "         0                           & \\text{otherwise}\n",
    "       \\end{cases}\n",
    "$$\n",
    "where $c$ is some normalizing constant.\n",
    "\n",
    "**Part A**: Determine the value of $c$ such that $f(x)$ is a valid probability density function. Then, make a plot of the probability density function for hedgehog cuteness, $f(x)$. Be sure to label your axes!\n",
    "******************************************\n",
    "$\\int_1^ \\infty \\! f(x) \\, \\mathrm{d}x$\n",
    "\n",
    "$= \\int_1^ \\infty \\! c * \\frac{1}{x^2} \\, \\mathrm{d}x$\n",
    "\n",
    "$= c * \\int_1^ \\infty \\! \\frac{1}{x^2} \\, \\mathrm{d}x$\n",
    "\n",
    "$= c * \\int_1^ \\infty \\! x^{-2} \\, \\mathrm{d}x$\n",
    "\n",
    "\n",
    "$= c * [-\\frac{1}{x}] \\Big|_1^\\infty \\, \\mathrm{d}x$\n",
    "\n",
    "$= c * ( \\lim_{x\\to\\infty} (\\frac{1}{x}) - (-\\frac{1}{1}))$\n",
    "\n",
    "In order to determine the value of $c$ such that $f(x)$ is a valid probability density function, we need to make it equal to 1\n",
    "\n",
    "$ c * ( \\lim_{x\\to\\infty} (\\frac{1}{x}) - (-\\frac{1}{1})) = 1$\n",
    "\n",
    "$ c * ( 0 - (- 1)) = 1$\n",
    "\n",
    "$ c * (1) = 1$\n",
    "\n",
    "$ \\therefore c = 1$\n",
    "******************************************\n"
   ]
  },
  {
   "cell_type": "code",
   "execution_count": 20,
   "metadata": {},
   "outputs": [
    {
     "data": {
      "text/plain": [
       "[<matplotlib.lines.Line2D at 0x7fc68a596250>]"
      ]
     },
     "execution_count": 20,
     "metadata": {},
     "output_type": "execute_result"
    },
    {
     "data": {
      "image/png": "[encoded data removed]",
      "text/plain": [
       "<Figure size 432x288 with 1 Axes>"
      ]
     },
     "metadata": {
      "needs_background": "light"
     },
     "output_type": "display_data"
    }
   ],
   "source": [
    "\n",
    "c = 1\n",
    "x = np.linspace(0.5, 5, 5000) # Cuteness Observed\n",
    "y = c * ( 1 / (x**2)) # Probability Density Function\n",
    "\n",
    "plt.xlabel('Cuteness Observed')\n",
    "plt.ylabel('Hedgehog Cuteness Using Probability Density Function')\n",
    "plt.plot(x, y)\n",
    "    \n"
   ]
  },
  {
   "cell_type": "markdown",
   "metadata": {},
   "source": [
    "**Part B**: Compute *by hand* the cumulative density (cdf) function $F(x)$ for $X$.\n",
    "******************************************\n",
    "\n",
    "$\\int_1^ x \\! f(x) \\, \\mathrm{d}x$\n",
    "\n",
    "$= \\int_1^ x \\! 1*(\\frac{1}{x^2}) \\, \\mathrm{d}x$\n",
    "\n",
    "$= - \\frac{1}{x} \\Big|_1^x \\, \\mathrm{d}x$\n",
    "\n",
    "$= - \\frac{1}{x} - (- \\frac{1}{1})$\n",
    "\n",
    "$=  - \\frac{1}{x}+1$\n",
    "\n",
    "$ \\therefore\n",
    "f(x) = \\begin{cases}\n",
    "         c - \\frac{1}{x} + 1 & x \\geq 1 \\\\\n",
    "         0                           & \\text{otherwise}\n",
    "       \\end{cases}\n",
    "$"
   ]
  },
  {
   "cell_type": "code",
   "execution_count": null,
   "metadata": {},
   "outputs": [],
   "source": []
  },
  {
   "cell_type": "markdown",
   "metadata": {},
   "source": [
    "**Part C:**  Use the cdf you derived in **Part B** to calculate the median ($\\tilde{x}$) cuteness of all hedgehogs.\n",
    "******************************************\n",
    "$f(\\tilde{x}) = - \\frac{1}{\\tilde{x}} + 1$\n",
    "\n",
    "The median of probability density function: $ f(\\tilde{x}) = 0.5$\n",
    "\n",
    "$ - \\frac{1}{\\tilde{x}} + 1 = 0.5$\n",
    "\n",
    "$ - \\frac{1}{\\tilde{x}} = - 0.5$\n",
    "\n",
    "$ \\frac{1}{\\tilde{x}} = 0.5$\n",
    "\n",
    "$ \\tilde{x} =  \\frac{1}{0.5}$\n",
    "\n",
    "$ \\tilde{x} =  2$\n",
    "\n",
    "$ \\therefore median = 2$\n"
   ]
  },
  {
   "cell_type": "code",
   "execution_count": null,
   "metadata": {},
   "outputs": [],
   "source": []
  },
  {
   "cell_type": "markdown",
   "metadata": {},
   "source": [
    "**Part D**: It is a well-known fact that any hedgehog whose cuteness exceeds 2.5 deciawws is **totes adorbz**. Use the cdf you computed in **Part B** to find the probability that any arbitrary hedgehog that you observe is totes adorbz.\n",
    "******************************************\n",
    "$P(x \\gt 2.5) = 1 - P(x \\ \\leq 2.5)$\n",
    "\n",
    "$ = 1 - \\int_1^ {2.5} \\! \\frac{1}{x^2}  \\mathrm{d}x$\n",
    "\n",
    "In other words, we are solving: $ 1 - (F(2.5) - F(1)) $ with $ - \\frac{1}{x} + 1$\n",
    "\n",
    "$= 1 - (  (- \\frac{1}{2.5} + 1) - (- \\frac{1}{1} + 1)  )$\n",
    "\n",
    "$=  1 - (  (0.6) - (0)  )$\n",
    "\n",
    "$ = 1 - 0.6 = 0.4$\n",
    "\n",
    "$ \\therefore 0.4 $\n",
    "\n",
    "\n",
    "\n"
   ]
  },
  {
   "cell_type": "code",
   "execution_count": null,
   "metadata": {},
   "outputs": [],
   "source": []
  },
  {
   "cell_type": "markdown",
   "metadata": {},
   "source": [
    "**Part E:** You have been painstakingly collecting data on hedgehogs all over town, and the cuteness is damn near overwhelming. Suppose you sample 5 hedgehogs, and the cuteness of any given hedgehog is independent of the cuteness of all other hedgehogs. What is the probability that more than half of them are totes adorbz? Keep at least 5 decimal places in your answer.\n",
    "******************************************\n",
    "From Part D, we now know that $ P(x > 2.5) = 0.4$\n",
    "\n",
    "I believe we apply this problem as weighted coin flip. So we set 0.4 as totes adorbz and 0.6 as NOT totes adorbz. Our goal is to have 3 totes adorbz out of 5 samples...\n",
    "\n",
    "$ \\binom{5}{3} * (0.4)^3 * (0.6)^2 $\n",
    "\n",
    "$ = 10 * 0.064 * 0.36$\n",
    "\n",
    "$ \\therefore 0.2304 $"
   ]
  },
  {
   "cell_type": "code",
   "execution_count": null,
   "metadata": {},
   "outputs": [],
   "source": []
  },
  {
   "cell_type": "markdown",
   "metadata": {},
   "source": [
    "***\n",
    "<a/ id='p2'></a>\n",
    "[Back to top](#top)\n",
    "\n",
    "## (30 pts) Problem 2: Theory (Named Distributions)\n",
    "***\n",
    "Person $X$ is waiting at a bus stop where the bus arrives *exactly* every ten minutes. Person Y is at a different stop, waiting for a bus that arrives *on average* every 8 minutes. Neither person knows how long ago the last bus arrived, and the arrival time of one bus is not dependent on the other bus.\n",
    "\n",
    "\n",
    "Answer the problems below assuming the wait time for person $Y$ follows an exponential distribution and the wait time for person $X$ follows a uniform distribution.\n",
    "\n",
    "**Part A**: What are the values of the parameters of the uniform distribution for person X?\n",
    "******************************************\n",
    "$ a = 0$\n",
    "\n",
    "$ b= 10$\n",
    "\n"
   ]
  },
  {
   "cell_type": "code",
   "execution_count": null,
   "metadata": {},
   "outputs": [],
   "source": []
  },
  {
   "cell_type": "markdown",
   "metadata": {},
   "source": [
    "**Part B**: What are the values of the parameters of the exponential distribution for person Y ?\n",
    "******************************************\n",
    "\n",
    "$\\lambda = 1/8$\n",
    "\n"
   ]
  },
  {
   "cell_type": "code",
   "execution_count": null,
   "metadata": {},
   "outputs": [],
   "source": []
  },
  {
   "cell_type": "markdown",
   "metadata": {},
   "source": [
    "**Part C**: Let $Z$ be defined as the total amount of time both people (combined) wait.  What are $E[Z]$ and $Var[Z]$?\n",
    "******************************************\n",
    "\n",
    "For X waits, using uniform distribution, we can say that...\n",
    "\n",
    "$ E[X] = \\frac{1}{2} (a + b) $ and $ Var[X] = \\frac{1}{12}(b - a)^2 $\n",
    "\n",
    "$ E[X] = \\frac{0 + 10}{2} $\n",
    "\n",
    "$ E[X] = 5 min $\n",
    "\n",
    "$ Var[X] = \\frac{(10 - 0)^2}{12} = \\frac{100}{12} $\n",
    "\n",
    "$ Var[X] = 8.333 $\n",
    "\n",
    "******************************************\n",
    "\n",
    "For Y waits, using exponential distribution, we can say that...\n",
    "\n",
    "$ E[Y] = \\frac{1}{\\lambda} $ and $ Var[Y] = \\frac{1}{\\lambda^2} $ \n",
    "\n",
    "$ E[Y] = \\frac{1}{\\frac{1}{8}}$\n",
    "\n",
    "$ E[Y] = 8 min $\n",
    "\n",
    "$ Var[Y] = \\frac{1}{\\frac{1}{8}^2}$\n",
    "\n",
    "$ Var[Y] = 64 $\n",
    "\n",
    "******************************************\n",
    "\n",
    "Now combining both X and Y...\n",
    "\n",
    "$ E[Z] = 5 min + 8 min $\n",
    "\n",
    "$ Var[Z] = 8.333 + 64 $\n",
    "\n",
    "$ \\therefore E[Z] = 13 minutes $\n",
    "\n",
    "$ \\therefore Var[Z] = 72.333 $\n",
    "\n",
    "******************************************"
   ]
  },
  {
   "cell_type": "code",
   "execution_count": null,
   "metadata": {},
   "outputs": [],
   "source": []
  },
  {
   "cell_type": "markdown",
   "metadata": {},
   "source": [
    "**Part D**: What is the exact probability both people wait more than 4 minutes?\n",
    "******************************************\n",
    "Probability that x wait for than 4 minutes: using uniform distribution, we can say that $ \\frac{x - a}{b - a} $\n",
    "\n",
    "$ \\frac{x - a}{b - a} = \\frac{x}{10} $\n",
    "\n",
    "Now we can apply to this situation. $ P(X \\gt 4) = 1 - P(X \\leq 4) $, in other words...\n",
    "\n",
    "$ 1 - F(4) = 1 - \\frac{4}{10}$\n",
    "\n",
    "$ \\therefore 0.6 $\n",
    "\n",
    "******************************************\n",
    "Probability that y wait for than 4 minutes: using exponential distribution, we can say that $ P(X > t) = e^{-\\lambda * t}$\n",
    "\n",
    "$ P(X > 4) = e^{-\\frac{1}{8} * 4} $\n",
    "\n",
    "$ = e^{-0.5} $\n",
    "\n",
    "$ \\therefore 0.60653$\n",
    "\n",
    "******************************************\n",
    "Combining the probability for both x wait and y wait..\n",
    "\n",
    "$ 0.6 * 0.60653 = 0.36392 $\n",
    "\n",
    "$ \\therefore 0.36392 $"
   ]
  },
  {
   "cell_type": "code",
   "execution_count": null,
   "metadata": {},
   "outputs": [],
   "source": []
  },
  {
   "cell_type": "markdown",
   "metadata": {},
   "source": [
    "***\n",
    "<a/ id='p3'></a>\n",
    "[Back to top](#top)\n",
    "\n",
    "## (35 pts) Problem 3: Simulation and Theory (Games)\n",
    "***\n",
    "\n",
    "The Riddler is a column on the website https://fivethirtyeight.com that posts logic, math, and probability puzzles each week.  Some of puzzles can be attacked by simulation and discrete probability: things that we have the tools to solve!\n",
    "\n",
    "(https://fivethirtyeight.com/features/how-low-can-you-roll/)\n",
    "\n",
    "You are given a fair, unweighted 10-sided die with sides labeled 0 to 9 and a sheet of paper to record your score. (If the very notion of a fair 10-sided die bothers you, and you need to know what sort of three-dimensional solid it is, then forget it — you have a random number generator that gives you an integer value from 0 to 9 with equal probability. Your loss — the die was a collector’s item.)\n",
    "\n",
    "To start the game, you roll the die. Your current “score” is the number shown, divided by 10. For example, if you were to roll a 7, then your score would be 0.7. Then, you keep rolling the die over and over again. Each time you roll, if the digit shown by the die is less than or equal to the last digit of your score, then that roll becomes the new last digit of your score. Otherwise you just go ahead and roll again. The game ends when you roll a zero.\n",
    "\n",
    "For example, suppose you roll the following: 6, 2, 5, 1, 8, 1, 0. After your first roll, your score would be 0.6, After the second, it’s 0.62. You ignore the third roll, since 5 is greater than the current last digit, 2. After the fourth roll, your score is 0.621. You ignore the fifth roll, since 8 is greater than the current last digit, 1. After the sixth roll, your score is 0.6211. And after the seventh roll, the game is over — 0.6211 is your final score.\n",
    "\n",
    "What will be your average final score in this game?\n",
    "\n",
    "**Part A**: Suppose our current value is $0.abcd$ for some 1-9 integers $a, b, c, d.$  What is the theoretical distribution of $e$, the next *term* in the final score's decimal representation?  Name the distribution and list all of its outcomes and their probabilities.  Note that \"there are no additional terms\" should have non-zero probability.\n",
    "\n",
    "************************************************************************************\n",
    "Since theoretical distribution of $e$ means uniform distribution, this willl result to $P(b \\ge x \\ge 0)$ depending on b\n",
    "************************************************************************************\n",
    "\n",
    "**If b is 9,**\n",
    "\n",
    "$(9-0)* \\frac{1}{9} = 9 * \\frac{1}{9} = 1$\n",
    "\n",
    "**If b is 8,** \n",
    "\n",
    "$(8-0)* \\frac{1}{9} = 8 * \\frac{1}{9} = .8888$\n",
    "\n",
    "**If b is 7,**  \n",
    "\n",
    "$(7-0)* \\frac{1}{9} = 7 * \\frac{1}{9} = .7777$\n",
    "\n",
    "**If b is 6,**  \n",
    "\n",
    "$(6-0)* \\frac{1}{9} = 6 * \\frac{1}{9} = .6666$\n",
    "\n",
    "**If b is 5,**  \n",
    "\n",
    "$(5-0)* \\frac{1}{9} = 5 * \\frac{1}{9} = .5555$\n",
    "\n",
    "**If b is 4,**  \n",
    "\n",
    "$(4-0)* \\frac{1}{9} = 4 * \\frac{1}{9} = .4444$\n",
    "\n",
    "**If b is 3,**  \n",
    "\n",
    "$(3-0)* \\frac{1}{9} = 3 * \\frac{1}{9} = .3333$\n",
    "\n",
    "**If b is 2,**  \n",
    "\n",
    "$(2-0)* \\frac{1}{9} = 2 * \\frac{1}{9} = .2222$\n",
    "\n",
    "**If b is 1,**  \n",
    "\n",
    "$(1-0)* \\frac{1}{9} = 1 * \\frac{1}{9} = .1111$\n"
   ]
  },
  {
   "cell_type": "code",
   "execution_count": null,
   "metadata": {},
   "outputs": [],
   "source": []
  },
  {
   "cell_type": "markdown",
   "metadata": {},
   "source": [
    "**Part B**: What is the expected number of *rolls* until you're done?  What distribution is this?\n",
    "*******************************************************\n",
    "The expected number of *rolls* until you're done would be $ 10 * (\\frac{1}{10} + \\frac{1}{9} + \\frac{1}{8} + \\frac{1}{7} + \\frac{1}{6} + \\frac{1}{5} + \\frac{1}{4} + \\frac{1}{3} + \\frac{1}{2} + \\frac{1}{1}) = $ 29.28 rolls\n",
    "\n",
    "This distribution for this problem is called exponential.\n"
   ]
  },
  {
   "cell_type": "code",
   "execution_count": null,
   "metadata": {},
   "outputs": [],
   "source": []
  },
  {
   "cell_type": "markdown",
   "metadata": {},
   "source": [
    "**Part C**: Simulate 10000 trials of this game, recording a score for each, then compute and print the average score over all of those trials. \n",
    "\n",
    "(Note: To check your result, you can find the exact *expected* solution in the following week's column: https://fivethirtyeight.com/features/can-you-decode-the-riddler-lottery/... but we want to simulate!)\n"
   ]
  },
  {
   "cell_type": "code",
   "execution_count": 43,
   "metadata": {},
   "outputs": [
    {
     "data": {
      "text/plain": [
       "0.5000931958586357"
      ]
     },
     "execution_count": 43,
     "metadata": {},
     "output_type": "execute_result"
    }
   ],
   "source": [
    "import statistics\n",
    "\n",
    "import random\n",
    "\n",
    "def theRiddler():\n",
    "    for x in range(10000):\n",
    "        numbers = [0,1,2,3,4,5,6,7,8,9]\n",
    "        \n",
    "        #setting up temp roll \n",
    "        temp = random.choices(numbers, weights = (0.1,0.1,0.1,0.1,0.1,0.1,0.1,0.1,0.1,0.1))\n",
    "        temp = temp[0]\n",
    "        \n",
    "        #variables\n",
    "        counter = 0\n",
    "        finalScore = 0\n",
    "        isZero = True\n",
    "        \n",
    "        # append when temp is 0, then set isZero to false\n",
    "        if temp == 0:\n",
    "            result.append(finalScore)\n",
    "            isZero = False\n",
    "            \n",
    "        # If not, set final score\n",
    "        else:\n",
    "            counter = 1\n",
    "            finalScore = temp/10\n",
    "            \n",
    "        # Till isZero turns false\n",
    "        while(isZero):\n",
    "            \n",
    "            actualRoll = random.choices(numbers, weights = (0.1,0.1,0.1,0.1,0.1,0.1,0.1,0.1,0.1,0.1))\n",
    "            actualRoll = actualRoll[0]\n",
    "            \n",
    "            # again append when the actual roll is 0\n",
    "            if(actualRoll == 0):\n",
    "                isZero = False\n",
    "                result.append(finalScore)\n",
    "            \n",
    "            # If the actual roll is bigger than temp, set final score\n",
    "            if(actualRoll >= temp):\n",
    "                counter += 1\n",
    "                finalScore += (actualRoll * ( 10**(- counter)))\n",
    "                temp = actualRoll\n",
    "    \n",
    "    #Find mean\n",
    "    return statistics.mean(result)\n",
    "\n",
    "result = []\n",
    "\n",
    "theRiddler()"
   ]
  },
  {
   "cell_type": "markdown",
   "metadata": {},
   "source": [
    "**Part D**: Make a histogram of all your scores from part C, and include a vertical line placed at the mean score from part C."
   ]
  },
  {
   "cell_type": "code",
   "execution_count": 45,
   "metadata": {
    "scrolled": true
   },
   "outputs": [
    {
     "data": {
      "image/png": "[encoded data removed]",
      "text/plain": [
       "<Figure size 432x288 with 1 Axes>"
      ]
     },
     "metadata": {
      "needs_background": "light"
     },
     "output_type": "display_data"
    }
   ],
   "source": [
    "# Set x as Mean Score\n",
    "# Set y as \n",
    "# Find mean from result\n",
    "\n",
    "# Histogram\n",
    "plt.hist(result, range = [0, 1], bins = 75)\n",
    "\n",
    "# Find mean in result\n",
    "plt.axvline(statistics.mean(result), linestyle = \"solid\", linewidth = 3, color = \"red\")\n",
    "\n",
    "plt.xlabel('Score')  \n",
    "plt.ylabel('Frequency')\n",
    "\n",
    "plt.show()"
   ]
  },
  {
   "cell_type": "code",
   "execution_count": null,
   "metadata": {},
   "outputs": [],
   "source": []
  }
 ],
 "metadata": {
  "kernelspec": {
   "display_name": "Python 3",
   "language": "python",
   "name": "python3"
  },
  "language_info": {
   "codemirror_mode": {
    "name": "ipython",
    "version": 3
   },
   "file_extension": ".py",
   "mimetype": "text/x-python",
   "name": "python",
   "nbconvert_exporter": "python",
   "pygments_lexer": "ipython3",
   "version": "3.8.5"
  }
 },
 "nbformat": 4,
 "nbformat_minor": 2
}
