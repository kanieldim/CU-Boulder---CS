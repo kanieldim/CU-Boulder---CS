{
 "cells": [
  {
   "cell_type": "markdown",
   "metadata": {},
   "source": [
    "#### <a id='top'></a>\n",
    "\n",
    "# Homework 5: Distributions\n",
    "***\n",
    "\n",
    "**Name**: John Liang\n",
    "\n",
    "***\n",
    "\n",
    "This assignment is due on Canvas by **MIDNIGHT on Monday October 19**. Your solutions to theoretical questions should be done in Markdown directly below the associated question.  Your solutions to computational questions should include any specified Python code and results as well as written commentary on your conclusions.  Remember that you are encouraged to discuss the problems with your classmates, but **you must write all code and solutions on your own**.\n",
    "\n",
    "**NOTES**: \n",
    "\n",
    "- Any relevant data sets should be available under the **Data** module on Canvas. To make life easier on the graders if they need to run your code, do not change the relative path names here. Instead, move the files around on your computer.\n",
    "- If you're not familiar with typesetting math directly into Markdown then by all means, do your work on paper first and then typeset it later.  Remember that there is a [reference guide](https://math.meta.stackexchange.com/questions/5020/mathjax-basic-tutorial-and-quick-reference) linked on Canvas on writing math in Markdown. **All** of your written commentary, justifications and mathematical work should be in Markdown.\n",
    "- Because you can technically evaluate notebook cells is a non-linear order, it's a good idea to do Kernel $\\rightarrow$ Restart & Run All as a check before submitting your solutions.  That way if we need to run your code you will know that it will work as expected. \n",
    "- It is **bad form** to make your reader interpret numerical output from your code.  If a question asks you to compute some value from the data you should show your code output **AND** write a summary of the results in Markdown directly below your code. \n",
    "- 95 points of this assignment are in problems.  The remaining 5 are for neatness, style, and overall exposition of both code and text.\n",
    "- This probably goes without saying, but... For any question that asks you to calculate something, you **must show all work and justify your answers to receive credit**. Sparse or nonexistent work will receive sparse or nonexistent credit. \n",
    "\n",
    "---\n",
    "**Shortcuts:**  [Problem 1](#p1) | [Problem 2](#p2) | [Problem 3](#p3) |\n",
    "\n",
    "---"
   ]
  },
  {
   "cell_type": "code",
   "execution_count": 20,
   "metadata": {},
   "outputs": [],
   "source": [
    "import pandas as pd\n",
    "import numpy as np\n",
    "import matplotlib.pylab as plt\n",
    "%matplotlib inline"
   ]
  },
  {
   "cell_type": "markdown",
   "metadata": {},
   "source": [
    "***\n",
    "<a/ id='p1'></a>\n",
    "[Back to top](#top)\n",
    "\n",
    "## (30 pts) Problem 1: Theory (Continuous Distributions)\n",
    "***\n",
    "\n",
    "Suppose you are modeling the probability of observing various levels of cuteness in hedgehogs you encounter.  Let $X$ be a random variable representing the observed cuteness, which is *obviously* nonnegative and has units of deci*awws*. You decide to use the following pdf for $X$:\n",
    "\n",
    "$$\n",
    "f(x) = \\begin{cases}\n",
    "         c \\frac{1}{x^2} & =1 \\leq x < \\infty \\\\\n",
    "         0                           & \\text{otherwise}\n",
    "       \\end{cases}\n",
    "$$\n",
    "where $c$ is some normalizing constant.\n",
    "\n",
    "**Part A**: Determine the value of $c$ such that $f(x)$ is a valid probability density function. Then, make a plot of the probability density function for hedgehog cuteness, $f(x)$. Be sure to label your axes!"
   ]
  },
  {
   "cell_type": "code",
   "execution_count": 194,
   "metadata": {},
   "outputs": [
    {
     "data": {
      "image/png": "[encoded data removed]",
      "text/plain": [
       "<Figure size 432x288 with 1 Axes>"
      ]
     },
     "metadata": {
      "needs_background": "light"
     },
     "output_type": "display_data"
    }
   ],
   "source": [
    "import scipy.stats as ss\n",
    "def integrate():\n",
    "    c = 1\n",
    "    x = np.linspace(1, 20, 5000)\n",
    "    y = c*(1/(x**2))\n",
    "    plt.plot(x, y)\n",
    "integrate()"
   ]
  },
  {
   "cell_type": "markdown",
   "metadata": {},
   "source": [
    "**Part B**: Compute *by hand* the cumulative density (cdf) function $F(x)$ for $X$.\n",
    "\n",
    "$F(x) = P(x \\leq x)$\n",
    "\n",
    "$\\int_1^ x \\! f(x) \\, \\mathrm{d}x.$\n",
    "\n",
    "$\\int_1^ x \\! 1*(\\frac{1}{x^2}) \\, \\mathrm{d}x.$\n",
    "\n",
    "$\\int_1^ x \\! [\\frac{1}{x}] \\, \\mathrm{d}x.$\n",
    "\n",
    "$ - \\frac{1}{x}+1$"
   ]
  },
  {
   "cell_type": "code",
   "execution_count": null,
   "metadata": {},
   "outputs": [],
   "source": []
  },
  {
   "cell_type": "markdown",
   "metadata": {},
   "source": [
    "**Part C:**  Use the cdf you derived in **Part B** to calculate the median ($\\tilde{x}$) cuteness of all hedgehogs.\n",
    "\n",
    "$F(x) mean = 1$\n",
    "\n",
    "$ - \\frac{1}{mean}+1 = 1$\n",
    "\n",
    "$ - \\frac{1}{mean} = 0$"
   ]
  },
  {
   "cell_type": "code",
   "execution_count": null,
   "metadata": {},
   "outputs": [],
   "source": [
    "\n",
    "    "
   ]
  },
  {
   "cell_type": "markdown",
   "metadata": {},
   "source": [
    "**Part D**: It is a well-known fact that any hedgehog whose cuteness exceeds 2.5 deciawws is **totes adorbz**. Use the cdf you computed in **Part B** to find the probability that any arbitrary hedgehog that you observe is totes adorbz.\n",
    "\n",
    "$p(x \\gt 2.5) = - \\frac{1}{2.5}+1 = 1.4$\n",
    "\n"
   ]
  },
  {
   "cell_type": "code",
   "execution_count": null,
   "metadata": {},
   "outputs": [],
   "source": []
  },
  {
   "cell_type": "markdown",
   "metadata": {},
   "source": [
    "**Part E:** You have been painstakingly collecting data on hedgehogs all over town, and the cuteness is damn near overwhelming. Suppose you sample 5 hedgehogs, and the cuteness of any given hedgehog is independent of the cuteness of all other hedgehogs. What is the probability that more than half of them are totes adorbz? Keep at least 5 decimal places in your answer.\n",
    "\n",
    "$P(x \\gt 0.5)$ \n",
    "\n",
    "$\\int_{0.5}^ \\infty \\! 1*(\\frac{1}{x^2}) \\, \\mathrm{d}x.$\n",
    "\n",
    "$\\int_{0.5}^ \\infty \\! 1*(\\frac{1}{x^2}) = 0 - (-2)$\n",
    "\n",
    "2"
   ]
  },
  {
   "cell_type": "code",
   "execution_count": null,
   "metadata": {},
   "outputs": [],
   "source": []
  },
  {
   "cell_type": "markdown",
   "metadata": {},
   "source": [
    "***\n",
    "<a/ id='p2'></a>\n",
    "[Back to top](#top)\n",
    "\n",
    "## (30 pts) Problem 2: Theory (Named Distributions)\n",
    "***\n",
    "Person $X$ is waiting at a bus stop where the bus arrives *exactly* every ten minutes. Person Y is at a different stop, waiting for a bus that arrives *on average* every 8 minutes. Neither person knows how long ago the last bus arrived, and the arrival time of one bus is not dependent on the other bus.\n",
    "\n",
    "\n",
    "Answer the problems below assuming the wait time for person $Y$ follows an exponential distribution and the wait time for person $X$ follows a uniform distribution.\n",
    "\n",
    "**Part A**: What are the values of the parameters of the uniform distribution for person X?\n",
    "\n",
    "Mean is 1/2(a+b)\n",
    "\n",
    "$ \\frac{1}{2}(a+b)= 8$\n",
    "\n",
    "$ (a+b)= 4$\n",
    "\n",
    "$ a = 0$\n",
    "\n",
    "$ b= 10$\n",
    "\n"
   ]
  },
  {
   "cell_type": "code",
   "execution_count": null,
   "metadata": {},
   "outputs": [],
   "source": []
  },
  {
   "cell_type": "markdown",
   "metadata": {},
   "source": [
    "**Part B**: What are the values of the parameters of the exponential distribution for person Y ?\n",
    "\n",
    "Parameters being $1/ \\mu e^{\\frac{1}{\\mu}x}$\n",
    "\n",
    "\n",
    "$\\lambda = 1/8$\n",
    "\n",
    "$\\sigma = 8$\n",
    "\n",
    "$\\mu = 8$"
   ]
  },
  {
   "cell_type": "code",
   "execution_count": null,
   "metadata": {},
   "outputs": [],
   "source": []
  },
  {
   "cell_type": "markdown",
   "metadata": {},
   "source": [
    "**Part C**: Let $Z$ be defined as the total amount of time both people (combined) wait.  What are $E[Z]$ and $Var[Z]$?\n",
    "\n",
    "E[Z] = E[xT + yT]\n",
    "\n",
    "E[Z] = xE(T) + yE(T)\n",
    "\n",
    "Var[Z] = $E(aT + bT)^2$\n",
    "\n",
    "Var[Z] = $a^2Var(T) + b^2Var(T)$\n"
   ]
  },
  {
   "cell_type": "code",
   "execution_count": null,
   "metadata": {},
   "outputs": [],
   "source": []
  },
  {
   "cell_type": "markdown",
   "metadata": {},
   "source": [
    "**Part D**: What is the exact probability both people wait more than 4 minutes?\n",
    "\n",
    "P(X|4) = $ (4-0)*(1/8) = 0.5$\n",
    "\n",
    "P(Y|4) = $e^{-8/4} = 0.1353$\n",
    "\n",
    "$P(X \\cap Y)$ = 0.06766\n"
   ]
  },
  {
   "cell_type": "code",
   "execution_count": null,
   "metadata": {},
   "outputs": [],
   "source": []
  },
  {
   "cell_type": "markdown",
   "metadata": {},
   "source": [
    "***\n",
    "<a/ id='p3'></a>\n",
    "[Back to top](#top)\n",
    "\n",
    "## (35 pts) Problem 3: Simulation and Theory (Games)\n",
    "***\n",
    "\n",
    "The Riddler is a column on the website https://fivethirtyeight.com that posts logic, math, and probability puzzles each week.  Some of puzzles can be attacked by simulation and discrete probability: things that we have the tools to solve!\n",
    "\n",
    "(https://fivethirtyeight.com/features/how-low-can-you-roll/)\n",
    "\n",
    "You are given a fair, unweighted 10-sided die with sides labeled 0 to 9 and a sheet of paper to record your score. (If the very notion of a fair 10-sided die bothers you, and you need to know what sort of three-dimensional solid it is, then forget it — you have a random number generator that gives you an integer value from 0 to 9 with equal probability. Your loss — the die was a collector’s item.)\n",
    "\n",
    "To start the game, you roll the die. Your current “score” is the number shown, divided by 10. For example, if you were to roll a 7, then your score would be 0.7. Then, you keep rolling the die over and over again. Each time you roll, if the digit shown by the die is less than or equal to the last digit of your score, then that roll becomes the new last digit of your score. Otherwise you just go ahead and roll again. The game ends when you roll a zero.\n",
    "\n",
    "For example, suppose you roll the following: 6, 2, 5, 1, 8, 1, 0. After your first roll, your score would be 0.6, After the second, it’s 0.62. You ignore the third roll, since 5 is greater than the current last digit, 2. After the fourth roll, your score is 0.621. You ignore the fifth roll, since 8 is greater than the current last digit, 1. After the sixth roll, your score is 0.6211. And after the seventh roll, the game is over — 0.6211 is your final score.\n",
    "\n",
    "What will be your average final score in this game?\n",
    "\n",
    "**Part A**: Suppose our current value is $0.abcd$ for some 1-9 integers $a, b, c, d.$  What is the theoretical distribution of $e$, the next *term* in the final score's decimal representation?  Name the distribution and list all of its outcomes and their probabilities.  Note that \"there are no additional terms\" should have non-zero probability.\n",
    "\n",
    "\n",
    "The theoretical distribution of $e$ is an uniform Distribution. Depending on d it would be $P(d \\ge x \\ge 0)$:\n",
    "\n",
    "Assuming d is 9 : $(9-0)* \\frac{1}{9} = 1$\n",
    "\n",
    "Assuming d is 8 : $(8-0)* \\frac{1}{9} = .8888$\n",
    "\n",
    "Assuming d is 7 : $(7-0)* \\frac{1}{9} = .7777$\n",
    "\n",
    "Assuming d is 6 : $(6-0)* \\frac{1}{9} = .6666$\n",
    "\n",
    "Assuming d is 5 : $(5-0)* \\frac{1}{9} = .5555$\n",
    "\n",
    "Assuming d is 4 : $(4-0)* \\frac{1}{9} = .4444$\n",
    "\n",
    "Assuming d is 3 : $(3-0)* \\frac{1}{9} = .333$\n",
    "\n",
    "Assuming d is 2 : $(2-0)* \\frac{1}{9} = .2222$\n",
    "\n",
    "Assuming d is 1 : $(1-0)* \\frac{1}{9} = .1111$\n"
   ]
  },
  {
   "cell_type": "code",
   "execution_count": null,
   "metadata": {},
   "outputs": [],
   "source": []
  },
  {
   "cell_type": "markdown",
   "metadata": {},
   "source": [
    "**Part B**: What is the expected number of *rolls* until you're done?  What distribution is this?\n",
    "\n",
    "The distribution for this would be exponential, and the probability to roll all the numbers would be 10(1/10+1/9+1/8+1/7+1/6+1/5+1/4+1/3+1/2+1) = 29.28 rolls."
   ]
  },
  {
   "cell_type": "code",
   "execution_count": null,
   "metadata": {},
   "outputs": [],
   "source": []
  },
  {
   "cell_type": "markdown",
   "metadata": {},
   "source": [
    "**Part C**: Simulate 10000 trials of this game, recording a score for each, then compute and print the average score over all of those trials. \n",
    "\n",
    "(Note: To check your result, you can find the exact *expected* solution in the following week's column: https://fivethirtyeight.com/features/can-you-decode-the-riddler-lottery/... but we want to simulate!)\n"
   ]
  },
  {
   "cell_type": "code",
   "execution_count": 185,
   "metadata": {},
   "outputs": [
    {
     "data": {
      "text/plain": [
       "0.5008644116506308"
      ]
     },
     "execution_count": 185,
     "metadata": {},
     "output_type": "execute_result"
    }
   ],
   "source": [
    "import random\n",
    "import statistics\n",
    "allscores = []\n",
    "def game():\n",
    "    for i in range(10000):\n",
    "        count = 0\n",
    "        score = 0\n",
    "        choices = [0,1,2,3,4,5,6,7,8,9]\n",
    "        notzero = True\n",
    "        prevroll = random.choices(choices, weights = (0.1,0.1,0.1,0.1,0.1,0.1,0.1,0.1,0.1,0.1))\n",
    "        prevroll = prevroll[0]\n",
    "        if prevroll == 0:\n",
    "            allscores.append(score)\n",
    "            notzero = False\n",
    "        else:\n",
    "            count = 1\n",
    "            score = prevroll/10\n",
    "        while(notzero):\n",
    "            roll = random.choices(choices, weights = (0.1,0.1,0.1,0.1,0.1,0.1,0.1,0.1,0.1,0.1))\n",
    "            roll = roll[0]\n",
    "            if(roll == 0):\n",
    "                notzero = False\n",
    "                allscores.append(score)\n",
    "            if(prevroll <= roll):\n",
    "                count+= 1\n",
    "                score = score + (roll*(10**(-count)))\n",
    "                prevroll = roll\n",
    "    return statistics.mean(allscores)\n",
    "\n",
    "game()"
   ]
  },
  {
   "cell_type": "markdown",
   "metadata": {},
   "source": [
    "**Part D**: Make a histogram of all your scores from part C, and include a vertical line placed at the mean score from part C."
   ]
  },
  {
   "cell_type": "code",
   "execution_count": 192,
   "metadata": {},
   "outputs": [
    {
     "data": {
      "image/png": "[encoded data removed]",
      "text/plain": [
       "<Figure size 432x288 with 1 Axes>"
      ]
     },
     "metadata": {
      "needs_background": "light"
     },
     "output_type": "display_data"
    }
   ],
   "source": [
    "plt.hist(allscores, range=[0, 1])\n",
    "plt.axvline(statistics.mean(allscores), color='k', linestyle='dashed', linewidth=1)\n",
    "plt.xlabel('Score')\n",
    "plt.ylabel('Frequency')\n",
    "plt.show()"
   ]
  },
  {
   "cell_type": "code",
   "execution_count": null,
   "metadata": {},
   "outputs": [],
   "source": []
  },
  {
   "cell_type": "code",
   "execution_count": null,
   "metadata": {},
   "outputs": [],
   "source": []
  }
 ],
 "metadata": {
  "kernelspec": {
   "display_name": "Python 3",
   "language": "python",
   "name": "python3"
  },
  "language_info": {
   "codemirror_mode": {
    "name": "ipython",
    "version": 3
   },
   "file_extension": ".py",
   "mimetype": "text/x-python",
   "name": "python",
   "nbconvert_exporter": "python",
   "pygments_lexer": "ipython3",
   "version": "3.8.5"
  }
 },
 "nbformat": 4,
 "nbformat_minor": 4
}
