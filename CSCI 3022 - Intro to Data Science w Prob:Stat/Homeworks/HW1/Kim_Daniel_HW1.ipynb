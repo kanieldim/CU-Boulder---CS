{
 "cells": [
  {
   "cell_type": "markdown",
   "metadata": {},
   "source": [
    "<a id='top'></a>\n",
    "\n",
    "# CSCI3022 F20\n",
    "# Homework 1: Data Cleaning and Exploratory Data Analysis \n",
    "***\n",
    "\n",
    "**Name**: Daniel Kim\n",
    "\n",
    "***\n",
    "\n",
    "This assignment is due on Canvas by **MIDNIGHT on Friday September 4**. Your solutions to theoretical questions should be done in Markdown directly below the associated question.  Your solutions to computational questions should include any specified Python code and results as well as written commentary on your conclusions.  Remember that you are encouraged to discuss the problems with your classmates, but **you must write all code and solutions on your own**.\n",
    "\n",
    "**NOTES**: \n",
    "\n",
    "- Any relevant data sets should be available on Canvas. To make life easier on the graders if they need to run your code, do not change the relative path names here. Instead, move the files around on your computer.\n",
    "- If you're not familiar with typesetting math directly into Markdown then by all means, do your work on paper first and then typeset it later.  Remember that there is a [reference guide](https://math.meta.stackexchange.com/questions/5020/mathjax-basic-tutorial-and-quick-reference) linked on Canvas on writing math in Markdown. **All** of your written commentary, justifications and mathematical work should be in Markdown.\n",
    "- Because you can technically evaluate notebook cells is a non-linear order, it's a good idea to do Kernel $\\rightarrow$ Restart & Run All as a check before submitting your solutions.  That way if we need to run your code you will know that it will work as expected. \n",
    "- It is **bad form** to make your reader interpret numerical output from your code.  If a question asks you to compute some value from the data you should show your code output **AND** write a summary of the results in Markdown directly below your code. \n",
    "- 95 points of this assignment are in problems.  The remaining 5 are for neatness, style, and overall exposition of both code and text.\n",
    "- This probably goes without saying, but... For any question that asks you to calculate something, you **must show all work and justify your answers to receive credit**. Sparse or nonexistent work will receive sparse or nonexistent credit. \n",
    "\n",
    "---\n",
    "**Shortcuts:**  [Problem 1](#p1) | [Problem 2](#p2) | [Problem 3](#p3) | [Problem 4](#p4) |\n",
    "---"
   ]
  },
  {
   "cell_type": "code",
   "execution_count": 14,
   "metadata": {},
   "outputs": [],
   "source": [
    "import pandas as pd\n",
    "import numpy as np\n",
    "import matplotlib.pylab as plt\n",
    "%matplotlib inline"
   ]
  },
  {
   "cell_type": "markdown",
   "metadata": {},
   "source": [
    "[Back to top](#top)\n",
    "\n",
    "<br>\n",
    "\n",
    "<a/ id='p1'></a>\n",
    "\n",
    "### (20 points) Problem 1: Theory (Sampling)\n",
    "***\n",
    "\n",
    "<img style=\"float: left; width: 200px; padding: 3mm;\" src=\"https://upload.wikimedia.org/wikipedia/commons/5/57/Acme_ballot_box_-_Smithsonian.jpg\" alt=\"A ballot box\"/>  \n",
    "You are the head of a news outlet on election day. You have embedded journalists in key U.S. States in order sample voters at different polling stations in the states. Once your journalists choose a polling station, they monitor the station for the election day. The journalists then report back the number of votes for each candidate, which is recorded in a special App on your phone, called Hippocampus. Overall, your team collected data from 6 polling stations in Alaska, 36 polling stations in Ohio, 12 polling stations in Colorado, 6 polling stations in Iowa, and 42 polling stations from California.\n",
    "\n",
    "You want to get a sense of the average amount of votes for each candidate per polling station, so you use the Hippocampus app to randomly choose 1 polling station in Alaska, 6 polling stations in Ohio, 2 polling stations in Colorado, 1 polling station in Iowa, and 7 polling stations from California.\n",
    "\n",
    "$$ \\quad $$\n",
    "    \n",
    "**Part A:** Identify the following: \n",
    "\n",
    "- the population\n",
    "- the sample frame \n",
    "- the sample \n",
    "- the type of sample \n",
    "- the quantity of interest"
   ]
  },
  {
   "cell_type": "markdown",
   "metadata": {},
   "source": [
    "**Typeset your solution to part A in this cell or cells**\n",
    "\n",
    "- the population : Polling stations\n",
    "- the sample frame : Sampling voters at Alaska, Ohio, Colorado, Iowa, and California stations\n",
    "- the sample : Randomly choosing 1 polling station in Alaska, 6 polling stations in Ohio, 2 polling stations in Colorado, 1 polling station in Iowa, and 7 polling stations from California.\n",
    "- the type of sample : Stratified Sample\n",
    "- the quantity of interest : The average amount of votes for each candidate per polling station."
   ]
  },
  {
   "cell_type": "markdown",
   "metadata": {},
   "source": [
    "**Part B:** You repeat your sampling, again using the Hippocampus app. Now, you order the stations alphabetically by State and choose every 3rd data value. \n",
    "    \n",
    "Identify the following: \n",
    "\n",
    "- the population \n",
    "- the sample frame \n",
    "- the sample \n",
    "- the type of sample \n",
    "- the quantity of interest"
   ]
  },
  {
   "cell_type": "markdown",
   "metadata": {},
   "source": [
    "**Typeset your solution to part B in this cell or cells**\n",
    "\n",
    "- the population : Polling stations\n",
    "- the sample frame : Sampling voters at Alaska, Ohio, Colorado, Iowa, and California stations\n",
    "- the sample : Choosing 36 polling stations throughout the states\n",
    "- the type of sample : Systematic Sample\n",
    "- the quantity of interest : The average amount of votes for each candidate per polling station."
   ]
  },
  {
   "cell_type": "markdown",
   "metadata": {},
   "source": [
    "[Back to top](#top)\n",
    "\n",
    "<br>\n",
    "\n",
    "<a/ id='p2'></a>\n",
    "\n",
    "### (20 points) Problem 2: Theory and Computation (Means and Medians)\n",
    "***\n",
    "\n",
    "A method to investigate the sensitivity of the sample mean and sample median to extreme outliers and changes in the dataset is to replace one or more elements in a given dataset by a number $y$ and investigate the effect when $y$ changes. To illustrate this, consider the following dataset:\n",
    " \n",
    "$$  4.2 \\quad 5.1 \\quad 5.0 \\quad y \\quad 3.8 \\quad 4.1 \\quad 5.5 \\quad 1.9 $$\n",
    "\n",
    "\n"
   ]
  },
  {
   "cell_type": "markdown",
   "metadata": {},
   "source": [
    "**Part A:** Compute the sample mean and sample median for $y=1.5$. Then compute both quantities again for $y=6$."
   ]
  },
  {
   "cell_type": "code",
   "execution_count": 91,
   "metadata": {},
   "outputs": [
    {
     "name": "stdout",
     "output_type": "stream",
     "text": [
      "Mean and Median for y =  1.5\n",
      "Mean:  3.8875\n",
      "Median:  4.15\n",
      "\n",
      "Mean and Median for y =  6.0\n",
      "Mean:  4.45\n",
      "Median:  4.6\n",
      "\n"
     ]
    }
   ],
   "source": [
    "def findMeanAndMedian(y):\n",
    "    \n",
    "    list = [y, 4.2, 5.1, 5.0, 3.8, 4.1, 5.5, 1.9]\n",
    "    list.sort()\n",
    "    total = 0.0\n",
    "    size = len(list)\n",
    "\n",
    "    for i in list:\n",
    "        total += i\n",
    "    mean = total / size\n",
    "\n",
    "    size = size//2\n",
    "    if size % 2 == 0:\n",
    "        median = (list[size] + list[size-1]) / 2\n",
    "    else:\n",
    "        median = list[size]\n",
    "    print(\"Mean and Median for y = \", y)\n",
    "    print(\"Mean: \",mean)\n",
    "    print(\"Median: \",median)\n",
    "    print()\n",
    "    \n",
    "findMeanAndMedian(1.5)\n",
    "findMeanAndMedian(6.0)\n",
    "\n",
    "\n",
    "\n"
   ]
  },
  {
   "cell_type": "markdown",
   "metadata": {},
   "source": [
    "**Part B:** Is there a value for $y$ that would make the mean of the data equal to 6? If so, calculate the value of $y$ that makes the mean equal to 6. If not, clearly explain why not.\n",
    "    \n",
    "Is there a value for $y$ that would make the median of the data equal to 6? If so, calculate the values of $y$ that makes the median equal to 6. If not, clearly explain why not."
   ]
  },
  {
   "cell_type": "markdown",
   "metadata": {},
   "source": [
    "**Typeset and/or code your solution to part B in this cell or cells**\n",
    "1. $y$ needs to be 18.4 to make the mean equal to 6\n",
    "\n",
    "\n",
    "2. There is no value for $y$ that would make the median of the data equal to 6\n",
    "\n",
    "    a) Even if size % 2 = 0, the average between two median cannot be 6\n",
    "    \n",
    "    b) If $y$ is bigger than 5.0, the median will always be 4.6\n",
    "    \n",
    "    c) If $y$ is less than 5.0 and bigger than 4.1, the median will not reach 6\n",
    "    \n",
    "    d) If $y$ is less than 4.1, the median will always be 4.15\n",
    "\n"
   ]
  },
  {
   "cell_type": "markdown",
   "metadata": {},
   "source": [
    "**Part C**: Compute the sample variance and the sample standard deviation for the original dataset given in part A, with $y=6$."
   ]
  },
  {
   "cell_type": "code",
   "execution_count": 92,
   "metadata": {},
   "outputs": [
    {
     "name": "stdout",
     "output_type": "stream",
     "text": [
      "Sample Variance: 1.6199999999999999\n",
      "Sample Standard Deviation: 1.2727922061357855\n"
     ]
    }
   ],
   "source": [
    "import math\n",
    "def findSVandSSD(y):\n",
    "    list = [y, 4.2, 5.1, 5.0, 3.8, 4.1, 5.5, 1.9]\n",
    "    total = 0.0\n",
    "    size = len(list)\n",
    "    mean = sum(list) / size\n",
    "        \n",
    "    \n",
    "    for x in list:\n",
    "        total += (x - mean) ** 2\n",
    "\n",
    "    SV = total / (size - 1)\n",
    "    SSD = math.sqrt(SV)\n",
    "    \n",
    "    print(\"Sample Variance:\",SV)\n",
    "    print(\"Sample Standard Deviation:\",SSD)\n",
    "    \n",
    "\n",
    "findSVandSSD(6)"
   ]
  },
  {
   "cell_type": "markdown",
   "metadata": {},
   "source": [
    "**Part D**: Compute the sample median for the following cases: \n",
    "- $y=5$ \n",
    "- $y=50$ \n",
    "- $y=4.36$ \n",
    "- $y \\to \\infty$ \n",
    "- $y \\to -\\infty$"
   ]
  },
  {
   "cell_type": "code",
   "execution_count": 93,
   "metadata": {},
   "outputs": [
    {
     "name": "stdout",
     "output_type": "stream",
     "text": [
      "Median for y =  5\n",
      "Median:  4.6\n",
      "\n",
      "Median for y =  50\n",
      "Median:  4.6\n",
      "\n",
      "Median for y =  4.36\n",
      "Median:  4.28\n",
      "\n",
      "Median for y =  inf\n",
      "Median:  4.6\n",
      "\n",
      "Median for y =  -inf\n",
      "Median:  4.15\n",
      "\n"
     ]
    }
   ],
   "source": [
    "def findMedian(y):\n",
    "    \n",
    "    list = [y, 4.2, 5.1, 5.0, 3.8, 4.1, 5.5, 1.9]\n",
    "    list.sort()\n",
    "    size = len(list)\n",
    "    size = size//2\n",
    "    \n",
    "    if size % 2 == 0:\n",
    "        median = (list[size] + list[size-1]) / 2\n",
    "    else:\n",
    "        median = list[size]\n",
    "    print(\"Median for y = \", y)\n",
    "    print(\"Median: \",median)\n",
    "    print()\n",
    "    \n",
    "findMedian(5)\n",
    "findMedian(50)\n",
    "findMedian(4.36)\n",
    "findMedian(float('inf'))\n",
    "findMedian(float('-inf'))"
   ]
  },
  {
   "cell_type": "markdown",
   "metadata": {},
   "source": [
    "**Part E**: Think about the previous parts, above, and describe in words or mathematical notation the answers to the following two questions:\n",
    "\n",
    "- By varying $y$, what is the set of all the possible values that the sample mean could take on?\n",
    "- By varying $y$, what is the set of all the possible values that the sample median could take on? Specifically, for what sets of $y$ values does the median take on its different possible values?"
   ]
  },
  {
   "cell_type": "markdown",
   "metadata": {},
   "source": [
    "**Typeset your solution to part E in this cell or cells**\n",
    "\n",
    "- By varying $y$, what is the set of all the possible values that the sample mean could take on?\n",
    "\n",
    "        The mean can range (-inf, inf) depending on $y$\n",
    "    \n",
    "    \n",
    "- By varying $y$, what is the set of all the possible values that the sample median could take on? Specifically, for what sets of $y$ values does the median take on its different possible values?\n",
    "\n",
    "        If $y$ is bigger than and equal to 5.0, the median will always be 4.6\n",
    "    \n",
    "        If $y$ is less than 5.0 and bigger than 4.1, the median will be between 4.15 and 4.6\n",
    "    \n",
    "        If $y$ is less than and equal to 4.1, the median will always be 4.15can\n",
    "        \n",
    "        Therefore, the range for median will be [4.15, 4.6]\n",
    "\n",
    "    \n"
   ]
  },
  {
   "cell_type": "markdown",
   "metadata": {},
   "source": [
    "**Part F**: Describe in words or mathematical notation, what happens to the sample standard deviation when $y$ is varied in the following ways: \n",
    " \n",
    "- $y \\to \\infty$ \n",
    "- $y \\to \\bar{x}$"
   ]
  },
  {
   "cell_type": "markdown",
   "metadata": {},
   "source": [
    "**Typeset your solution to part F in this cell or cells**\n",
    "\n",
    "As y approaches to positive infinity, the standard deviation also approaches to positive infinity.\n",
    "\n",
    "As y approaches to the mean, the standard deviation approaches to zero."
   ]
  },
  {
   "cell_type": "markdown",
   "metadata": {},
   "source": [
    "[Back to top](#top)\n",
    "<a/ id='p6'></a>\n",
    "\n",
    "## (20 pts) Problem 3: Computation (Scaling)\n",
    "***\n",
    "Consider the following 3 data sets:\n",
    "\n",
    "`A=[0,1,2,3,4,5,6,7,8,9,10,11,12]`\n",
    "\n",
    "`B=[0,0,0,12,7,18,47,25,0,13,0,35]`\n",
    "\n",
    "`C` is the random data set generated by using `np.random.exponential(scale=43, size=1000)`\n",
    "\n",
    "For each data set, perform the following computations in parts A, B, and C:\n",
    "\n",
    "**Part A:** Compute and print the mean and standard deviation of the data set."
   ]
  },
  {
   "cell_type": "code",
   "execution_count": 12,
   "metadata": {},
   "outputs": [
    {
     "name": "stdout",
     "output_type": "stream",
     "text": [
      "Mean for data set A: 6.0\n",
      "Standard deviation for data set A: 3.8944404818493075\n",
      "\n",
      "Mean for data set B: 13.083333333333334\n",
      "Standard deviation for data set B: 15.64061341120571\n",
      "\n",
      "Mean for data set C: 43.979510147169\n",
      "Standard deviation for data set C: 44.71391118288805\n",
      "\n"
     ]
    }
   ],
   "source": [
    "A =  pd.Series([0, 1, 2, 3, 4, 5, 6, 7, 8, 9, 10 , 11, 12])\n",
    "B = pd.Series([0, 0, 0, 12, 7, 18, 47, 25, 0, 13, 0, 35])\n",
    "C = pd.Series(np.random.exponential(scale=43, size=1000))\n",
    "\n",
    "print(\"Mean for data set A:\", A.mean())\n",
    "print(\"Standard deviation for data set A:\", A.std())\n",
    "print()\n",
    "\n",
    "print(\"Mean for data set B:\", B.mean())\n",
    "print(\"Standard deviation for data set B:\", B.std())\n",
    "print()\n",
    "\n",
    "print(\"Mean for data set C:\", C.mean())\n",
    "print(\"Standard deviation for data set C:\", C.std())\n",
    "print()\n"
   ]
  },
  {
   "cell_type": "markdown",
   "metadata": {},
   "source": [
    "**Part B:** Compute and print  the mean and standard deviation of the new data set formed by subtracting the original mean from each observation."
   ]
  },
  {
   "cell_type": "code",
   "execution_count": 13,
   "metadata": {},
   "outputs": [
    {
     "name": "stdout",
     "output_type": "stream",
     "text": [
      "Mean for data set A: 0.0\n",
      "Standard deviation for data set A: 3.8944404818493075\n",
      "\n",
      "Mean for data set B: -1.1842378929335002e-15\n",
      "Standard deviation for data set B: 15.64061341120571\n",
      "\n",
      "Mean for data set C: 1.5916157281026244e-15\n",
      "Standard deviation for data set C: 45.29626314855458\n",
      "\n"
     ]
    }
   ],
   "source": [
    "A =  pd.Series([0, 1, 2, 3, 4, 5, 6, 7, 8, 9, 10 , 11, 12])\n",
    "B = pd.Series([0, 0, 0, 12, 7, 18, 47, 25, 0, 13, 0, 35])\n",
    "C = pd.Series(np.random.exponential(scale=43, size=1000))\n",
    "\n",
    "A = A - A.mean()\n",
    "B = B - B.mean()\n",
    "C = C - C.mean()\n",
    "\n",
    "print(\"Mean for data set A:\", A.mean())\n",
    "print(\"Standard deviation for data set A:\", A.std())\n",
    "print()\n",
    "\n",
    "print(\"Mean for data set B:\", B.mean())\n",
    "print(\"Standard deviation for data set B:\", B.std())\n",
    "print()\n",
    "\n",
    "print(\"Mean for data set C:\", C.mean())\n",
    "print(\"Standard deviation for data set C:\", C.std())\n",
    "print()\n"
   ]
  },
  {
   "cell_type": "markdown",
   "metadata": {},
   "source": [
    "**Part C:** Compute and print  the mean and standard deviation of the new data set formed by subtracting the original mean from each observation and then dividing by the original standard deviation."
   ]
  },
  {
   "cell_type": "code",
   "execution_count": 14,
   "metadata": {},
   "outputs": [
    {
     "name": "stdout",
     "output_type": "stream",
     "text": [
      "Mean for data set A: -5.124106267500723e-17\n",
      "Standard deviation for data set A: 1.0\n",
      "\n",
      "Mean for data set B: -5.551115123125783e-17\n",
      "Standard deviation for data set B: 0.9999999999999998\n",
      "\n",
      "Mean for data set C: 1.1723955140041654e-16\n",
      "Standard deviation for data set C: 1.0\n",
      "\n"
     ]
    }
   ],
   "source": [
    "A =  pd.Series([0, 1, 2, 3, 4, 5, 6, 7, 8, 9, 10 , 11, 12])\n",
    "B = pd.Series([0, 0, 0, 12, 7, 18, 47, 25, 0, 13, 0, 35])\n",
    "C = pd.Series(np.random.exponential(scale=43, size=1000))\n",
    "\n",
    "A = ( A - A.mean() ) / A.std()\n",
    "B = ( B - B.mean() ) / B.std()\n",
    "C = ( C - C.mean() ) / C.std()\n",
    "\n",
    "print(\"Mean for data set A:\", A.mean())\n",
    "print(\"Standard deviation for data set A:\", A.std())\n",
    "print()\n",
    "\n",
    "print(\"Mean for data set B:\", B.mean())\n",
    "print(\"Standard deviation for data set B:\", B.std())\n",
    "print()\n",
    "\n",
    "print(\"Mean for data set C:\", C.mean())\n",
    "print(\"Standard deviation for data set C:\", C.std())\n",
    "print()\n"
   ]
  },
  {
   "cell_type": "markdown",
   "metadata": {},
   "source": [
    "**Part D:** Why might this result matter?"
   ]
  },
  {
   "cell_type": "markdown",
   "metadata": {},
   "source": [
    "**Typeset your solution to part D in this cell or cells**\n",
    "\n",
    "Even though there are various of the values from these different data sets, we can scale them by giving the same standard deviation which allows us to compare scores between datasets. This is called the standardizing data.\n"
   ]
  },
  {
   "cell_type": "markdown",
   "metadata": {},
   "source": [
    "**Part E:** Looking at each of the 3 data sets, come up with a real-world context where those kind of numbers might make for reasonable observations."
   ]
  },
  {
   "cell_type": "markdown",
   "metadata": {},
   "source": [
    "**Typeset your solution to part E in this cell or cells**\n",
    "\n",
    "Let's say that students are taking CSCI 3022 in 3 different sections and all 3 sections just took Midterm 1. Even though there are more/less students compared to other sections and got a various scores of the midterm, we can scale them by giving all 3 datasets to the same standard deviation. This process allows us to compare scores between datasets. \n"
   ]
  },
  {
   "cell_type": "markdown",
   "metadata": {},
   "source": [
    "[Back to top](#top)\n",
    "<a/ id='p4'></a>\n",
    "\n",
    "## (35 pts) Problem 4: Data (monthly patterns)\n",
    "***\n",
    "\n",
    "NOAA's Physical Sciences division (https://www.esrl.noaa.gov/psd) houses an enormous amount of weather data.  Load `BoulderPrecip.csv` from the course page for the last 120 years of monthly precipitation data from Boulder.  Let's take a look!"
   ]
  },
  {
   "cell_type": "code",
   "execution_count": 15,
   "metadata": {},
   "outputs": [
    {
     "data": {
      "text/html": [
       "<div>\n",
       "<style scoped>\n",
       "    .dataframe tbody tr th:only-of-type {\n",
       "        vertical-align: middle;\n",
       "    }\n",
       "\n",
       "    .dataframe tbody tr th {\n",
       "        vertical-align: top;\n",
       "    }\n",
       "\n",
       "    .dataframe thead th {\n",
       "        text-align: right;\n",
       "    }\n",
       "</style>\n",
       "<table border=\"1\" class=\"dataframe\">\n",
       "  <thead>\n",
       "    <tr style=\"text-align: right;\">\n",
       "      <th></th>\n",
       "      <th>Year</th>\n",
       "      <th>JAN</th>\n",
       "      <th>FEB</th>\n",
       "      <th>MAR</th>\n",
       "      <th>APR</th>\n",
       "      <th>MAY</th>\n",
       "      <th>JUN</th>\n",
       "      <th>JUL</th>\n",
       "      <th>AUG</th>\n",
       "      <th>SEP</th>\n",
       "      <th>OCT</th>\n",
       "      <th>NOV</th>\n",
       "      <th>DEC</th>\n",
       "      <th>YEAR TOTAL</th>\n",
       "    </tr>\n",
       "  </thead>\n",
       "  <tbody>\n",
       "    <tr>\n",
       "      <th>0</th>\n",
       "      <td>1900</td>\n",
       "      <td>0.4</td>\n",
       "      <td>1.06</td>\n",
       "      <td>0.75</td>\n",
       "      <td>9.18</td>\n",
       "      <td>1.84</td>\n",
       "      <td>0.49</td>\n",
       "      <td>0.48</td>\n",
       "      <td>0.22</td>\n",
       "      <td>1.54</td>\n",
       "      <td>0.13</td>\n",
       "      <td>0.19</td>\n",
       "      <td>0.61</td>\n",
       "      <td>16.89</td>\n",
       "    </tr>\n",
       "    <tr>\n",
       "      <th>1</th>\n",
       "      <td>1901</td>\n",
       "      <td>0.53</td>\n",
       "      <td>0.3</td>\n",
       "      <td>1.74</td>\n",
       "      <td>3.51</td>\n",
       "      <td>1.62</td>\n",
       "      <td>1.76</td>\n",
       "      <td>0.46</td>\n",
       "      <td>1.69</td>\n",
       "      <td>0.16</td>\n",
       "      <td>0.65</td>\n",
       "      <td>Tr</td>\n",
       "      <td>1.43</td>\n",
       "      <td>13.85</td>\n",
       "    </tr>\n",
       "    <tr>\n",
       "      <th>2</th>\n",
       "      <td>1902</td>\n",
       "      <td>0.37</td>\n",
       "      <td>0.48</td>\n",
       "      <td>1.48</td>\n",
       "      <td>1.01</td>\n",
       "      <td>2.32</td>\n",
       "      <td>1.46</td>\n",
       "      <td>1.26</td>\n",
       "      <td>0.53</td>\n",
       "      <td>5.46</td>\n",
       "      <td>1.44</td>\n",
       "      <td>1.29</td>\n",
       "      <td>1.34</td>\n",
       "      <td>18.44</td>\n",
       "    </tr>\n",
       "    <tr>\n",
       "      <th>3</th>\n",
       "      <td>1903</td>\n",
       "      <td>0.08</td>\n",
       "      <td>1.52</td>\n",
       "      <td>1.45</td>\n",
       "      <td>2.31</td>\n",
       "      <td>2.02</td>\n",
       "      <td>1.87</td>\n",
       "      <td>0.95</td>\n",
       "      <td>1.46</td>\n",
       "      <td>1.31</td>\n",
       "      <td>3.43</td>\n",
       "      <td>0.15</td>\n",
       "      <td>0.16</td>\n",
       "      <td>16.71</td>\n",
       "    </tr>\n",
       "    <tr>\n",
       "      <th>4</th>\n",
       "      <td>1904</td>\n",
       "      <td>0.09</td>\n",
       "      <td>0.31</td>\n",
       "      <td>2.37</td>\n",
       "      <td>1.45</td>\n",
       "      <td>5.35</td>\n",
       "      <td>2.72</td>\n",
       "      <td>1.05</td>\n",
       "      <td>1.00</td>\n",
       "      <td>1.6</td>\n",
       "      <td>1.06</td>\n",
       "      <td>0.08</td>\n",
       "      <td>0.7</td>\n",
       "      <td>17.78</td>\n",
       "    </tr>\n",
       "  </tbody>\n",
       "</table>\n",
       "</div>"
      ],
      "text/plain": [
       "   Year   JAN   FEB   MAR   APR   MAY   JUN   JUL   AUG   SEP   OCT   NOV  \\\n",
       "0  1900   0.4  1.06  0.75  9.18  1.84  0.49  0.48  0.22  1.54  0.13  0.19   \n",
       "1  1901  0.53   0.3  1.74  3.51  1.62  1.76  0.46  1.69  0.16  0.65    Tr   \n",
       "2  1902  0.37  0.48  1.48  1.01  2.32  1.46  1.26  0.53  5.46  1.44  1.29   \n",
       "3  1903  0.08  1.52  1.45  2.31  2.02  1.87  0.95  1.46  1.31  3.43  0.15   \n",
       "4  1904  0.09  0.31  2.37  1.45  5.35  2.72  1.05  1.00   1.6  1.06  0.08   \n",
       "\n",
       "    DEC YEAR TOTAL  \n",
       "0  0.61      16.89  \n",
       "1  1.43      13.85  \n",
       "2  1.34      18.44  \n",
       "3  0.16      16.71  \n",
       "4   0.7      17.78  "
      ]
     },
     "execution_count": 15,
     "metadata": {},
     "output_type": "execute_result"
    }
   ],
   "source": [
    "dfPrecip = pd.read_csv('../Data/BoulderPrecip.csv')\n",
    "dfPrecip.head()\n"
   ]
  },
  {
   "cell_type": "markdown",
   "metadata": {},
   "source": [
    "**Part A:** SCRUBBING!  Our data set is going to be tough to use for a few reasons.\n",
    "\n",
    "1) When the amount of precipitation was nonzero but too small to be recorded, this data set recorded `tr`.  Replace these with zeroes.\n",
    "\n",
    "2) 2020 isn't over yet!  We have one row at the bottom that isn't fully complete and NA values have been filled into the months that haven't happened yet.  This can wreak havoc on a lot of our methods!  Drop the 2020 data entirely.\n",
    "\n",
    "3) You may have some object typing issues relating to columns that contained both \"Tr\"/\"NA\" and numeric values.  Ensure that Python is treating all of your data as numeric!"
   ]
  },
  {
   "cell_type": "code",
   "execution_count": 94,
   "metadata": {},
   "outputs": [
    {
     "name": "stdout",
     "output_type": "stream",
     "text": [
      "       Year   JAN   FEB   MAR   APR   MAY   JUN   JUL   AUG   SEP   OCT   NOV  \\\n",
      "0    1900.0  0.40  1.06  0.75  9.18  1.84  0.49  0.48  0.22  1.54  0.13  0.19   \n",
      "1    1901.0  0.53  0.30  1.74  3.51  1.62  1.76  0.46  1.69  0.16  0.65  0.00   \n",
      "2    1902.0  0.37  0.48  1.48  1.01  2.32  1.46  1.26  0.53  5.46  1.44  1.29   \n",
      "3    1903.0  0.08  1.52  1.45  2.31  2.02  1.87  0.95  1.46  1.31  3.43  0.15   \n",
      "4    1904.0  0.09  0.31  2.37  1.45  5.35  2.72  1.05  1.00  1.60  1.06  0.08   \n",
      "..      ...   ...   ...   ...   ...   ...   ...   ...   ...   ...   ...   ...   \n",
      "115  2015.0  0.38  3.69  0.38  4.50  7.82  1.76  2.98  0.31  0.14  2.02  1.83   \n",
      "116  2016.0  0.37  1.44  3.84  3.34  2.01  2.37  0.61  1.06  0.45  0.38  0.47   \n",
      "117  2017.0  1.41  0.73  1.45  3.15  6.29  0.45  1.30  1.62  1.92  2.42  0.57   \n",
      "118  2018.0  0.74  1.04  2.23  1.35  4.76  1.82  1.84  0.24  1.02  2.68  1.19   \n",
      "119  2019.0  1.57  0.74  2.83  1.87  3.89  2.12  2.21  0.10  0.56  2.42  2.38   \n",
      "\n",
      "      DEC  YEAR TOTAL  Spring1  Spring2  \n",
      "0    0.61       16.89    11.77    11.51  \n",
      "1    1.43       13.85     6.87     6.89  \n",
      "2    1.34       18.44     4.81     4.79  \n",
      "3    0.16       16.71     5.78     6.20  \n",
      "4    0.70       17.78     9.17     9.52  \n",
      "..    ...         ...      ...      ...  \n",
      "115  1.11       27.39    12.70    14.08  \n",
      "116  0.91       17.25     9.19     7.72  \n",
      "117  0.68       21.89    10.89     9.89  \n",
      "118  0.34       19.01     8.34     7.93  \n",
      "119  0.35       21.04     8.59     7.88  \n",
      "\n",
      "[120 rows x 16 columns]\n",
      "Year          float64\n",
      "JAN           float64\n",
      "FEB           float64\n",
      "MAR           float64\n",
      "APR           float64\n",
      "MAY           float64\n",
      "JUN           float64\n",
      "JUL           float64\n",
      "AUG           float64\n",
      "SEP           float64\n",
      "OCT           float64\n",
      "NOV           float64\n",
      "DEC           float64\n",
      "YEAR TOTAL    float64\n",
      "Spring1       float64\n",
      "Spring2       float64\n",
      "dtype: object\n"
     ]
    }
   ],
   "source": [
    "dfPrecip = dfPrecip.replace( \"Tr\", 0.0 )\n",
    "dfPrecip = dfPrecip.replace( \"NA\", 0.0 )\n",
    "\n",
    "dfPrecip = dfPrecip.astype( float )\n",
    "\n",
    "dfPrecip.drop( dfPrecip[dfPrecip[\"Year\"] == 2020].index )\n",
    "\n",
    "print(dfPrecip)\n",
    "print(dfPrecip.dtypes)"
   ]
  },
  {
   "cell_type": "markdown",
   "metadata": {},
   "source": [
    "**Part B:** Generate a series of 12 box plots with month as the x axis and precipitation on the y-axis."
   ]
  },
  {
   "cell_type": "code",
   "execution_count": 22,
   "metadata": {},
   "outputs": [
    {
     "data": {
      "text/plain": [
       "<AxesSubplot:>"
      ]
     },
     "execution_count": 22,
     "metadata": {},
     "output_type": "execute_result"
    },
    {
     "data": {
      "image/png": "[encoded data removed]",
      "text/plain": [
       "<Figure size 432x288 with 1 Axes>"
      ]
     },
     "metadata": {
      "needs_background": "light"
     },
     "output_type": "display_data"
    }
   ],
   "source": [
    "dfPrecip.boxplot( column = [\"JAN\", \"FEB\", \"MAR\", \"APR\", \"MAY\", \"JUN\", \"JUL\", \"AUG\", \"SEP\", \"OCT\", \"NOV\", \"DEC\"] )"
   ]
  },
  {
   "cell_type": "markdown",
   "metadata": {},
   "source": [
    "\n",
    "**Part C:** Spring is the wet season in Boulder.   But what is Spring?\n",
    "\n",
    "Atmospheric scientists love to group months seasonally, breaking the year into a Winter season including December, January, February; a Spring including March, April, and May; and so forth.\n",
    "\n",
    "The solar year, however, says that Spring runs from near the end of March until near the end of June: let's round at the nearest month and say that it includes the months of April, May and June.\n",
    "\n",
    "Generate a box plot with precipitation on the y-axis and the two possible monthly 'Spring' groupings (March-May versus April-June) as the x-axis."
   ]
  },
  {
   "cell_type": "code",
   "execution_count": 117,
   "metadata": {},
   "outputs": [
    {
     "data": {
      "text/plain": [
       "<AxesSubplot:ylabel='Precipitation'>"
      ]
     },
     "execution_count": 117,
     "metadata": {},
     "output_type": "execute_result"
    },
    {
     "data": {
      "image/png": "[encoded data removed]",
      "text/plain": [
       "<Figure size 432x288 with 1 Axes>"
      ]
     },
     "metadata": {
      "needs_background": "light"
     },
     "output_type": "display_data"
    }
   ],
   "source": [
    "SpringGroup1 = dfPrecip[\"MAR\"] + dfPrecip[\"APR\"] + dfPrecip[\"MAY\"]\n",
    "SpringGroup2 = dfPrecip[\"APR\"] + dfPrecip[\"MAY\"] + dfPrecip[\"JUN\"]\n",
    "\n",
    "dfPrecip[\"March-May\"] = SpringGroup1\n",
    "dfPrecip[\"April-June\"] = SpringGroup2\n",
    "data = [dfPrecip[\"March-May\"], dfPrecip[\"April-June\"]]\n",
    "\n",
    "figure = plt.figure()\n",
    "figure.suptitle('Precipitation between two Spring Groups', fontsize = 14)\n",
    "\n",
    "ax = figure.add_subplot(111)\n",
    "ax.boxplot(data)\n",
    "\n",
    "ax.set_ylabel('Precipitation')\n",
    "\n",
    "dfPrecip.boxplot( column = [\"March-May\", \"April-June\"] )"
   ]
  },
  {
   "cell_type": "markdown",
   "metadata": {},
   "source": [
    "**Part D:** These might look pretty similar!  Highlight and comment on any differences by calculating the mean, standard deviation, and a Tukey five number summary of each classification of Spring.  Is there a reason here to favor one grouping over the other?"
   ]
  },
  {
   "cell_type": "code",
   "execution_count": 70,
   "metadata": {},
   "outputs": [
    {
     "name": "stdout",
     "output_type": "stream",
     "text": [
      "Spring Group 1 Stats -  count    120.00000\n",
      "mean       7.51900\n",
      "std        2.73733\n",
      "min        2.21000\n",
      "25%        5.59750\n",
      "50%        7.10000\n",
      "75%        9.17500\n",
      "max       16.75000\n",
      "Name: Spring1, dtype: float64\n",
      "-----------------------------------------------\n",
      "\n",
      "Spring Group 2 Stats -  count    120.000000\n",
      "mean       7.681917\n",
      "std        2.939852\n",
      "min        3.120000\n",
      "25%        5.222500\n",
      "50%        7.380000\n",
      "75%        9.482500\n",
      "max       19.070000\n",
      "Name: Spring2, dtype: float64\n"
     ]
    }
   ],
   "source": [
    "print(\"Spring Group 1 Stats - \", dfPrecip['Spring1'].describe() )\n",
    "print(\"-----------------------------------------------\")\n",
    "print()\n",
    "print(\"Spring Group 2 Stats - \", dfPrecip['Spring2'].describe() )"
   ]
  },
  {
   "cell_type": "markdown",
   "metadata": {},
   "source": [
    "**Typeset your analysis to part D in this cell or cells**\n",
    "\n",
    "By comparing with Spring Group 1 Stats and Spring Group 2 Stats, the mean, standard deviation, and the Tukey five number are similar but Spring Group 2 has little higher numbers than Spring Group 1, except 25%. Since Spring Group 2 Stats starts later (April) than Spring Group 1 (March), I believe that it would make sense that the numbers are higher. There is this one reason why I would pick Spring Group 1 (Mar - May) than Spring Group 2 (April - June). I noticed that the data from Spring Group 2 are more spread apart compared to Spring Group 1, which makes Spring Group 1 more accurate than the other. So I want to highlight that Spring Group 1 have more accurate data than Spring Group 2.\n",
    "\n"
   ]
  },
  {
   "cell_type": "markdown",
   "metadata": {},
   "source": [
    "**Part E:** Create a density histogram of the September precipitation.  Classify and describe this histogram, including discussion of any skewness, multimodality, or outliers.  Find the data point associated with September, 2013, and recreate your histogram with that value in a different color or otherwise clearly marked."
   ]
  },
  {
   "cell_type": "code",
   "execution_count": 88,
   "metadata": {},
   "outputs": [
    {
     "data": {
      "image/png": "[encoded data removed]",
      "text/plain": [
       "<Figure size 432x288 with 1 Axes>"
      ]
     },
     "metadata": {
      "needs_background": "light"
     },
     "output_type": "display_data"
    },
    {
     "data": {
      "image/png": "[encoded data removed]",
      "text/plain": [
       "<Figure size 432x288 with 1 Axes>"
      ]
     },
     "metadata": {
      "needs_background": "light"
     },
     "output_type": "display_data"
    }
   ],
   "source": [
    "plt.hist( dfPrecip[\"SEP\"], bins = 20 )\n",
    "plt.show()\n",
    "\n",
    "\n",
    "dfPrecip[\"SEP\"].hist( bins = 20 )\n",
    "plt.hist( dfPrecip[\"SEP\"], bins = 20, color = 'red' )\n",
    "\n",
    "plt.text( dfPrecip[dfPrecip[\"Year\"] == 2013][\"SEP\"].values[0] - 15, 30, 'Precipitation/Density', size = 25, color = 'blue')\n",
    "plt.text( dfPrecip[dfPrecip[\"Year\"] == 2013][\"SEP\"].values[0] - 12.5, 25, 'September 2013', size = 20, color = 'pink')\n",
    "\n",
    "plt.text(dfPrecip[dfPrecip[\"Year\"] == 2013][\"SEP\"].values[0] - 22, 15, 'Density', rotation = 90, size = 14)\n",
    "plt.text(dfPrecip[dfPrecip[\"Year\"] == 2013][\"SEP\"].values[0] - 12, -7, 'Precipitation', size = 14)\n",
    "\n",
    "plt.show()\n"
   ]
  },
  {
   "cell_type": "markdown",
   "metadata": {},
   "source": [
    "**Typeset your analysis for part E in this cell or cells**\n",
    "\n",
    "This histogram of Precipitation/Density in September 2013 is a positive right skewed histogram between 0 and 6. In addition, there is an outlier at 17.5 \n"
   ]
  },
  {
   "cell_type": "code",
   "execution_count": null,
   "metadata": {},
   "outputs": [],
   "source": []
  }
 ],
 "metadata": {
  "kernelspec": {
   "display_name": "Python 3",
   "language": "python",
   "name": "python3"
  },
  "language_info": {
   "codemirror_mode": {
    "name": "ipython",
    "version": 3
   },
   "file_extension": ".py",
   "mimetype": "text/x-python",
   "name": "python",
   "nbconvert_exporter": "python",
   "pygments_lexer": "ipython3",
   "version": "3.8.5"
  }
 },
 "nbformat": 4,
 "nbformat_minor": 2
}
