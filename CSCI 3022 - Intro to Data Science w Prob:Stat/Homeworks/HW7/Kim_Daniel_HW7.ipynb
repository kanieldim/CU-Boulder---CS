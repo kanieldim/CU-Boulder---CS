{
 "cells": [
  {
   "cell_type": "markdown",
   "metadata": {},
   "source": [
    "<a id='top'></a>\n",
    "\n",
    "# CSCI3022 F20\n",
    "# Homework 7: Hypothesis Testing\n",
    "***\n",
    "\n",
    "**Name**: Daniel Kim\n",
    "\n",
    "***\n",
    "\n",
    "This assignment is due on Canvas by **MIDNIGHT on Monday November 23**. Your solutions to theoretical questions should be done in Markdown directly below the associated question.  Your solutions to computational questions should include any specified Python code and results as well as written commentary on your conclusions.  Remember that you are encouraged to discuss the problems with your classmates, but **you must write all code and solutions on your own**.\n",
    "\n",
    "**NOTES**: \n",
    "\n",
    "- Any relevant data sets should be available under the **Data** module on Canvas, as well as in the zipped folder in which you obtained this assignment. \n",
    "- Do **NOT** load or use any Python packages that are not available in Anaconda 3.6. \n",
    "- Because you can technically evaluate notebook cells in a non-linear order, it's a good idea to do Kernel $\\rightarrow$ Restart & Run All as a check before submitting your solutions.  That way if we need to run your code you will know that it will work as expected. \n",
    "- It is **bad form** to make your reader interpret numerical output from your code.  If a question asks you to compute some value from the data you should show your code output **AND** write a summary of the results in Markdown directly below your code. \n",
    "- You **MUST** leave all of your notebook cells **evaluated** so the graders do not need to re-evaluate them. For 100+ students, this extra time adds up, and makes the graders' lives unnecessarily more difficult.\n",
    "- This probably goes without saying, but... For any question that asks you to calculate something, you **must show all work and justify your answers to receive credit**. Sparse or nonexistent work will receive sparse or nonexistent credit. \n",
    "- Submit only this Jupyter notebook to Canvas.  Do not compress it using tar, rar, zip, etc. \n",
    "\n",
    "---\n",
    "**Shortcuts:**  [Problem 1](#p1) | [Problem 2](#p2) | [Problem 3](#p3) | [Problem 4](#p4) |\n",
    "---"
   ]
  },
  {
   "cell_type": "code",
   "execution_count": 55,
   "metadata": {
    "scrolled": true
   },
   "outputs": [],
   "source": [
    "import numpy as np\n",
    "import math\n",
    "import scipy.stats as stats\n",
    "import matplotlib.pyplot as plt\n",
    "import pandas as pd\n",
    "%matplotlib inline"
   ]
  },
  {
   "cell_type": "markdown",
   "metadata": {},
   "source": [
    "<br>\n",
    "\n",
    "---\n",
    "<a/ id='p2'></a>\n",
    "[Back to top](#top)\n",
    "## [25 points] Problem 1: A One-Sample Hypothesis\n",
    "\n",
    "\n",
    "You are waiting for the bus, and are rather impatient.\n",
    "Your friend tells you that busses arrive according to an exponential distribution with parameter $\\lambda=1/10$ (busses/min) for a *mean* waiting time of 10 minutes.  You've been waiting for a while, and want to prove their hypothesis wrong: you're thinking the wait is longer than that (one-tailed).\n",
    "\t\t\n",
    "(Note: You may use the approximation $e^3\\approx20$ when applicable on this problem.  You may do calculations in Python if you wish, but all exposition should be in markdown.)\n",
    "\n",
    "**Part A:** State the null and alternative hypotheses being tested."
   ]
  },
  {
   "cell_type": "markdown",
   "metadata": {},
   "source": [
    "**Null hypothesis:**\n",
    "\n",
    "$H_0: \\mu = 10$\n",
    "\n",
    "**Alternative hypothesis:** \n",
    "\n",
    "$H_1: \\mu > 10$"
   ]
  },
  {
   "cell_type": "markdown",
   "metadata": {},
   "source": [
    "**Part B:** Devise a test of the form \"reject if $X>c$\" where $c$ is how long you have to wait until the bus arrives.  Use a significance of $\\alpha= .05$.  How long do you wait before you reject the null hypothesis with a probability of type I error of 5%?\n"
   ]
  },
  {
   "cell_type": "markdown",
   "metadata": {},
   "source": [
    "$P($reject if $X > c | H_0)$\n",
    "\n",
    "$P(X > c | \\frac{1}{10}) = \\alpha = 0.05$\n",
    "\n",
    "$\\int_{c}^{\\infty} \\frac{1}{10}e^{\\frac{-x}{10}}dx = 0.05$ \n",
    "\n",
    "$-(e^{\\frac{-x}{10}})\\Big|_c^\\infty = 0.05$\n",
    "\n",
    "$0 - (-(e^{\\frac{-c}{10}})) = 0.05$\n",
    "\n",
    "$e^{\\frac{-c}{10}} = 0.05$\n",
    "\n",
    "$-\\frac{c}{10} = \\ln(0.05)$\n",
    "\n",
    "$c = -10 * \\ln(0.05)$\n",
    "\n",
    "$c \\approx 29.96$\n",
    "\n",
    "\n"
   ]
  },
  {
   "cell_type": "markdown",
   "metadata": {},
   "source": [
    "**Part C:** What is the power of your test if the true rate is $\\lambda=1/60$?  (NB: **Power** is defined as the complement of making a Type II Error: it's the rate at which you correctly reject a false null hypothesis)\n"
   ]
  },
  {
   "cell_type": "markdown",
   "metadata": {},
   "source": [
    "We need to make sure that we reject a false null hypothesis. In other words, using power...\n",
    "\n",
    "Using $H_0: \\mu = 10, \\alpha = 0.05$, $\\lambda$ = $\\frac{1}{60}$\n",
    "\n",
    "$\\therefore $ Reject $H_0$ if $C \\geq 29.96$\n",
    "\n"
   ]
  },
  {
   "cell_type": "markdown",
   "metadata": {},
   "source": [
    "\n",
    "\n",
    "\n",
    "\n",
    "\n",
    "**Part D:** It turns out neither the null nor alternative are correct!  The *true* distribution of busses was a continuous uniform distribution with pdf\n",
    "$$f(x)=\\begin{cases}\n",
    "\t\t\\frac{1}{60} & 0<x<60 \\, min\\\\\n",
    "\t\t0 & else\n",
    "\t\t\\end{cases}$$\n",
    "\t\t\n",
    "What is the probability that you reject the null hypothesis?  What's different about this and how we've been discussing power/Type II error rates?\n",
    "\n",
    "\n",
    "\n"
   ]
  },
  {
   "cell_type": "markdown",
   "metadata": {},
   "source": []
  },
  {
   "cell_type": "markdown",
   "metadata": {},
   "source": [
    "<br>\n",
    "\n",
    "---\n",
    "<a/ id='p2'></a>\n",
    "[Back to top](#top)\n",
    "## [25 points] Problem 2: Choosing your error levels\n",
    "\n",
    "Ready the article at the following link: https://tinyurl.com/y6sxe9n8.\n",
    "\n",
    "(If you have issues, log into the CU-libraries page, and search for the article \"The Proposal to Lower P Value Thresholds to .005,\" by John P. A. Ioannidis from JAMA 2018.)\n",
    "\n",
    "\n",
    "Then summarize it briefly (4-5 sentences), making sure you also answer the following: in what ways are scientists misusing p-values? Do you agree with the suggestion made in this article? What other suggestions are being made to\n",
    "use them properly?\n"
   ]
  },
  {
   "cell_type": "markdown",
   "metadata": {},
   "source": [
    "In this article, scientists are saying that most of the statistical significance testing articles with p-value 0.05 or less are false. They're making a claim that the p-value should be lower from 0.05 to 0.005 which makes it a stronger endorsement. I agree with this suggestion since it would be more accurate. Even though having 95% correct is still high, I believe that especially with large data, that 5% incorrect affects more than you think. In addition, having a wider confidence interval with true mean would means that the p-values is being used properly. To add on, this article support the claims with applying Bayesian statistics and other statistics tools in order to get lower p-value more carefully and accurately. \n"
   ]
  },
  {
   "cell_type": "markdown",
   "metadata": {},
   "source": [
    "---\n",
    "\n",
    "<a id='p3'></a>\n",
    "[Back to top](#top)\n",
    "\n",
    "### [25 points] Problem 3 - Some Quick Hitters\n",
    "\n",
    "Keep your skills sharp by answering these straightforward questions."
   ]
  },
  {
   "cell_type": "markdown",
   "metadata": {},
   "source": [
    "**Part A**: <font color='green'>You're Michael Jordan in his prime...It's the sixth game of the 1998 NBA Finals and Byron Russell fouls you, but when you step up to take the freethrow, your transported to a CSCI 3022 classroom. Solve the following to \"make\" the freethrow:</font>\n",
    "\n",
    "You have a shuffled deck of cards. It includes the usual 52 cards and 2 Jokers. You flip over the cards one by one, without replacing them in the deck. You count how many cards you'll have to flip until you flip four of the following five cards: the six of hearts, the eight of diamonds, the king of clubs, and both of the jokers.  You repeat this many times. \n",
    "\n",
    "Simulate this process at least 25000 times. Plot a histogram with binsize=1 of the outcomes, in lightgrey with white outline. Compute the mean, median, and mode for this dataset, indicate them on the plot using a line, with linstyles of green dashed, red dotted, and black solid, respectively. Use a legend to label your histogram (of the distribution of flips), mean, median. Does this data look positively or negatively skewed? Explain below in a markdown cell, talk about the mean, median, and the shape of the histogram in your answer."
   ]
  },
  {
   "cell_type": "code",
   "execution_count": 56,
   "metadata": {},
   "outputs": [],
   "source": [
    "import random\n",
    "\n",
    "#Deck of cards\n",
    "cards = []\n",
    "\n",
    "finalHand = ['6Hearts','8Diamonds','kClubs','joker','joker']\n",
    "discardCards = ['discard' for count in range(0, 49, 1)]\n",
    "\n",
    "cards = np.append(discardCards, finalHand)\n",
    "#print(cards)\n",
    "\n",
    "#Array for number of cards in each round\n",
    "numberInEachRound = []\n",
    "\n",
    "for i in range(0, 25000, 1):\n",
    "    \n",
    "    #Shuffle cards\n",
    "    random.shuffle(cards)\n",
    "    #print(cards)\n",
    "    \n",
    "    #Resets each round\n",
    "    cardsDrawn = 0\n",
    "    finalHandNumber = 0\n",
    "    \n",
    "    #Within each round\n",
    "    for k in range( 0, len(cards), 1 ):\n",
    "        draw = cards[k]\n",
    "        #print(draw)\n",
    "        \n",
    "        cardsDrawn += 1\n",
    "\n",
    "        if (draw == '6Hearts' or draw == '8Diamonds' or draw == 'kClubs' or draw == 'joker'):\n",
    "            finalHandNumber += 1\n",
    "\n",
    "            if finalHandNumber == 4:\n",
    "                break\n",
    "                \n",
    "\n",
    "    #Finally add the number to numberInEachRound\n",
    "    numberInEachRound.append(cardsDrawn)\n",
    "    \n",
    "#print(numberInEachRound)\n",
    "\n",
    "mean = np.mean(numberInEachRound)\n",
    "median = np.median(numberInEachRound)\n",
    "mode = stats.mode(numberInEachRound, axis = None)\n"
   ]
  },
  {
   "cell_type": "code",
   "execution_count": 57,
   "metadata": {},
   "outputs": [
    {
     "name": "stdout",
     "output_type": "stream",
     "text": [
      "Mean: 36.70976\n",
      "Median: 38.0\n",
      "Mode: [40]\n"
     ]
    },
    {
     "data": {
      "image/png": "[encoded data removed]",
      "text/plain": [
       "<Figure size 432x288 with 1 Axes>"
      ]
     },
     "metadata": {
      "needs_background": "light"
     },
     "output_type": "display_data"
    }
   ],
   "source": [
    "print(\"Mean:\", mean)\n",
    "print(\"Median:\", median)\n",
    "print(\"Mode:\", mode[0])\n",
    "\n",
    "plt.hist(numberInEachRound, color='gray', edgecolor='white', bins = np.arange(0,55,1))\n",
    "\n",
    "plt.axvline(mean, color='green', linestyle='dashed', linewidth=1)\n",
    "plt.axvline(median, color='red', linestyle='dotted', linewidth=1)\n",
    "plt.axvline(mode[0], color='black', linestyle='solid', linewidth=1)\n",
    "\n",
    "plt.xlabel(\"Number of cards flipped\")\n",
    "plt.ylabel(\"Frequency\")\n",
    "\n",
    "plt.legend({'Mean':mean,'Median':median,'Mode':mode})\n",
    "\n",
    "plt.show()\n"
   ]
  },
  {
   "cell_type": "markdown",
   "metadata": {},
   "source": [
    "From the shape of the histogram, it looks like the data is negatively skewed. This also supports the claim when we look at the vertical lines for the mean and the median. In negatively skewed histogram, the mean should be smaller than the median and in positively skewed histogram, the mean should be greater than the median. Therefore from above, we can see that the mean is smaller than the median, which concludes with a negative skew in the data."
   ]
  },
  {
   "cell_type": "markdown",
   "metadata": {},
   "source": [
    "***\n",
    "\n",
    "**Part B**: <font color='green'> Now you're back up for another freethrow, but this time you've been transported to the third overtime of the famous [1976 NBA Finals Game Five](https://www.youtube.com/watch?v=3ZjNDvuMxzc). You line up for a freethrow, but oddly enough you're again transported back to CSCI 3022... Why does this keep happening? If you solve this problem, you make the freethrow:</font>\n",
    "\n",
    "In general, which is wider: a 95% confidence interval or a 99% confidence interval? How would you explain this to your younger sibling, who is not a statistician?"
   ]
  },
  {
   "cell_type": "markdown",
   "metadata": {},
   "source": [
    "**Solution**:\n",
    "\n",
    "A 99 percent confidence interval would be wider than a 95 percent confidence interval since it can have more confidence that the confidence interval contains true mean. If it has a 95 percent confidence interval, it has less confidence that the confidence interval contains true mean which is narrower than a 99 percent confidence interval. \n"
   ]
  },
  {
   "cell_type": "markdown",
   "metadata": {},
   "source": [
    "***\n",
    "\n",
    "**Part C**: <font color='green'>The crowd is silent... Because there is no crowd... And it's not a basketball game...  You're Will Smith and it's 1998. You've got an important decision to make: You've been offered the lead role in both a sci-fi flick and a steampunk western action comedy. If you make this \"freethrow\", Will Smith takes the sci-fi role and stars in \"The Matrix\" as Neo. If you fail to solve this question, Will Smith makes the blunder of turning down the \"Matrix\" to appear in \"Wild Wild West\" and history remains unchanged.\n",
    "</font>\n",
    "\n",
    "Let $X$ be a normally-distributed random variable. You draw from it and get these values, stored in the numpy array **smith**, below. These represent the probabilities of him taking the role in the matrix, calculated by different \"statistical measures\". Compute a 95% confidence interval for the _mean_.\n"
   ]
  },
  {
   "cell_type": "code",
   "execution_count": 42,
   "metadata": {},
   "outputs": [
    {
     "name": "stdout",
     "output_type": "stream",
     "text": [
      "(0.15617977118316947, 0.4273329560895578)\n"
     ]
    }
   ],
   "source": [
    "smith = np.array([0.67832,0.113,0.423,0.279,0.580,0.401,0.189, 0.198, 0.147, 0.103, 0.098])\n",
    "\n",
    "alpha = 0.95\n",
    "degrees = len(smith) - 1\n",
    "mean = np.mean(smith)\n",
    "SD = stats.sem(smith)\n",
    "\n",
    "confidenceInterval = stats.t.interval(alpha, degrees, mean, SD)\n",
    "\n",
    "print(confidenceInterval)"
   ]
  },
  {
   "cell_type": "markdown",
   "metadata": {},
   "source": []
  },
  {
   "cell_type": "markdown",
   "metadata": {},
   "source": [
    "\n",
    "***\n",
    "\n",
    "**Part D**: <font color='green'>Now we're back to basketball...You're Askia Booker, former CU point guard. It's the [2013 KU game](https://www.youtube.com/watch?v=-ycTB27RlEc) and your take the ball with 2.7 seconds left. To sink the three and win the game, solve the following: </font>\n",
    "\n",
    "If you're doing quality control for the average strength of carbon fiber that will be used in airplane construction, and your alternative hypothesis is that the strength of the carbon is below tolerance, and therefore unsafe, would you rather have a low Type I error rate or a low Type II error rate? Explain.\n"
   ]
  },
  {
   "cell_type": "markdown",
   "metadata": {},
   "source": [
    "**Solution**:\n",
    "\n",
    "I believe that a low Type II error would fit the best in order to do quality control for the average strength of carbon fiber that will be used in airplane construction. To exemplify, we would want a false negative so that the strength of the carbon is below tolerance, and therefore unsafe. \n"
   ]
  },
  {
   "cell_type": "markdown",
   "metadata": {},
   "source": [
    "\n",
    "***\n",
    "\n",
    "**Part E**: <font color='green'>Well, we haven't stopped time traveling yet.... But now we're in the soccor world. Your a striker in the [1994 Fifa World Cup Final](https://www.youtube.com/watch?v=pLPM_JSbGvI) between Brazil and Italy. Solve this problem to make a penalaty kick during the final shootout:</font>\n",
    "\n",
    "You measure 49 suckers from baby reef octopuses and find that they are, on average, 47.2 mm wide, with a standard devaition of 29.2mm. \n",
    "\n",
    "Then you measure 65 suckers from from baby dumbo octopuses and find that they are, on average, 63.9 mm wide, with a standard deviation of 19.6 mm. \n",
    "\n",
    "Is there statistical evidence at the 0.025 significance level that the true mean of baby dumbo octopus sucker width exceeds the true mean of baby reef octopus sucker width by more than 7 mm?  Use a test of your choice."
   ]
  },
  {
   "cell_type": "markdown",
   "metadata": {},
   "source": [
    "We are supporting the claim with p-value test\n",
    "\n",
    "Where $\\mu_{dumbo}$ is dumbo octopus and $\\mu_{reef}$ is reef octopus:\n",
    "\n",
    "$H_0 : \\mu_{dumbo} - \\mu_{reef} = 7 mm$\n",
    "\n",
    "$H_1 : \\mu_{dumbo} - \\mu_{reef} > 7 mm $\n",
    "\n",
    "The test-statistic equation :\n",
    "\n",
    "$T = \\dfrac{\\bar{x}_{dumbo} - \\bar{x}_{reef} - 7 }{\\sqrt{\\frac{ SD_{dumbo}^2 }{size_{dumbo}} + \\frac{ SD_{reef}^2 }{size_{reef}} } }$\n",
    "\n",
    "To compute p-value with test-statistic:\n",
    "\n",
    "1 - stats.t.cdf(tValue, dof)\n"
   ]
  },
  {
   "cell_type": "code",
   "execution_count": 50,
   "metadata": {},
   "outputs": [
    {
     "name": "stdout",
     "output_type": "stream",
     "text": [
      "T = 2.009\n",
      "p-value = 0.023\n"
     ]
    }
   ],
   "source": [
    "alpha = 0.025\n",
    "\n",
    "mean_reef = 47.2\n",
    "SD_reef = 29.2\n",
    "size_reef = 49\n",
    "\n",
    "mean_dumbo = 63.9\n",
    "SD_dumbo = 19.6\n",
    "size_dumbo = 65\n",
    "\n",
    "dof = size_reef + size_dumbo - 2\n",
    "\n",
    "numerator = mean_dumbo - mean_reef - 7\n",
    "denomerator = np.sqrt((SD_dumbo**2) / size_dumbo + (SD_reef**2) / size_reef)\n",
    "tValue = numerator / denomerator\n",
    "\n",
    "print(\"T = {:.3f}\".format(tValue))\n",
    "\n",
    "p_value = 1 - stats.t.cdf(tValue, dof)\n",
    "print(\"p-value = {:.3f}\".format(p_value))"
   ]
  },
  {
   "cell_type": "markdown",
   "metadata": {},
   "source": [
    "P-value = 0.023 < 0.025\n",
    "\n",
    "From above, since the p-value is smaller than significance level, we can conclude that dumbo octopus sucker width exceeds the true mean of baby reef octopus sucker width by more than 7 mm at 97.5% confidence level.\n",
    "\n"
   ]
  },
  {
   "cell_type": "markdown",
   "metadata": {},
   "source": [
    "---\n",
    "\n",
    "<a id='p4'></a>\n",
    "[Back to top](#top)\n",
    "\n",
    "### [25 points] Problem 4 - Maybe we actually do some tests now?\n",
    "\n",
    "\n",
    "It is estimated that [about 75% of adults](https://www.ncbi.nlm.nih.gov/pmc/articles/PMC4997286/) in the United States drink coffee. Often, coffee is used to replace the need for sleep. It works alright, or so we think. Let's find out, in this exciting homework problem!\n",
    "\n",
    "[One recent study](https://www.sciencedirect.com/science/article/pii/S1388245703002554) investigated the effects of drinking coffee, taking a nap, and having a [\"coffee-nap\"](https://lifehacker.com/naps-vs-coffee-which-is-better-when-youre-exhausted-1730643671) - the practice of drinking some coffee *and then* having a short nap. The study broke participants up into three groups of 15 participants each, where the groups would have a nap, or have a coffee, or have a coffee-nap, then perform a task where their reaction time was measured. In previous experiments the mean reaction time measurement was found to be normally distributed. The reaction time means (milliseconds, ms) and standard deviations for the three groups of participants are given in the table below.\n",
    "\n",
    "$$\n",
    "\\begin{array}{c|c|c|c}\n",
    "\\textrm{Group} & \\textrm{Sample Size} & \\textrm{Mean} & \\textrm{Standard Deviation} \\\\\n",
    "\\hline \n",
    "\\textrm{Coffee+Nap} & 15 & 451.3 & 31.9 \\\\ \n",
    "\\textrm{Coffee} & 15 & 494.2 & 39.6 \\\\ \n",
    "\\textrm{Nap} & 15 & 492.8 & 45.2 \\\\ \n",
    "\\end{array}\n",
    "$$\n",
    "\n",
    "**Part A**: Compute a 97.5% t-confidence interval for the mean reaction time measurement for participants in each of these three groups. (You should find three separate confidence intervals.) Report the results.\n",
    "\n",
    "1. Can you make any conclusions regarding whether coffee, naps or both (coffee-naps) are better for faster reaction times?\n",
    "2. Why did we use a t-distribution?"
   ]
  },
  {
   "cell_type": "code",
   "execution_count": 58,
   "metadata": {},
   "outputs": [
    {
     "name": "stdout",
     "output_type": "stream",
     "text": [
      "CI for Coffee and Nap = [430.630 , 471.970]\n",
      "CI for just Coffee = [468.540, 519.860]\n",
      "CI for just Nap = [463.512, 522.088]\n"
     ]
    }
   ],
   "source": [
    "alpha =  0.025  #1- 0.975\n",
    "\n",
    "#CI for Coffee and Nap\n",
    "mean_CN = 451.3 \n",
    "SD_CN = 31.9 \n",
    "size = 15\n",
    "\n",
    "tValue = stats.t.ppf(1 - alpha / 2, size - 1)\n",
    "\n",
    "LowerCI_CN = mean_CN - tValue * (SD_CN / np.sqrt(size))\n",
    "UpperCI_CN = mean_CN + tValue * (SD_CN / np.sqrt(size))\n",
    "print(\"CI for Coffee and Nap = [{:0.3f} , {:0.3f}]\".format(LowerCI_CN, UpperCI_CN))\n",
    "\n",
    "#CI for just Coffee\n",
    "mean_C = 494.2\n",
    "SD_C = 39.6\n",
    "\n",
    "LowerCI_C = mean_C - tValue * (SD_C / np.sqrt(size))\n",
    "UpperCI_C = mean_C + tValue * (SD_C / np.sqrt(size))\n",
    "print(\"CI for just Coffee = [{:.03f}, {:.03f}]\".format(LowerCI_C, UpperCI_C))\n",
    "\n",
    "#CI for just Nap\n",
    "mean_N = 492.8\n",
    "SD_N = 45.2\n",
    "\n",
    "LowerCI_N = mean_N - tValue * (SD_N / np.sqrt(size))\n",
    "UpperCI_N = mean_N + tValue * (SD_N / np.sqrt(size))\n",
    "print(\"CI for just Nap = [{:.03f}, {:.03f}]\".format(LowerCI_N, UpperCI_N))"
   ]
  },
  {
   "cell_type": "markdown",
   "metadata": {},
   "source": [
    "1.\n",
    "\n",
    "CI for Coffee and Nap = [430.630 , 471.970]\n",
    "\n",
    "CI for just Coffee = [468.540, 519.860]\n",
    "\n",
    "CI for just Nap = [463.512, 522.088]\n",
    "\n",
    "Since the CIs are overlaping, we can't really conclude whether coffee, naps, or both are better for faster reaction times.\n",
    "\n"
   ]
  },
  {
   "cell_type": "markdown",
   "metadata": {},
   "source": [
    "2 .\n",
    "\n",
    "Since the sample size is relatively small, we would use t-distribution"
   ]
  },
  {
   "cell_type": "markdown",
   "metadata": {},
   "source": [
    "**Part B**: Use an appropriate hypothesis test to determine if there sufficient evidence, at the $\\alpha = 0.025$ significance level, to conclude that taking a nap promotes faster reaction time than drinking coffee.  Be sure to clearly explain the test that you're doing and state all hypotheses. Do all computations in Python, and report results."
   ]
  },
  {
   "cell_type": "markdown",
   "metadata": {},
   "source": [
    "We are supporting the claim with p-value test\n",
    "\n",
    "Hypothesis where $\\mu_{N}$ is taking nap and $\\mu_{C}$ is taking coffee:\n",
    "\n",
    "$H_0 : \\mu_{N} - \\mu_{C} = 0$\n",
    "\n",
    "$H_1 : \\mu_{N} - \\mu_{C} < 0 $\n",
    "\n",
    "The test-statistic equation :\n",
    "\n",
    "$T = \\dfrac{\\bar{x}_N - \\bar{x}_C }{\\sqrt{\\frac{ SD_{N}^2 }{size_N} + \\frac{ SD_{C}^2 }{size_C} } }$\n",
    "\n",
    "To compute p-value with test-statistic:\n",
    "\n",
    "stats.t.cdf.(tValue, dof)\n",
    "\n"
   ]
  },
  {
   "cell_type": "code",
   "execution_count": 59,
   "metadata": {},
   "outputs": [
    {
     "name": "stdout",
     "output_type": "stream",
     "text": [
      "T = -0.090\n",
      "p-value = 0.464\n"
     ]
    }
   ],
   "source": [
    "alpha = 0.025\n",
    "\n",
    "mean_N = 492.8 \n",
    "SD_N = 45.2\n",
    "size_N = 15\n",
    "\n",
    "mean_C = 494.2\n",
    "SD_C = 39.6\n",
    "size_C = 15\n",
    "\n",
    "dof = size_N + size_C - 2\n",
    "\n",
    "numerator = mean_N - mean_C\n",
    "denomerator = np.sqrt((SD_N**2) / size_N + (SD_C**2) / size_C)\n",
    "tValue = numerator / denomerator\n",
    "\n",
    "print(\"T = {:.3f}\".format(tValue))\n",
    "\n",
    "p_value = stats.t.cdf(tValue, dof)\n",
    "print(\"p-value = {:.3f}\".format(p_value))\n"
   ]
  },
  {
   "cell_type": "markdown",
   "metadata": {},
   "source": [
    "**P-value:**\n",
    "P-value $= 0.464 > 0.025 $\n",
    "\n",
    "From above, since p value is bigger than target significance level. we can't conclude that taking nap is better than drinking coffee. Therefore, we can't reject the null hypothesis."
   ]
  },
  {
   "cell_type": "markdown",
   "metadata": {},
   "source": [
    "**Part C**: Use an appropriate hypothesis test to determine if there is sufficient evidence, at the $\\alpha = 0.025$ significance level, to conclude that taking a coffee-nap promotes faster reaction time than only drinking coffee, or only having a nap.  Be sure to clearly explain the test that you're doing and state all hypotheses. Do all computations in Python, and report results."
   ]
  },
  {
   "cell_type": "markdown",
   "metadata": {},
   "source": [
    "Similar to Part B.\n",
    "\n",
    "We are supporting the claim with p-value test\n",
    "\n",
    "Where $\\mu_{CN}$ is taking coffee-nap and $\\mu_{C}$ is taking coffee\n",
    "\n",
    "$H_0 : \\mu_{CN} - \\mu_{C} = 0$\n",
    "\n",
    "$H_1 : \\mu_{CN} - \\mu_{C} < 0 $\n",
    "\n",
    "The test-statistic equation:\n",
    "\n",
    "$T = \\dfrac{\\bar{x}_{CN} - \\bar{x}_C }{\\sqrt{\\frac{ SD_{CN}^2 }{size_{CN}} + \\frac{ SD_{C}^2 }{size_C} } }$\n",
    "\n",
    "To compute p-value with test-statistic:\n",
    "\n",
    "stats.t.cdf.(tValue, dof)"
   ]
  },
  {
   "cell_type": "code",
   "execution_count": 109,
   "metadata": {},
   "outputs": [
    {
     "name": "stdout",
     "output_type": "stream",
     "text": [
      "T = -3.267\n",
      "P-value = 0.001\n"
     ]
    }
   ],
   "source": [
    "# coffee-nap versus coffee\n",
    "alpha = 0.025\n",
    "\n",
    "mean_CN = 451.3\n",
    "SD_CN = 31.9\n",
    "size_CN = 15\n",
    "\n",
    "mean_C = 494.2\n",
    "SD_C = 39.6\n",
    "size_C = 15\n",
    "\n",
    "dof = size_CN + size_C - 2\n",
    "\n",
    "numerator = mean_CN - mean_C\n",
    "denomerator = np.sqrt((SD_CN**2) / size_CN + (SD_C**2) / size_C)\n",
    "tValue = numerator / denomerator\n",
    "\n",
    "print(\"T = {:.3f}\".format(tValue))\n",
    "p_value = stats.t.cdf(tValue, dof)\n",
    "\n",
    "print(\"P-value = {:.03f}\".format(p_value))"
   ]
  },
  {
   "cell_type": "markdown",
   "metadata": {},
   "source": [
    "\n",
    "p-value = 0.001 < 0.025\n",
    "\n",
    "From above, since the p-value is smaller than significance level, we can conclude that taking coffee-nap promotes faster reaction than just drinking coffee at 97.5% confidence level. Therefore, we reject the null hypothesis."
   ]
  },
  {
   "cell_type": "markdown",
   "metadata": {},
   "source": [
    "Similar to above.\n",
    "\n",
    "We are supporting the claim with p-value test\n",
    "\n",
    "Where $\\mu_{CN}$ is taking coffee-nap and $\\mu_{N}$ is taking nap:\n",
    "\n",
    "$H_0 : \\mu_{CN} - \\mu_{N} = 0$\n",
    "\n",
    "$H_1 : \\mu_{CN} - \\mu_{N} < 0 $\n",
    "\n",
    "The test-statistic equation:\n",
    "\n",
    "$T = \\dfrac{\\bar{x}_{CN} - \\bar{x}_N }{\\sqrt{\\frac{ SD_{CN}^2 }{size_{CN}} + \\frac{ SD_{N}^2 }{size_N} } }$\n",
    "\n",
    "To compute p-value with test-statistic:\n",
    "\n",
    "stats.t.cdf.(tValue, dof)\n"
   ]
  },
  {
   "cell_type": "code",
   "execution_count": 105,
   "metadata": {},
   "outputs": [
    {
     "name": "stdout",
     "output_type": "stream",
     "text": [
      "T = -2.905\n",
      "P-value = 0.004\n"
     ]
    }
   ],
   "source": [
    "# coffee-nap versus nap\n",
    "alpha = 0.025\n",
    "\n",
    "mean_CN = 451.3\n",
    "SD_CN = 31.9\n",
    "size_CN = 15\n",
    "\n",
    "mean_N  = 492.8\n",
    "SD_N = 45.2\n",
    "size_N = 15\n",
    "\n",
    "dof = size_CN + size_N - 2\n",
    "\n",
    "numerator = mean_CN - mean_N\n",
    "denomerator = np.sqrt((SD_CN**2) / size_CN + (SD_N**2) / size_N)\n",
    "tValue = numerator / denomerator\n",
    "\n",
    "print(\"T = {:.3f}\".format(tValue))\n",
    "p_value = stats.t.cdf(tValue, dof)\n",
    "\n",
    "print(\"P-value = {:.03f}\".format(p_value))"
   ]
  },
  {
   "cell_type": "markdown",
   "metadata": {},
   "source": [
    "**P-value:**\n",
    "p-value = 0.004 < 0.025\n",
    "\n",
    "From above, since the p-value is smaller than significance level, we can conclude that taking coffee-nap promotes faster reaction than just taking nap at 97.5% confidence level. Therefore, we reject the null hypothesis."
   ]
  },
  {
   "cell_type": "markdown",
   "metadata": {},
   "source": [
    "**Part D**: Compute a 97.5% confidence interval for the standard deviation of reaction time for coffee-nap takers. Do all computations in Python, and report the results."
   ]
  },
  {
   "cell_type": "code",
   "execution_count": 103,
   "metadata": {},
   "outputs": [
    {
     "name": "stdout",
     "output_type": "stream",
     "text": [
      "22.388646811088417 , 54.06880904564164\n",
      "\n"
     ]
    }
   ],
   "source": [
    "alpha = 0.025\n",
    "\n",
    "SD = 31.9\n",
    "size = 15\n",
    "\n",
    "chi_alp = stats.chi2.ppf(alpha / 2, size - 1)\n",
    "chi_one_minus_alp = stats.chi2.ppf((1 - (alpha / 2)), size - 1)\n",
    "numerator = (size - 1) * (SD**2) \n",
    "RightCI = np.sqrt(numerator/chi_alp)\n",
    "LeftCI = np.sqrt(numerator/chi_one_minus_alp)\n",
    "\n",
    "print(LeftCI, \",\", RightCI)\n",
    "print()\n"
   ]
  },
  {
   "cell_type": "markdown",
   "metadata": {},
   "source": [
    "Therefore, [22.389, 54.069] is the 97.5 percent confidence interval for the standard deviation of reaction time for coffee-nap takers"
   ]
  },
  {
   "cell_type": "code",
   "execution_count": null,
   "metadata": {},
   "outputs": [],
   "source": []
  }
 ],
 "metadata": {
  "kernelspec": {
   "display_name": "Python 3",
   "language": "python",
   "name": "python3"
  },
  "language_info": {
   "codemirror_mode": {
    "name": "ipython",
    "version": 3
   },
   "file_extension": ".py",
   "mimetype": "text/x-python",
   "name": "python",
   "nbconvert_exporter": "python",
   "pygments_lexer": "ipython3",
   "version": "3.8.5"
  }
 },
 "nbformat": 4,
 "nbformat_minor": 4
}
