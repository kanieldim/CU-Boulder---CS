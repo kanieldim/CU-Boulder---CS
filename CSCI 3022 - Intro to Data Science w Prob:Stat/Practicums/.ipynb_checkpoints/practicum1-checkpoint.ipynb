{
 "cells": [
  {
   "cell_type": "markdown",
   "metadata": {},
   "source": [
    "<a id='top'></a>\n",
    "\n",
    "# CSCI 3022: Intro to Data Science - Summer 2019 Practicum 1\n",
    "***\n",
    "\n",
    "This practicum is due on Canvas by **5 PM on Friday July 5**. Your solutions to theoretical questions should be done in Markdown/MathJax directly below the associated question.  Your solutions to computational questions should include any specified Python code and results as well as written commentary on your conclusions.  \n",
    "\n",
    "**Here are the rules:** \n",
    "\n",
    "1. All work, code and analysis, must be your own. \n",
    "1. You may use your course notes, posted lecture slides, textbooks, in-class notebooks, and homework solutions as resources.  You may also search online for answers to general knowledge questions like the form of a probability distribution function or how to perform a particular operation in Python/Pandas. \n",
    "1. This is meant to be like a coding portion of your midterm exam. So, the instructional team will be much less helpful than we typically are with homework. For example, we will not check answers, help debug your code, and so on.\n",
    "1. If something is left open-ended, it is because we want to see how you approach the kinds of problems you will encounter in the wild, where it will not always be clear what sort of tests/methods should be applied. Feel free to ask clarifying questions though.\n",
    "2. You may **NOT** post to message boards or other online resources asking for help.\n",
    "3. You may **NOT** copy-paste solutions *from anywhere*.\n",
    "4. You may **NOT** collaborate with classmates or anyone else.\n",
    "5. In short, **your work must be your own**. It really is that simple.\n",
    "\n",
    "Violation of the above rules will result in an immediate academic sanction (*at the very least*, you will receive a 0 on this practicum or an F in the course, depending on severity), and a trip to the Honor Code Council.\n",
    "\n",
    "**By submitting this assignment, you agree to abide by the rules given above.**\n",
    "\n",
    "***\n",
    "\n",
    "**Name**: \n",
    "\n",
    "***\n",
    "\n",
    "\n",
    "**NOTES**: \n",
    "\n",
    "- You may not use late days on the practicums nor can you drop your practicum grades. \n",
    "- If you have a question for us, post it as a **PRIVATE** message on Piazza.  If we decide that the question is appropriate for the entire class, then we will add it to a Practicum clarifications thread. \n",
    "- Do **NOT** load or use any Python packages that are not available in Anaconda 3.6. \n",
    "- Some problems with code may be autograded.  If we provide a function API **do not** change it.  If we do not provide a function API then you're free to structure your code however you like. \n",
    "- Submit only this Jupyter notebook to Canvas.  Do not compress it using tar, rar, zip, etc. \n",
    "- This should go without saying, but... For any question that asks you to calculate something, you **must show all work to receive credit**. Sparse or nonexistent work will receive sparse or nonexistent credit.\n",
    "\n",
    "---\n",
    "**Shortcuts:**  [Problem 1](#p1) | [Problem 2](#p2) | [Bottom](#bot)\n",
    "\n",
    "---"
   ]
  },
  {
   "cell_type": "code",
   "execution_count": 274,
   "metadata": {},
   "outputs": [],
   "source": [
    "from scipy import stats\n",
    "import numpy as np \n",
    "import pandas as pd\n",
    "import matplotlib.pyplot as plt\n",
    "%matplotlib inline"
   ]
  },
  {
   "cell_type": "markdown",
   "metadata": {},
   "source": [
    "\n",
    "\n",
    "<a id='p1'></a>\n",
    "\n",
    "### [50 points] Problem 1: Sonic or Tails?"
   ]
  },
  {
   "cell_type": "markdown",
   "metadata": {},
   "source": [
    "<img src=\"http://www.cs.colorado.edu/~tonyewong/home/resources/hedgehog_coin.jpg\" style=\"width: 500px;\"/>"
   ]
  },
  {
   "cell_type": "markdown",
   "metadata": {},
   "source": [
    "In the file `flipadelphia.csv` you will find the results of an experiment that was conducted by Amy, the famous hedgehog data scientist, as she was flipping a coin one sunny day in a meadow. This is no ordinary coin, however: this coin has on one side Sonic, and on the other side Tails! The two sides of this coin are above, and at [this link](http://www.cs.colorado.edu/~tonyewong/home/resources/hedgehog_coin.jpg).\n",
    "\n",
    "In Amy's experiment she repeatedly flipped the coin until it came up Sonic. After each trial, she recorded her observed value for $X=$ the number of flips required to see the first Sonic. The results are stored in `flipadelphia.csv`.\n",
    "\n",
    "Amy has a lot of coins for performing cool data science experiments, and these coins have different biases (not all unique). Amy is a forgetful hedgehog, so she isn't sure which coin she was flipping. Her coins have biases of $p_S=.2, .3, .4, .5, .6, .7$ and $.8$, where $p_S$ is the probability of any given flip coming up Sonic."
   ]
  },
  {
   "cell_type": "markdown",
   "metadata": {},
   "source": [
    "**Part A:** Read in the data set and make a frequency histogram of the data. Be sure to label your axes appropriately, and center your bins above the integer numbers of flips (0, 1, 2, etc...). What is the name of the distribution for the random variable that Amy observed and recorded in her data table?"
   ]
  },
  {
   "cell_type": "code",
   "execution_count": 275,
   "metadata": {},
   "outputs": [
    {
     "data": {
      "image/png": "[encoded data removed]",
      "text/plain": [
       "<Figure size 864x576 with 1 Axes>"
      ]
     },
     "metadata": {
      "needs_background": "light"
     },
     "output_type": "display_data"
    }
   ],
   "source": [
    "#---------------------Basic read in file and set up the plot--------------------\n",
    "data=pd.read_csv(\"flipadelphia.csv\",header=None)\n",
    "fig,axes= plt.subplots(figsize=(12,8))\n",
    "\n",
    "data.hist(ax=axes,facecolor=\"red\",edgecolor=\"white\",bins=[0.5,1.5,2.5,3.5,4.5,5.5,6.5]) #builds the histogram; bins make it center on the numbers\n",
    "\n",
    "#------------------Prettifiers (makes the data easy to see and easy to read)---------------\n",
    "axes.set_title(\"Flip Frequency\",fontsize=24)\n",
    "axes.set_ylabel(\"Frequency\",fontsize=16)\n",
    "axes.set_xlabel(\"Number of Flips\",fontsize=16)\n",
    "axes.set_xlim(0.5,5.5)\n",
    "axes.grid(alpha=0.25) #Adds a transparent grid\n",
    "axes.set_axisbelow(True) #makes the transparent grid below the bars"
   ]
  },
  {
   "cell_type": "markdown",
   "metadata": {},
   "source": [
    "**Part B:** Use the distribution that you identified in Part A to determine $P(X=n \\mid p_S=0.5)$, the probability that Amy would observe the first Sonic flip on the $n$-th flip, assuming that the coin is fair ($p_S=0.5$), for each of the $n$ from her 10 trials in her data set. Then, combine these to find the overall *likelihood* that she would observe her entire data set, assuming that the coin was fair. That is, estimate $P(\\text{data} \\mid p_S=0.5)$. Be sure to note any assumptions you make about how the outcome of one trial relates to the outcomes of the others.\n",
    "\n",
    "If it helps to have some mathematical notation, consider that Amy's data set consists of the results of all 10 of her trials: $$\\text{data} = (X_1 = n_1) \\cap (X_2 = n_2) \\cap \\ldots (X_{10} = n_{10})$$"
   ]
  },
  {
   "cell_type": "markdown",
   "metadata": {},
   "source": [
    "Flips: p=P(Sonic),(1-p)=P(Tails)\n",
    "\n",
    "Keep flipping until Sonic. One p, flips-1 (1-p)\n",
    "\n",
    "Probability=$p(p-1)^{k-1}$, k=data[n]\n",
    "\n",
    "\n",
    "\n",
    "For Data: $ (X_1 = n_1) \\cap (X_2 = n_2) \\cap \\ldots (X_{10} = n_{10})$\n",
    "\n",
    "Data=P($ (X_1 = n_1) \\cap (X_2 = n_2) \\cap \\ldots (X_{10} = n_{10})$)\n",
    "\n",
    "Data=$P(n_1) * P(n_2) \\ldots P(n_{10})$ Via the Law of Total Probability, since all flips are independent\n",
    "\n",
    "Data=$P(p_s|n_1)P(n_1) + P(p_s|n_2)P(n_2) \\ldots P(p_s|n_{10})P(n_{10})$"
   ]
  },
  {
   "cell_type": "code",
   "execution_count": 276,
   "metadata": {},
   "outputs": [
    {
     "name": "stdout",
     "output_type": "stream",
     "text": [
      "The probability this dataset occurs is 0.29375\n"
     ]
    }
   ],
   "source": [
    "#---------------------------Holders of the basics and variable definitions-----------------\n",
    "dataArray=data[0] #put the data at 0 into an array-like form for easier calling\n",
    "ps=0.5\n",
    "summ=0\n",
    "trial=0\n",
    "\n",
    "#------------Takes the trial number and the bias to calculate probability---------\n",
    "def prob_given_n(n,p):\n",
    "    attempt=dataArray[n] #gets the data at n\n",
    "    tails=(1-p)**(attempt-1) #Geometric series (1-p)^k-1\n",
    "    sonic=p #The success condition\n",
    "    return sonic*tails \n",
    "\n",
    "for i in range(0,10):\n",
    "    trial=prob_given_n(i,ps)\n",
    "    summ=summ+(trial*0.1)\n",
    "    \n",
    "print(\"The probability this dataset occurs is {}\".format(summ))"
   ]
  },
  {
   "cell_type": "markdown",
   "metadata": {},
   "source": [
    "**Part C:** Suppose before we observed Amy's data set, we believe that each of the seven possible coin biases occur with equal probability, $P(p_S)$. This is called the _prior distribution_ for the coin bias, $p_S$, because we have not yet taken into account Amy's data set.\n",
    "* Now, estimate the probability of each possible bias, given the data: $P(p_S \\mid \\text{data})$.  This is called the _posterior distribution_ for the coin bias, because it is our assessment of the coin's bias _after_ we have accounted for Amy's data.\n",
    "* Make a line plot of the bias along x-axis versus the posterior probability of that bias along the y-axis, and be sure to label your axes. \n",
    "* Comment on your plot. What appears to be the most probable value for the bias, $p_S$? This is called the _maximum a posteriori_ estimate, because it maximizes the posterior distribution and sounds very, *very* fancy."
   ]
  },
  {
   "cell_type": "markdown",
   "metadata": {},
   "source": [
    "Bayes' Rule: P(A|B)=$\\frac{P(B|A)P(A)}{P(B|A)P(A)+P(B|A^c)P(A^c)}$\n",
    "\n",
    "$P(p_s|data)= \\frac{P(data|p_s)P(p_s)}{P(data|p_s)P(p_s)+P(data|p_s^c)P(p_s^c)}$\n",
    "\n",
    "There are 7 possible coins\n",
    "\n",
    "$P(p_s|data)= \\frac{P(data|p_s)*\\frac{1}{7}}{P(data|p_s) * \\frac{1}{7}+P(data|p_s^c) * \\frac{6}{7}}$"
   ]
  },
  {
   "cell_type": "code",
   "execution_count": 277,
   "metadata": {},
   "outputs": [
    {
     "data": {
      "image/png": "[encoded data removed]",
      "text/plain": [
       "<Figure size 864x576 with 1 Axes>"
      ]
     },
     "metadata": {
      "needs_background": "light"
     },
     "output_type": "display_data"
    }
   ],
   "source": [
    "#--------------------------Basic Definitions----------------------\n",
    "dataArray=data[0] #Easy holder so I do not have to do data[0][n]\n",
    "ps=np.array([0.2,0.3,0.4,0.5,0.6,0.7,0.8]) #Array for the different possible weights\n",
    "probs=np.zeros(7)\n",
    "fig,axes= plt.subplots(figsize=(12,8))\n",
    "\n",
    "#------------Takes the trial number and the bias to calculate probability, copied here in case you want to run this one before the last one---------\n",
    "def prob_given_n(n,p):\n",
    "    attempt=dataArray[n] #gets the data at n\n",
    "    tails=(1-p)**(attempt-1) #Geometric series (1-p)^k-1\n",
    "    sonic=p #The success condition\n",
    "    return sonic*tails\n",
    "\n",
    "#-------------Calculates the probability for each bias given the data vis Bayes' Rule----------------\n",
    "for i in range(0,7):\n",
    "    #these are defined and set here so we do not accidentally have data from a previous loop being added in\n",
    "    summ=0\n",
    "    trial=0\n",
    "    \n",
    "    #Loop to go through each value for the given weights\n",
    "    for ii in range(0,10):\n",
    "        trial=prob_given_n(ii,ps[i])\n",
    "        summ=summ+(trial*0.1)\n",
    "        \n",
    "    #Math for Bayes' Rule, which is calculated and stored in an array to plot\n",
    "    numerator=summ*(1/7)\n",
    "    denominator=numerator+((1-summ)*(6/7))\n",
    "    prob=numerator/denominator\n",
    "    probs[i]=prob\n",
    "\n",
    "plt.plot(ps,probs) #Plots the line on the graph\n",
    "\n",
    "#---------------------Prettifiers----------------------------\n",
    "axes.set_title(\"Flip Probabilities\",fontsize=24)\n",
    "axes.set_ylabel(\"Probability\",fontsize=16)\n",
    "axes.set_xlabel(\"Bias\",fontsize=16)\n",
    "axes.grid(alpha=0.25)\n",
    "axes.set_axisbelow(True)"
   ]
  },
  {
   "cell_type": "markdown",
   "metadata": {},
   "source": [
    "It seems the higher the bias toward sonic, the more likely the bias is to occur. Bias 0.8 follows this by being the most likely. Of course, more flips could be used to appropriately approximate this and the high amount of single flips to get Sonic could be swaying the data. "
   ]
  },
  {
   "cell_type": "markdown",
   "metadata": {},
   "source": [
    "**Part D:** Now suppose the prior probability distribution of the coins is not uniform. Namely, suppose these probabilities follow a ***triangular distribution***, centered at $p_S=0.5$:\n",
    "$$P(p_S = p) = \\begin{cases} mp & p \\leq 0.5 \\\\ m(1-p) & p > 0.5 \\end{cases}$$\n",
    "\n",
    "Determine what value the constant $m$ should have in order to make $P(p_S = p)$ is a valid probability mass function. Remember, $p_S \\in \\{.2, .3, \\ldots , .7, .8\\}$ and is discrete."
   ]
  },
  {
   "cell_type": "markdown",
   "metadata": {},
   "source": [
    "1=$\\sum_{i}^{n} f(x)$\n",
    "\n",
    "Values only within 0.2-0.8, values increment by 0.1 bias\n",
    "\n",
    "1=$\\sum_{0.2}^{0.4} mp + \\sum_{0.5}^{0.8} m(1-p) dp$\n",
    "\n",
    "1=m(0.2)+m(0.3)+m(0.4)+m(1-0.5)+m(1-0.6)+m(1-0.7)+m(1-0.8)\n",
    "\n",
    "1=m(0.2+0.3+0.4+0.5+0.4+0.3+0.2)\n",
    "\n",
    "$\\frac{1}{m}$=0.2+0.3+0.4+0.5+0.4+0.3+0.2\n",
    "\n",
    "$\\frac{1}{m}$=2.3\n",
    "\n",
    "$\\frac{1}{m}$=$\\frac{23}{10}$\n",
    "\n",
    "m=$\\frac{10}{23}$"
   ]
  },
  {
   "cell_type": "markdown",
   "metadata": {},
   "source": [
    "**Part E:** Compare, using words, the triangular prior distribution (this part) and the uniform prior distribution (from Part C).  What does each represent in terms of our _prior_ knowledge of the coin bias?"
   ]
  },
  {
   "cell_type": "markdown",
   "metadata": {
    "collapsed": true
   },
   "source": [
    "The uniform distribution was telling us it was equally likely any of these biases were possible, thus putting more emphasis on the higher values for a higher likelyhood to have been flipped. The triangular prior, on the other hand, gives the impression that a fair coin is the most likely with those almost fair being still more likely than the absurdly weighted coins. The interest is shifted from \"There are quite a few lower numbers of flips, so there was probably quite a bit more usage of the weighted coins\" to \"wow, it is more likely to be fair overall and sonic still came up often on the first few flips\". It also puts more of a feeling on the idea that the large number of flips of 5 were more likely just getting unlucky with a more fair coin than picking a coin weighted toward the tails side, which could simply be written off as tails weighted coins in a uniform distribution."
   ]
  },
  {
   "cell_type": "markdown",
   "metadata": {},
   "source": [
    "<br>\n",
    "\n",
    "---\n",
    "[Back to top](#top)\n",
    "<a id='p2'></a>\n",
    "\n",
    "### [50 points] Problem 2: Yahtzee!"
   ]
  },
  {
   "cell_type": "markdown",
   "metadata": {},
   "source": [
    "**Part A:** You are playing [Yahtzee](https://en.wikipedia.org/wiki/Yahtzee) with your friends. A player's turn in Yahtzee consists of rolling a set of 5 dice. Then the player is given two additional rolls, where they are allowed to re-roll any number of the dice, including potentially all of them or none of them. The goal is to obtain certain combinations of the dice values resulting after the third roll. Different combinations are worth different amounts of points, and the goal of the game is to get as many points as possible.\n",
    "\n",
    "This game of Yahtzee is a bit unlike any you have ever played before, however. This is because Darth Ketelsen is back, and with her she brought her famous **5-sided dice**. These are fair dice with sides numbered 1-5. So, you are playing Yahtzee with a Sith Lord with 5-sided dice. Indeed, things just got real.\n",
    "\n",
    "A **straight** in Darth Ketelsen's game consists of 5 values all in a row. For example, the outcome $[1,2,3,4,5]$ is a  straight but the outcome $[1,2,3,4,4]$ is not.\n",
    "\n",
    "**Do two things:**\n",
    "1. Compute by hand the probability of rolling a straight in a single roll of all 5 dice. Show all work.\n",
    "2. Write a simulation to verify the probability that you computed. Run at least 10,000 simulations. "
   ]
  },
  {
   "cell_type": "markdown",
   "metadata": {},
   "source": [
    "Possibilites= P(5,1)^5 (P(5,1) must be multiplied by itself 5 times for the chances, which is P(5,1)^5)\n",
    "\n",
    "Possibilities=3125\n",
    "\n",
    "Possibilities Straight: P(5,5)=120\n",
    "\n",
    "120/3125=0.0384"
   ]
  },
  {
   "cell_type": "code",
   "execution_count": 278,
   "metadata": {},
   "outputs": [
    {
     "name": "stdout",
     "output_type": "stream",
     "text": [
      "The probability of a straight is 0.03796\n"
     ]
    }
   ],
   "source": [
    "#-----------A die and size definition for use in number of loops and rolling-----------\n",
    "die=np.array([1,2,3,4,5])\n",
    "size=100000\n",
    "\n",
    "#----------Rolls the die up to 5 times to simulate a roll, ends if a duplicate occurs----------\n",
    "def die_straight():\n",
    "    rolls=np.zeros(5) #holder of rolled values\n",
    "    \n",
    "    #For loop to roll each value\n",
    "    for i in range(0,5):\n",
    "        roll=np.random.choice(die) #roll\n",
    "        if i==0:\n",
    "            rolls[i]=roll #The first roll is unique by definition, so it is stored\n",
    "        else:\n",
    "            #For loop to check against previous rolls for duplicates\n",
    "            for ii in range(0,i):\n",
    "                if rolls[ii]==roll:\n",
    "                    return 0\n",
    "            rolls[i]=roll #Stores the roll once the loop is done, as it would have returned otherwise\n",
    "    return 1\n",
    "\n",
    "result=np.zeros(size) #holder of straights\n",
    "#For loop to roll potential straights, holds 1 if it was a straight and 0 if not\n",
    "for i in range(0,size):\n",
    "    result[i]=die_straight()\n",
    "\n",
    "prob=np.sum(result==1)/len(result) #Takes the amount of straights over the amount of rolls\n",
    "print(\"The probability of a straight is {}\".format(prob))"
   ]
  },
  {
   "cell_type": "markdown",
   "metadata": {},
   "source": [
    "**Part B:** The goal of this problem is to compute the probability of getting a straight using all three of your rolls, instead of just the single roll approach that you computed in Part A. Here, we'll need to implement a strategy so that after the first roll and after the second roll, we keep the dice that get us closer to a straight and re-roll the dice that are not useful for our straight.\n",
    "\n",
    "For instance, suppose your first roll comes up $[1,2,3,3,3]$. You really want to get that straight! So, you would follow the strategy of saving the $[1,2,3]$ and re-roll two of the threes, hoping for a 4 and 5 to get the straight. Then, for your third roll, you would save as many of the dice as possible that would be part of a straight, and re-roll any remaining dice.\n",
    "\n",
    "Finish the function below called `dire_straights` to simulate many complete 3-roll turns, and computes the probability of ending your turn with a straight. The only input to the function should be `ntrial`, an integer for the number of turns to simulate. Remember, each turn consists of 3 rolls.\n",
    "\n",
    "Then, use your function to estimate the probability of a straight after a full turn of Yahtzee. Use at least 10,000 simulations, and comment on the results."
   ]
  },
  {
   "cell_type": "code",
   "execution_count": 279,
   "metadata": {},
   "outputs": [],
   "source": [
    "die=np.array([1,2,3,4,5]) #die definition in case this box is run before the others\n",
    "\n",
    "#-------------Checks a single turn for which values should be kept----------------\n",
    "def check_keep(turn,keep,unique,start,end):\n",
    "    c=unique #holder of the initial unique value as to be manipulated as needed\n",
    "    #For loop that goes through each value in the turn to check it for duplicates\n",
    "    for ii in range(start,end):\n",
    "        #For loop to check a single value to see if it is a duplicate\n",
    "        for iii in range(0,c):\n",
    "            if keep[iii]==turn[ii]:\n",
    "                break #Stop checking if it is already a proven duplicate\n",
    "            if iii==c-1:\n",
    "                keep[iii+1]=turn[ii] #Keeps the value if it is the end, and thus not a duplicate\n",
    "                c=c+1 #increment the unique counter\n",
    "    return keep, c\n",
    "\n",
    "#-----------------Function to roll a single turn and check for straights--------------\n",
    "def one_turn():\n",
    "    keep=np.zeros(5) #Defines the keep array for this turn\n",
    "    \n",
    "    firstTurn=np.random.choice(die,size=5) #The first roll of the turn\n",
    "    keep[0]=firstTurn[0] #Automatically sets the first value to keep because the first is always unique\n",
    "    keep,unique=check_keep(firstTurn,keep,1,0,5) #Checks to see if we should keep it\n",
    "        \n",
    "    if unique==5: #Tells us it is a straight if all values are unique\n",
    "        return 1\n",
    "            \n",
    "    nextRoll=5-unique #Calculates the number to roll given we kept a certain number\n",
    "    secondTurn=np.random.choice(die, size=nextRoll) #Second roll of the turn\n",
    "    keep,unique=check_keep(secondTurn,keep,unique,0,nextRoll) #Another check to see what to keep\n",
    "    \n",
    "    if unique==5: #Check if it is now a straight after this roll\n",
    "        return 1\n",
    "        \n",
    "    nextRoll=5-unique #Calculates the number to roll given we kept a certain number\n",
    "    finalTurn=np.random.choice(die, size=nextRoll) #Final roll\n",
    "    keep,unique=check_keep(finalTurn,keep,unique,0,nextRoll) #Another check to check uniqueness\n",
    "    \n",
    "    if unique==5: #Final call for the case it is a straight\n",
    "        return 1\n",
    "    return 0 #The case the turn ends and it is not a straight\n",
    "\n",
    "def dire_straights(ntrial):\n",
    "    result=np.zeros(ntrial) #holder for straights\n",
    "    \n",
    "    #For loop to simulate a turn for the amount of trials given\n",
    "    for i in range(0,ntrial):\n",
    "        result[i]=one_turn()\n",
    "        \n",
    "    prob=np.sum(result==1)/len(result) #Gets the probability from the number of straights over the amount of turns\n",
    "    return prob"
   ]
  },
  {
   "cell_type": "code",
   "execution_count": 280,
   "metadata": {},
   "outputs": [
    {
     "name": "stdout",
     "output_type": "stream",
     "text": [
      "The probability of a straight in a full turn is 0.3006\n"
     ]
    }
   ],
   "source": [
    "print(\"The probability of a straight in a full turn is {}\".format(dire_straights(10000)))"
   ]
  },
  {
   "cell_type": "markdown",
   "metadata": {},
   "source": [
    "Given that the chance of getting a 5-die straight on the first roll being a measly 0.04, the chance for re-rolls really bumps up the chances to get a strait. This comes to approximately 0.3, which gives for interesting chances for a game without directly giving the straight outright."
   ]
  },
  {
   "cell_type": "markdown",
   "metadata": {},
   "source": [
    "**Part C:** Write a simulation to estimate the probability of obtaining a straight if the first roll contains exactly three distinct unique values. For example, a valid first roll could be $[1,5,3,3,3]$ but not $[1,3,3,4,5]$. You are still using the set of 5-sided dice."
   ]
  },
  {
   "cell_type": "code",
   "execution_count": 281,
   "metadata": {},
   "outputs": [],
   "source": [
    "die=np.array([1,2,3,4,5]) #Dice definition again   \n",
    "\n",
    "#-------------Checks a single turn for which values should be kept, copied from above in case this one is run before the box before this------------------\n",
    "def check_keep(turn,keep,unique,start,end):\n",
    "    c=unique #holder of the initial unique value as to be manipulated as needed\n",
    "    #For loop that goes through each value in the turn to check it for duplicates\n",
    "    for ii in range(start,end):\n",
    "        #For loop to check a single value to see if it is a duplicate\n",
    "        for iii in range(0,c):\n",
    "            if keep[iii]==turn[ii]:\n",
    "                break #Stop checking if it is already a proven duplicate\n",
    "            if iii==c-1:\n",
    "                keep[iii+1]=turn[ii] #Keeps the value if it is the end, and thus not a duplicate\n",
    "                c=c+1 #increment the unique counter\n",
    "    return keep, c\n",
    "\n",
    "#-------------Randomizes the 3 unique values so we get more than just the basic setting 123-----------\n",
    "def uniquify(array):\n",
    "    isUnique=0 #A value to break the while loop once all is unique\n",
    "    \n",
    "    #A while loop to keep randomizing until all 3 values are unique\n",
    "    while isUnique==0:\n",
    "        if array[0]==array[1]: #[0] is unique by default, so checking if [1] is not\n",
    "            array[1]=np.random.choice(die) #reroll if not unique\n",
    "            continue #breaks the current iteration and starts again\n",
    "        if array[0]==array[2]: #Checking if [2] is not unique compared to the default [0]\n",
    "            array[2]=np.random.choice(die) #reroll\n",
    "            continue #break iteration\n",
    "        if array[1]==array[2]: #Now that both are unique from the default, are they unique from each other?\n",
    "            array[2]=np.random.choice(die) #reroll\n",
    "            continue #break iteration\n",
    "        \n",
    "        isUnique=1 #All is unique, while loop can now be broken\n",
    "    return array\n",
    "\n",
    "#------------Goes through one turn like previously, just with a 3 unique start------------------\n",
    "def three_unique():\n",
    "    firstThree=np.random.choice(die,size=3) #rolls the first three\n",
    "    start=uniquify(firstThree) #makes the 3 unique\n",
    "    unique=3 #Set the unique variable to the 3 we know are unique\n",
    "    \n",
    "    c=start[0] #Copying the unique value at the front so we know there are exactly 3 unique values\n",
    "    first=np.append(start,[c,c]) #appends the last two to the unique ones to make the first roll\n",
    "    keep=np.append(start,[0,0]) #appends 0,0 to the unique values as we know we are keeping them\n",
    "    \n",
    "    secondTurn=np.random.choice(die, size=2) #Roll 2. We know 3 are unique, so 2 must be not\n",
    "    keep,unique=check_keep(secondTurn,keep,unique,0,2) #Check if we should keep any of the new values\n",
    "    \n",
    "    if unique==5: #Checks if we created a straight\n",
    "        return 1\n",
    "        \n",
    "    nextRoll=5-unique #Back on track with the one turn, check how many we have to roll\n",
    "    finalTurn=np.random.choice(die, size=nextRoll) #Final roll\n",
    "    keep,unique=check_keep(finalTurn,keep,unique,0,nextRoll) #Checks for uniqueness in the final roll\n",
    "    \n",
    "    if unique==5: #Returns 1 if it is a straight\n",
    "        return 1\n",
    "    return 0 #Can only get here if not a straight, so return 0"
   ]
  },
  {
   "cell_type": "code",
   "execution_count": 282,
   "metadata": {},
   "outputs": [
    {
     "name": "stdout",
     "output_type": "stream",
     "text": [
      "The probability of a straight given 3 unique values is 0.2186\n"
     ]
    }
   ],
   "source": [
    "size=10000 #Amount of times to loop through the function\n",
    "\n",
    "result=np.zeros(size) #holder of straights\n",
    "\n",
    "#For loop to go through the turn with 3 unique values the specified amount of times\n",
    "for i in range(0,size):\n",
    "    result[i]=three_unique()\n",
    "    \n",
    "prob=np.sum(result==1)/len(result) #The probability of a straight\n",
    "print(\"The probability of a straight given 3 unique values is {}\".format(prob))"
   ]
  },
  {
   "cell_type": "markdown",
   "metadata": {},
   "source": [
    "**Part D:** Verify your calculation from Part C by hand. Show all work, and comment on whether the two agree.\n",
    "\n",
    "*Hint: you will need to consider a variety of different cases - what are all the ways you could end up with a straight, given that your first roll contained exactly 3 unique values?*"
   ]
  },
  {
   "cell_type": "markdown",
   "metadata": {
    "collapsed": true
   },
   "source": [
    "(Note, I typed this out while trying to logic this out then moved parts around to flow better; sorry it is a lot to read)\n",
    "\n",
    "The different possibilities for two dice is P(5,1)^2, which is 25\n",
    "\n",
    "The second roll is always going to roll 2 dice, so that has 25 possibilities\n",
    "\n",
    "The final roll can be anywhere from rolling 2 dice to 1 dice (zero dice does not count). (25+5)/2=15\n",
    "\n",
    "25 * 10=375\n",
    "\n",
    "The first roll had 3 die choose from all 5 values, but the other two had to be the same as the other three\n",
    "\n",
    "125 * P(3,1)^2=125 * 9=1125\n",
    "\n",
    "All 3 rolls then had 1125 * 375 permutations, =421875\n",
    "\n",
    "The total number of possible values in those second two roles 2 rolls is 25 * 25=625\n",
    "\n",
    "The first roll took into account all 5 dice being rolled not considering the other requirements, making for 3125.\n",
    "\n",
    "The total of all 3 rolls is 625 * 3125, which is 1953125\n",
    "\n",
    "421875 / 1953125= 0.216"
   ]
  },
  {
   "cell_type": "markdown",
   "metadata": {
    "collapsed": true
   },
   "source": [
    "**My comments:**\n",
    "    The two values are pretty close, however, the simulation tends more toward 0.22 with multiple trials. In part c, i tried to \n",
    "\n",
    "emulate important parts of the prompt (ie randomizing unique values instead of just using 123 as the first 3) without adding\n",
    "\n",
    "too much unnecessary work. It is possible I missed something while trying to work out this part, but since the difference is\n",
    "\n",
    "so small, I think it is more likely that the difference is just variance caused by how simulation gets its answer."
   ]
  },
  {
   "cell_type": "markdown",
   "metadata": {},
   "source": [
    "<br>\n",
    "\n",
    "---\n",
    "[Back to top](#top)\n",
    "<a id='bot'></a>"
   ]
  }
 ],
 "metadata": {
  "kernelspec": {
   "display_name": "Python 3",
   "language": "python",
   "name": "python3"
  },
  "language_info": {
   "codemirror_mode": {
    "name": "ipython",
    "version": 3
   },
   "file_extension": ".py",
   "mimetype": "text/x-python",
   "name": "python",
   "nbconvert_exporter": "python",
   "pygments_lexer": "ipython3",
   "version": "3.8.5"
  }
 },
 "nbformat": 4,
 "nbformat_minor": 2
}
