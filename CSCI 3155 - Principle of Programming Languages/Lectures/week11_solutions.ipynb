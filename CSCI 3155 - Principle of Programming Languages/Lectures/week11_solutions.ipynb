{
 "cells": [
  {
   "cell_type": "markdown",
   "metadata": {},
   "source": [
    "## Continuation Passing Style and Scala Futures"
   ]
  },
  {
   "cell_type": "markdown",
   "metadata": {},
   "source": [
    "In Scala, Futures are used to wrap asynchronous computation. When you need a result, you can wait for the Future to have a result using `Await.result(future)`. The almond scala kernel updates the Future automatically. Futures work in a similar way to CPS because when the result is available, your code is called with that result as an argument.\n",
    "\n",
    "Here we create a function that takes a continuation `k` and uses a library to send a GET request to a url. We wrap the call in a Future and map results to their response text and then call `k` on each result."
   ]
  },
  {
   "cell_type": "code",
   "execution_count": null,
   "metadata": {
    "scrolled": true
   },
   "outputs": [],
   "source": [
    "import $ivy.`com.lihaoyi::requests:0.6.5`\n",
    "import scala.concurrent.{ Future, Await }\n",
    "import scala.concurrent.ExecutionContext.Implicits.global\n",
    "\n",
    "def http_get(url: String, k: String => String): Future[String] =\n",
    "    Future(requests.get(url)).map(_.text).map(k)"
   ]
  },
  {
   "cell_type": "code",
   "execution_count": null,
   "metadata": {},
   "outputs": [],
   "source": [
    "val shakira_url = \"http://www.mocky.io/v2/5c6fa3fc3400004e5f8931a6\"\n",
    "\n",
    "val res = http_get(shakira_url, _ + \" lie\")"
   ]
  },
  {
   "cell_type": "markdown",
   "metadata": {},
   "source": [
    "## Parametric Polymorphism and Generic Types"
   ]
  },
  {
   "cell_type": "markdown",
   "metadata": {},
   "source": [
    "Parametric Polymorphism (https://en.wikipedia.org/wiki/Parametric_polymorphism) is a language feature that allows us to write functions and classes with arguments and member variables that have types that are not yet defined. This means that such functions can be used on many different types (they are \"generic\" or \"polymorphic\" functions or classes). The \"parametric\" part means that we need to parameterize the unspecified types using symbols meaning \"these are the same type.\""
   ]
  },
  {
   "cell_type": "code",
   "execution_count": null,
   "metadata": {},
   "outputs": [],
   "source": [
    "// id takes an argument of type T and returns that argument80301\n",
    "def id[T](x: T): T = x\n"
   ]
  },
  {
   "cell_type": "code",
   "execution_count": null,
   "metadata": {},
   "outputs": [],
   "source": [
    "val example = id(List(2))"
   ]
  },
  {
   "cell_type": "code",
   "execution_count": null,
   "metadata": {},
   "outputs": [],
   "source": [
    "case class MyClass[T](t: T) {\n",
    "    def get: T = t\n",
    "}"
   ]
  },
  {
   "cell_type": "code",
   "execution_count": null,
   "metadata": {},
   "outputs": [],
   "source": [
    "val x: Int = MyClass(2).get\n",
    "val y: List[Int] = MyClass(List(2)).get\n",
    "val z = MyClass(\"2\").get"
   ]
  },
  {
   "cell_type": "markdown",
   "metadata": {},
   "source": [
    "Taking an example from https://twitter.github.io/scala_school/type-basics.html#parametricpoly we see that Scala has \"rank-1\" polymorphism, meaning that we can't define higher order functions that call polymorphic functions. For more see https://papl.cs.brown.edu/2014/para-poly.html\n",
    "      "
   ]
  },
  {
   "cell_type": "code",
   "execution_count": null,
   "metadata": {},
   "outputs": [],
   "source": [
    "def makeListFrom[A](f: A => List[A]): List[A] = f(2)"
   ]
  },
  {
   "cell_type": "markdown",
   "metadata": {},
   "source": [
    "## Exercise: Write the type signature of the following functions"
   ]
  },
  {
   "cell_type": "code",
   "execution_count": null,
   "metadata": {},
   "outputs": [],
   "source": [
    "def applyTwice(f: Int => Int, x: Int) = f(f(x))\n",
    "// BEGIN SOLUTION\n",
    "// applyTwice: (Int => Int, Int) => Int\n",
    "// END SOLUTION"
   ]
  },
  {
   "cell_type": "code",
   "execution_count": null,
   "metadata": {},
   "outputs": [],
   "source": [
    "def applyTwiceCurried(f: Int => Int)(x : Int) = f(f(x))\n",
    "// BEGIN SOLUTION\n",
    "// applyTwiceCurried: (Int => Int) => Int => Int\n"
   ]
  },
  {
   "cell_type": "code",
   "execution_count": null,
   "metadata": {},
   "outputs": [],
   "source": [
    "// List[A].map\n",
    "// BEGIN SOLUTION\n",
    "// List[A] => (A => B) => List[B]\n",
    "// END SOLUTION\n",
    "\n",
    "List(1) map (_: Int => String)"
   ]
  },
  {
   "cell_type": "code",
   "execution_count": null,
   "metadata": {},
   "outputs": [],
   "source": [
    "// List[A].filter\n",
    "// BEGIN SOLUTION\n",
    "// List[A] => (A => Boolean) => List[A]\n",
    "// END SOLUTION\n",
    "\n",
    "List(1) filter _"
   ]
  },
  {
   "cell_type": "code",
   "execution_count": null,
   "metadata": {},
   "outputs": [],
   "source": [
    "// List[A].zip \n",
    "// BEGIN SOLUTION\n",
    "// List[A] => List[B] => List[(A, B)]\n",
    "// END SOLUTION\n",
    "\n",
    "List(1) zip (_: List[String])"
   ]
  },
  {
   "cell_type": "markdown",
   "metadata": {},
   "source": [
    "## Exercise: Write a function that corresponds to the following type signatures"
   ]
  },
  {
   "cell_type": "code",
   "execution_count": null,
   "metadata": {},
   "outputs": [],
   "source": [
    "// (Int => Int) => (Int => Int) => Int\n",
    "\n",
    "// Example solution 1\n",
    "def foo1(f1: Int => Int)(f2: Int => Int) = f1(f2(0))\n",
    "\n",
    "// Example solution 2\n",
    "def foo2(f1: Int => Int)(f2: Int => Int) = 1\n",
    "foo2 _"
   ]
  },
  {
   "cell_type": "code",
   "execution_count": null,
   "metadata": {},
   "outputs": [],
   "source": [
    "// (Int, Int, Int) => (Int => Int)\n",
    "\n",
    "// Example solution\n",
    "def foo(x: Int, y: Int, z: Int) = (p: Int) => p + 1\n",
    "foo _"
   ]
  }
 ],
 "metadata": {
  "celltoolbar": "Create Assignment",
  "kernelspec": {
   "display_name": "Scala 2.12",
   "language": "scala",
   "name": "scala212"
  },
  "language_info": {
   "codemirror_mode": "text/x-scala",
   "file_extension": ".sc",
   "mimetype": "text/x-scala",
   "name": "scala",
   "nbconvert_exporter": "script",
   "version": "2.12.12"
  }
 },
 "nbformat": 4,
 "nbformat_minor": 2
}
